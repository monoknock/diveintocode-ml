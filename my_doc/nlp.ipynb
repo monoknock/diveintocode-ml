{
 "cells": [
  {
   "cell_type": "markdown",
   "metadata": {},
   "source": [
    "### TF-IDF\n",
    "$$\n",
    "【通常】\\\\\n",
    "TF \\hspace{50pt} tf(t,d) = \\frac{n_{t,d}}{\\sum_{s \\in d}n_{s,d}}\\\\\n",
    "TF(他のやり方) \\hspace{50pt} {\\mathrm{tf}(t, d) = \\log(1+f_{t,d})}\\\\\n",
    "IDF \\hspace{50pt} idf(t) = \\log{\\frac{N}{df(t)}}\\\\\n",
    "(logの底は任意の値)\\\\\n",
    "TF-IDF \\hspace{50pt} tfidf(t, d) = tf(t, d) \\times idf(t)\n",
    "$$\n",
    "<br><br>\n",
    "$$\n",
    "n_{t,d} : サンプルd内のトークンtの出現回数（BoWと同じ）\\\\\n",
    "\\sum_{s \\in d}n_{s,d} : サンプルdの全トークンの出現回数の和\\\\\n",
    "N : サンプル数\\\\\n",
    "df(t) : トークンtが出現するサンプル数\\\\\n",
    "$$\n",
    "<br><br>\n",
    "$$\n",
    "【sklearnのTF-IDF】\\\\\n",
    "TF \\hspace{50pt} tf(t,d) = n_{t,d}\\\\\n",
    "IDF \\hspace{50pt} idf(t) = \\log{\\frac{1+N}{1+df(t)}}+1\\\\\n",
    "$$"
   ]
  },
  {
   "cell_type": "code",
   "execution_count": null,
   "metadata": {},
   "outputs": [],
   "source": []
  },
  {
   "cell_type": "code",
   "execution_count": null,
   "metadata": {},
   "outputs": [],
   "source": []
  },
  {
   "cell_type": "code",
   "execution_count": null,
   "metadata": {},
   "outputs": [],
   "source": []
  }
 ],
 "metadata": {
  "kernelspec": {
   "display_name": "Python 3",
   "language": "python",
   "name": "python3"
  },
  "language_info": {
   "codemirror_mode": {
    "name": "ipython",
    "version": 3
   },
   "file_extension": ".py",
   "mimetype": "text/x-python",
   "name": "python",
   "nbconvert_exporter": "python",
   "pygments_lexer": "ipython3",
   "version": "3.8.5"
  }
 },
 "nbformat": 4,
 "nbformat_minor": 4
}
