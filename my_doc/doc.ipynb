{
 "cells": [
  {
   "cell_type": "markdown",
   "metadata": {
    "pycharm": {
     "name": "#%% md\n"
    }
   },
   "source": [
    "$$\n",
    "活性化関数\\\\\n",
    "シグモイド関数 \\hspace{50pt} \\sigma(e) = \\frac{1}{1+e^{-a}} \\hspace{70pt}\n",
    "微分 \\hspace{50pt} \\frac{\\partial\\sigma(a)}{\\partial a} = \\sigma(a)(1-\\sigma(a)) \\\\\n",
    "ハイパボリックタンジェント \\hspace{20pt} tanh(a) = \\frac{e^{a}-e^{-a}}{e^{a}+e^{-a}} \\hspace{40pt}\n",
    "微分 \\hspace{50pt} \\sigma \\frac{tanh(a)}{\\sigma a} = \\frac{4}{(e^{a}+e^{-a})^{2}} \\\\\n",
    "ReLu \\hspace{70pt} relu(a) = max(0,a) \\hspace{50pt}\n",
    "微分 \\hspace{30pt} \\frac{\\sigma relu(a)}{\\sigma a}  = \\left\\{\n",
    "\\begin{array}{ll}\n",
    "0 & (a \\leq 0) \\\\\n",
    "1 & (a > 0)\n",
    "\\end{array}\n",
    "\\right.\n",
    "$$\n",
    "\n"
   ]
  },
  {
   "cell_type": "markdown",
   "metadata": {},
   "source": [
    "```\n",
    "学習率: η\n",
    "重み: w\n",
    "バイアス: b\n",
    "幅\n",
    "深さ\n",
    "```"
   ]
  },
  {
   "cell_type": "markdown",
   "metadata": {},
   "source": [
    "<img src=\"activation_func.png\" width=\"600\">"
   ]
  },
  {
   "cell_type": "markdown",
   "metadata": {},
   "source": [
    "$$\n",
    "内積 \\hspace{20pt} a・b \\hspace{20pt} ⟨a,b⟩ \\hspace{20pt} np.dot(a, b) \\hspace{20pt} a @ b  (python3.5以上)\n",
    "$$"
   ]
  },
  {
   "cell_type": "code",
   "execution_count": null,
   "metadata": {},
   "outputs": [],
   "source": []
  },
  {
   "cell_type": "code",
   "execution_count": null,
   "metadata": {},
   "outputs": [],
   "source": []
  },
  {
   "cell_type": "code",
   "execution_count": null,
   "metadata": {},
   "outputs": [],
   "source": []
  }
 ],
 "metadata": {
  "kernelspec": {
   "display_name": "Python 3",
   "language": "python",
   "name": "python3"
  },
  "language_info": {
   "codemirror_mode": {
    "name": "ipython",
    "version": 3
   },
   "file_extension": ".py",
   "mimetype": "text/x-python",
   "name": "python",
   "nbconvert_exporter": "python",
   "pygments_lexer": "ipython3",
   "version": "3.8.5"
  }
 },
 "nbformat": 4,
 "nbformat_minor": 4
}
