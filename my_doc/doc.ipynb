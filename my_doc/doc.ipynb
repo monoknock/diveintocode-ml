{
 "cells": [
  {
   "cell_type": "markdown",
   "metadata": {
    "pycharm": {
     "name": "#%% md\n"
    }
   },
   "source": [
    "### ディープラーニング\n",
    "\n",
    "$$\n",
    "活性化関数\\\\\n",
    "シグモイド関数 \\hspace{50pt} \\sigma(e) = \\frac{1}{1+e^{-a}} \\hspace{70pt}\n",
    "微分 \\hspace{50pt} \\frac{\\partial\\sigma(a)}{\\partial a} = \\sigma(a)(1-\\sigma(a)) \\\\\n",
    "ハイパボリックタンジェント \\hspace{20pt} tanh(a) = \\frac{e^{a}-e^{-a}}{e^{a}+e^{-a}} \\hspace{40pt}\n",
    "微分 \\hspace{50pt} \\sigma \\frac{tanh(a)}{\\sigma a} = \\frac{4}{(e^{a}+e^{-a})^{2}} \\\\\n",
    "ReLu \\hspace{70pt} relu(a) = max(0,a) \\hspace{50pt}\n",
    "微分 \\hspace{30pt} \\frac{\\sigma relu(a)}{\\sigma a}  = \\left\\{\n",
    "\\begin{array}{ll}\n",
    "0 & (a \\leq 0) \\\\\n",
    "1 & (a > 0)\n",
    "\\end{array}\n",
    "\\right.\n",
    "$$\n",
    "\n"
   ]
  },
  {
   "cell_type": "markdown",
   "metadata": {},
   "source": [
    "<img src=\"img/activation_func.png\" width=\"600\">\n",
    "\n",
    "```\n",
    "学習率: η\n",
    "重み: w\n",
    "バイアス: b\n",
    "幅\n",
    "深さ\n",
    "```"
   ]
  },
  {
   "cell_type": "markdown",
   "metadata": {},
   "source": [
    "### 線形回帰\n",
    "\n",
    "$$ 最急降下法 \\hspace{50pt} x' = x - α*y' $$\n",
    "$$ 仮定関数(単回帰) \\hspace{50pt} \\hat{y} = w_0 + w_1x $$\n",
    "$$ 仮定関数(重回帰) \\hspace{20pt} \\hat{y} = h_θ(x) = θ_0 + θ_1x_1 + ... + θ_nx_n \\hspace{20pt} = θ^{T}・x$$\n",
    "$$※ややこしい計算をせずとも θ^{T}・x で計算できることがポイント$$\n",
    "$$ 最小二乗法 \\hspace{50pt} (\\hat{y} - y)^{2} = (w_0 + w_1x - y)^{2} $$\n",
    "$$ 平均二乗誤差 \\hspace{50pt} MSE(X,θ) = \\frac{1}{m}\\sum_{i=1}^{m}(θ^{T}・x_i - y_i) \\hspace{10pt} m=特徴量の数?$$\n",
    "<br>\n",
    "<br>\n",
    "$$\n",
    "【最急降下法】\\\\\n",
    "最適化したいパラメータ:θ\\\\\n",
    "θ_i^{k+1} \\hspace{10pt} = θ_i^k - α∇L \\hspace{10pt}= θ_i^k-α\\frac{\\partial L}{\\partial θ_i}\\\\\n",
    "【目的関数、損失関数、誤差関数、評価関数】\\\\\n",
    "※こいつらはすべて等価の意味合いで良いのか？\\\\\n",
    "L(θ) = \\frac{1}{m}\\sum_{i=1}^{m}(h_θ(x^{(i)}) - y^{(i)})^2\\\\\n",
    "J(θ) = \\frac{1}{2m}\\sum_{i=1}^{m}(h_θ(x^{(i)}) - y^{(i)})^2\\\\\n",
    "θ_j := θ_j - α\\frac{1}{m}\\sum_{i=1}^{m}(h_θ(x^{(i)}) - y^{(i)}) x_j^{(i)}\\\\\n",
    "$$\n",
    "<br>\n",
    "<br>\n",
    "$$\n",
    "【説明】\\\\\n",
    "\\hat{y}：予測された値\\\\\n",
    "n：特徴量数\\\\\n",
    "x_i：i番目の特徴量の値\\\\\n",
    "θ_j：j番目のモデルのパラメータ\\\\\n",
    "θ：モデルのパラメータベクトル\\\\\n",
    "x：特徴量ベクトル (x_0=1)\\\\\n",
    "θ^T: θの転置\\\\\n",
    "θ^{-1}: θの逆行列\\\\\n",
    "※行列はべき乗がない？のでべき乗の空間を別の意味で使っているっぽい\\\\\n",
    "∇:ナブラ\\\\\n",
    "∂:「ラウンドディー」「デル」「ディー」「ヤコビのデルタ」「パーシャルディー」\n",
    "$$\n",
    "\n",
    "\n",
    "\n",
    "最急降下法  \n",
    "<img src=\"img/gradient_descent.png\" width=\"600\">  \n",
    "ノルム  \n",
    "<img src=\"img/norm.png\" width=\"600\">\n"
   ]
  },
  {
   "cell_type": "markdown",
   "metadata": {},
   "source": []
  },
  {
   "cell_type": "markdown",
   "metadata": {},
   "source": []
  },
  {
   "cell_type": "markdown",
   "metadata": {},
   "source": [
    "### その他\n",
    "\n",
    "axis  \n",
    "<img src=\"img/axis.png\" width=\"300\">  \n"
   ]
  },
  {
   "cell_type": "markdown",
   "metadata": {},
   "source": [
    "$$\n",
    "【数式】\\\\\n",
    "ｙ∝ｘ (yがxに比例している)\\\\\n",
    "ｙ∝^{-1}ｘ (yがxに反比例している)\\\\\n",
    "ｙ∝ｘ^{-1} (yがxに反比例している)\\\\\n",
    "$$\n",
    "\n",
    "$$\n",
    "【微分】\\\\\n",
    "微分演算子: \\frac{d}{d x}f(x) = \\frac{d f(x)}{d x} = f'(x)\\\\\n",
    "※f(x)をxで微分する、と表現する\\\\\n",
    "※f(x)は式長い場合は外に出すとかそういう使い方じゃなかろうか\\\\\n",
    "▼式の原型\\\\\n",
    "\\frac{d}{d x}f(x) = \\lim_{h \\to 0}\\frac{f(x+h)-f(x)}{h} \\\\\n",
    "▼覚えておくと便利な性質①\\\\\n",
    "f(x) = x^{n} とすると、\\\\\n",
    "\\frac{d}{d x}f(x) = nx^{n-1}\\\\\n",
    "▼覚えておくと便利な性質②\\\\\n",
    "\\frac{d}{d x}(f(x) + g(x)) = \\frac{d}{d x}f(x) + \\frac{d}{d x}g(x)\\\\\n",
    "▼覚えておくと便利な性質③\\\\\n",
    "a = xに無関係な定数の微分は0\\\\\n",
    "\\frac{d}{d x}a = 0\\\\\n",
    "▼覚えておくと便利な性質④\\\\\n",
    "a = xに無関係な定数の微分は0\\\\\n",
    "\\frac{d}{d x}\\sum_{i=0}^{n}x^n = \\sum_{i=0}^{n}\\frac{d}{d x}x^n\\\\\n",
    "$$\n",
    "\n",
    "$$\n",
    "【偏微分】\\\\\n",
    "微分したい値のみのこし、それ以外の変数は定数化することで、無理やり微分できる形にする\\\\\n",
    "※偏微分のときは d を \\partial で記載する\\\\\n",
    "h(x_1, x_2) = x_1^2 + x_2^3\\\\\n",
    "とした場合にx_2で偏微分した例\\\\\n",
    "\\frac{\\partial}{\\partial x_2}h(x_1, x_2) = 3x^2\\\\\n",
    "x_1は定数化して、微分時に0になるため、偏微分対象の値だけ残る\n",
    "$$\n",
    "\n",
    "<br><br><br><br><br>"
   ]
  },
  {
   "cell_type": "markdown",
   "metadata": {},
   "source": [
    "$$\n",
    "【ベクトル】\\\\\n",
    "▼内積\\\\\n",
    "左の列数と右の行数を合わせる\\\\\n",
    "$$\n",
    "<div style=\"text-align:center\"><img src=\"img/matrix_multi.png\" width=\"300\"></div>\n",
    "\n",
    "$$\n",
    "行列積は掛ける順番を入れ替えると値が変わる AB!=BA\\\\\n",
    "行列積がややこしい理由:\\\\\n",
    "「楽な計算と交換法則」を犠牲にしても、得られる大きなメリットがある\\\\\n",
    "今は理解できないので省略\\\\\n",
    "▼内積例\\\\\n",
    "ベクトル(1,2) * ベクトル(2,1) = スカラ\\\\\n",
    "ベクトル(1,3) * 行列(3,2) = ベクトル(1,2)\\\\\n",
    "行列(4,2) * 行列(2,3) = 行列(4,3)\\\\\n",
    "▼転置\\\\\n",
    "行と列を入れ替える\\\\\n",
    "$$\n",
    "<div style=\"text-align:center\"><img src=\"img/transpose1.png\" width=\"300\"></div>\n",
    "<div style=\"text-align:center\"><img src=\"img/transpose2.png\" width=\"300\"></div>\n",
    "\n"
   ]
  },
  {
   "cell_type": "code",
   "execution_count": null,
   "metadata": {},
   "outputs": [],
   "source": []
  }
 ],
 "metadata": {
  "kernelspec": {
   "display_name": "Python 3",
   "language": "python",
   "name": "python3"
  },
  "language_info": {
   "codemirror_mode": {
    "name": "ipython",
    "version": 3
   },
   "file_extension": ".py",
   "mimetype": "text/x-python",
   "name": "python",
   "nbconvert_exporter": "python",
   "pygments_lexer": "ipython3",
   "version": "3.8.5"
  }
 },
 "nbformat": 4,
 "nbformat_minor": 4
}
