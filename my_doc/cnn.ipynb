{
 "cells": [
  {
   "cell_type": "markdown",
   "metadata": {},
   "source": [
    "# 畳み込みニューラルネットワーク\n",
    "\n",
    "## 全体像\n",
    "<div style=\"text-align:center\">\n",
    "    <img src=\"img/cnn/cnn10.png\" width=\"800\">\n",
    "    <img src=\"img/cnn/cnn8.png\" width=\"800\">\n",
    "</div>"
   ]
  },
  {
   "cell_type": "markdown",
   "metadata": {},
   "source": [
    "## 畳み込み層\n",
    "\n",
    "<div style=\"text-align:center\">\n",
    "    <img src=\"img/cnn/cnn1.png\" width=\"500\">\n",
    "    <img src=\"img/cnn/cnn2.png\" width=\"500\">\n",
    "    <img src=\"img/cnn/cnn13.png\" width=\"1000\">\n",
    "    <img src=\"img/cnn/cnn14.png\" width=\"600\">\n",
    "</div>\n"
   ]
  },
  {
   "cell_type": "markdown",
   "metadata": {},
   "source": [
    "## 畳み込み層: フィルタ\n",
    "<div style=\"text-align:center\">\n",
    "<img src=\"img/cnn/cnn12.png\" width=\"300\">\n",
    "<img src=\"img/cnn/cnn5.png\" width=\"500\">\n",
    "<img src=\"img/cnn/cnn6.png\" width=\"500\">\n",
    "</div>"
   ]
  },
  {
   "cell_type": "markdown",
   "metadata": {},
   "source": [
    "### プーリング層\n",
    "<div style=\"text-align:center\">\n",
    "    <img src=\"img/cnn/cnn11.png\" width=\"300\">    \n",
    "    <img src=\"img/cnn/cnn9.png\" width=\"300\">\n",
    "</div>"
   ]
  },
  {
   "cell_type": "markdown",
   "metadata": {},
   "source": [
    "### Feature Map\n",
    "<div>\n",
    "    <img src=\"img/cnn/cnn4.png\" width=\"400\">\n",
    "</div>"
   ]
  },
  {
   "cell_type": "markdown",
   "metadata": {},
   "source": [
    "### その他\n",
    "\n",
    "<div>\n",
    "<img src=\"img/cnn/cnn3.png\" width=\"300\">\n",
    "<img src=\"img/cnn/cnn7.png\" width=\"300\">\n",
    "<img src=\"img/cnn/cnn15.png\" width=\"300\">\n",
    "<div>\n"
   ]
  },
  {
   "cell_type": "markdown",
   "metadata": {},
   "source": [
    "式: \n",
    "\n",
    "$$\n",
    "【畳み込み層 forward】\\\\\n",
    "a_{i,j,m} = \\sum_{k=0}^{K-1}\\sum_{s=0}^{F_{h}-1}\\sum_{t=0}^{F_{w}-1}x_{(i+s),(j+t),k}w_{s,t,k,m}+b_{m}\\\\\n",
    "$$"
   ]
  },
  {
   "cell_type": "code",
   "execution_count": 1,
   "metadata": {},
   "outputs": [],
   "source": [
    "# ゼロつく\n",
    "def forward(self, x):\n",
    "    w_n, w_c, w_h, w_w = self.w.shape   # (n_samples, n_channels, height, width)\n",
    "    n, c, h, w = x.shape                # (n_samples, n_channels, height, width)\n",
    "    out_h = 1 + int((h + 2*self.pad - w_h) / self.stride)\n",
    "    out_w = 1 + int((w + 2*self.pad - w_w) / self.stride)\n",
    "\n",
    "    col = im2col(x, w_h, w_w, self.stride, self.pad)\n",
    "    col_w = self.w.reshape(w_n, -1).T\n",
    "\n",
    "    out = np.dot(col, col_w) + self.b\n",
    "    out = out.reshape(n, out_h, out_w, -1).transpose(0, 3, 1, 2)\n",
    "\n",
    "    return out\n",
    "\n",
    "# jop\n",
    "def forward(self, X):\n",
    "    N,C,H,W = self.X.shape\n",
    "    F,C,FH,FW = self.W.shape\n",
    "    OH,OW = self.output_shape2d(H,W,self.P,self.P,FH,FW,self.S,self.S)\n",
    "    A = np.zeros([N,F,OH,OW])\n",
    "    self.X_pad = np.pad(X,((0,0),(0,0),(self.P,self.P),(self.P,self.P)))\n",
    "\n",
    "    for n in range(N): # n_samples\n",
    "        for ch in range(F): # Output channels\n",
    "            for row in range(0,H,self.S): # Vertical slide\n",
    "                for col in range(0,W,self.S): # # Horizontal Slide\n",
    "                    tmp = self.X_pad[n,:,row:row+FH,col:col+FW] * self.W[ch,:,:,:]\n",
    "                    A[n,ch,row,col] = np.sum(tmp) + self.B[ch]\n",
    "\n",
    "    return self.activation.forward(A)"
   ]
  },
  {
   "cell_type": "markdown",
   "metadata": {},
   "source": [
    "$$\n",
    "【畳み込み層 backward】\\\\\n",
    "\\frac{\\partial L}{\\partial w_{s,t,k,m}} = \\sum_{i=0}^{N_{out,h}-1}\\sum_{j=0}^{N_{out,w}-1} \\frac{\\partial L}{\\partial a_{i,j,m}}x_{(i+s)(j+t),k}\\\\\n",
    "\\frac{\\partial L}{\\partial b_{m}} = \\sum_{i=0}^{N_{out,h}-1}\\sum_{j=0}^{N_{out,w}-1}\\frac{\\partial L}{\\partial a_{i,j,m}}\n",
    "$$"
   ]
  },
  {
   "cell_type": "code",
   "execution_count": null,
   "metadata": {},
   "outputs": [],
   "source": [
    "# ゼロつく\n",
    "def backward(self, dout):\n",
    "    fn, c, fh, fw = self.w.shape\n",
    "    dout = dout.transpose(0,2,3,1).reshape(-1, fn)\n",
    "\n",
    "    self.d_b = np.sum(dout, axis=0)\n",
    "    self.d_w = np.dot(self.col.T, dout)\n",
    "    self.d_w = self.d_w.transpose(1, 0).reshape(fn, c, fh, fw)\n",
    "\n",
    "    dcol = np.dot(dout, self.col_w.T)\n",
    "    dx = col2im(dcol, self.x.shape, fh, fw, self.stride, self.pad)\n",
    "\n",
    "    return dx\n",
    "\n",
    "\n",
    "# jop\n",
    "def backward(self, dZ):\n",
    "    \"\"\"\n",
    "    backward\n",
    "    Parameters\n",
    "    ----------\n",
    "    dA : ndarray of the following form, shape (batch_size, n_nodes2)\n",
    "        The gradient flowed in from behind.\n",
    "    Returns\n",
    "    ----------\n",
    "    dZ : ndarray of the following form, shape (batch_size, n_nodes1)\n",
    "        forward slope\n",
    "    \"\"\"\n",
    "\n",
    "    dA = self.activation.backward(dZ)\n",
    "    N,C,H,W,F,FH,FW,OH,OW = self.params\n",
    "\n",
    "    dZ = np.zeros(self.X_pad.shape)\n",
    "    self.dW = np.zeros(self.W.shape)\n",
    "    self.dB = np.zeros(self.B.shape)\n",
    "\n",
    "    # dZ\n",
    "    # Batch\n",
    "    for n in range(N):\n",
    "        # Output channels\n",
    "        for ch in range(F):\n",
    "            # Vertical slide\n",
    "            for row in range(0,H,self.S):\n",
    "                # Horizontal Slide\n",
    "                for col in range(0,W,self.S):\n",
    "                    dZ[n,:,row:row+FH,col:col+FW] += dA[n,ch,row,col]*self.W[ch,:,:,:]\n",
    "\n",
    "    dl_rows = range(self.P),range(H+self.P,H+2*self.P,1)\n",
    "    dl_cols = range(self.P),range(W+self.P,W+2*self.P,1)\n",
    "\n",
    "    dZ = np.delete(dZ,dl_rows,axis=2)\n",
    "    dZ = np.delete(dZ,dl_cols,axis=3)\n",
    "\n",
    "    # dW\n",
    "    # Batch\n",
    "    for n in range(N):\n",
    "        # Output channels\n",
    "        for ch in range(F):\n",
    "            # Vertical slide\n",
    "            for row in range(OH):\n",
    "                # Horizontal Slide\n",
    "                for col in range(OW):\n",
    "                    self.dW[ch,:,:,:] += dA[n,ch,row,col]*self.X_pad[n,:,row:row+FH,col:col+FW]\n",
    "\n",
    "    # dB\n",
    "    # Output channels\n",
    "    for ch in range(F):\n",
    "        self.dB[ch] = np.sum(dA[:,ch,:,:])\n",
    "\n",
    "    # Update\n",
    "    self = self.optimizer.update(self)\n",
    "\n",
    "    return dZ"
   ]
  },
  {
   "cell_type": "markdown",
   "metadata": {},
   "source": [
    "$$\n",
    "【前に流す誤差の数式】\\\\\n",
    "\\frac{\\partial L}{\\partial x_{i,j,k}} = \\sum_{m=0}^{M-1}\\sum_{s=0}^{F_{h}-1}\\sum_{t=0}^{F_{w}-1} \\frac{\\partial L}{\\partial a_{(i-s),(j-t),m}}w_{s,t,k,m}\n",
    "$$"
   ]
  },
  {
   "cell_type": "code",
   "execution_count": null,
   "metadata": {},
   "outputs": [],
   "source": []
  },
  {
   "cell_type": "code",
   "execution_count": null,
   "metadata": {},
   "outputs": [],
   "source": []
  }
 ],
 "metadata": {
  "kernelspec": {
   "display_name": "Python 3",
   "language": "python",
   "name": "python3"
  },
  "language_info": {
   "codemirror_mode": {
    "name": "ipython",
    "version": 3
   },
   "file_extension": ".py",
   "mimetype": "text/x-python",
   "name": "python",
   "nbconvert_exporter": "python",
   "pygments_lexer": "ipython3",
   "version": "3.8.5"
  }
 },
 "nbformat": 4,
 "nbformat_minor": 4
}
