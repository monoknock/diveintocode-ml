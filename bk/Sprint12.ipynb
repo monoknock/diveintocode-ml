{
  "nbformat": 4,
  "nbformat_minor": 0,
  "metadata": {
    "kernelspec": {
      "display_name": "Python 3",
      "language": "python",
      "name": "python3"
    },
    "language_info": {
      "codemirror_mode": {
        "name": "ipython",
        "version": 3
      },
      "file_extension": ".py",
      "mimetype": "text/x-python",
      "name": "python",
      "nbconvert_exporter": "python",
      "pygments_lexer": "ipython3",
      "version": "3.8.2"
    },
    "toc": {
      "base_numbering": 1,
      "nav_menu": {},
      "number_sections": true,
      "sideBar": true,
      "skip_h1_title": true,
      "title_cell": "目次",
      "title_sidebar": "Contents",
      "toc_cell": true,
      "toc_position": {
        "height": "calc(100% - 180px)",
        "left": "10px",
        "top": "150px",
        "width": "428px"
      },
      "toc_section_display": true,
      "toc_window_display": false
    },
    "colab": {
      "name": "mep_day19_CNN2_en.ipynb",
      "provenance": []
    }
  },
  "cells": [
    {
      "cell_type": "markdown",
      "metadata": {
        "id": "I17rg4QtwK54"
      },
      "source": [
        "# Sprint Deep Learning Scratch Convolutional Neural Network 2"
      ]
    },
    {
      "cell_type": "markdown",
      "metadata": {
        "toc": true,
        "id": "H01oQ8hDwK56"
      },
      "source": [
        "<h1>Table of Contents<span class=\"tocSkip\"></span></h1>\n",
        "<div class=\"toc\"><ul class=\"toc-item\"><li><span><a href=\"#About this Sprint\" data-toc-modified-id=\"About this Sprint-1\"><span class=\"toc-item-num\">1&nbsp;&nbsp;</span>About this Sprint</a></span><ul class=\"toc-item\"><li><span><a href=\"#Purpose of this Sprint\" data-toc-modified-id=\"Purpose of this Sprint-1.1\"><span class=\"toc-item-num\">1.1&nbsp;&nbsp;</span>Purpose of this Sprint</a></span></li><li><span><a href=\"#How to learn\" data-toc-modified-id=\"How to learn-1.2\"><span class=\"toc-item-num\">1.2&nbsp;&nbsp;</span>How to learn</a></span></li></ul></li><li><span><a href=\"#2D Convolutional Neural Network Scratch\" data-toc-modified-id=\"2D Convolutional Neural Network Scratch\"><span class=\"toc-item-num\">2&nbsp;&nbsp;</span>2D Convolutional Neural Network Scratch</a></span><ul class=\"toc-item\"><li><span><a href=\"#Preparing the data set\" data-toc-modified-id=\"Preparing the data set-2.1\"><span class=\"toc-item-num\">2.1&nbsp;&nbsp;</span>Preparing the data set</a></span></li><li><span><a href=\"#Preparation for NN classes and other classes so far\" data-toc-modified-id=\"Preparation for NN classes and other classes so far-2.2\"><span class=\"toc-item-num\">2.2&nbsp;&nbsp;</span>Preparation for NN classes and other classes so far</a></span><ul class=\"toc-item\"><li><span><a href=\"#fully-coonected layer\" data-toc-modified-id=\"fully-coonected layer-2.2.1\"><span class=\"toc-item-num\">2.2.1&nbsp;&nbsp;</span>fully-coonected layer</a></span></li><li><span><a href=\"#initialization\" data-toc-modified-id=\"initialization-2.2.2\"><span class=\"toc-item-num\">2.2.2&nbsp;&nbsp;</span>initialization</a></span></li><li><span><a href=\"#optimization\" data-toc-modified-id=\"optimization-2.2.3\"><span class=\"toc-item-num\">2.2.3&nbsp;&nbsp;</span>optimization</a></span></li><li><span><a href=\"#activation function\" data-toc-modified-id=\"activation function-2.2.4\"><span class=\"toc-item-num\">2.2.4&nbsp;&nbsp;</span>activation function</a></span></li><li><span><a href=\"#Mini Batch\" data-toc-modified-id=\"Mini Batch-2.2.5\"><span class=\"toc-item-num\">2.2.5&nbsp;&nbsp;</span>Mini Batch</a></span></li></ul></li><li><span><a href=\"#【Problem 1】Creating a 2-D convolutional layer\" data-toc-modified-id=\"【Problem 1】Creating a 2-D convolutional layer-2.3\"><span class=\"toc-item-num\">2.3&nbsp;&nbsp;</span>【Problem 1】Creating a 2-D convolutional layer</a></span><ul class=\"toc-item\"><li><span><a href=\"#convolutional layer class\" data-toc-modified-id=\"convolutional layer class-2.3.1\"><span class=\"toc-item-num\">2.3.1&nbsp;&nbsp;</span>convolutional layer class</a></span></li></ul></li><li><span><a href=\"#【Problem 2】Output size after 2-D convolution\" data-toc-modified-id=\"【Problem 2】Output size after 2-D convolution-2.4\"><span class=\"toc-item-num\">2.4&nbsp;&nbsp;</span>【Problem 2】Output size after 2-D convolution</a></span><ul class=\"toc-item\"><li><span><a href=\"#Experiments on 2-D convolution\" data-toc-modified-id=\"Experiments on 2-D convolution-2.4.1\"><span class=\"toc-item-num\">2.4.1&nbsp;&nbsp;</span>Experiments on 2-D convolution</a></span></li></ul></li><li><span><a href=\"#【Problem 3】Create a maximum pooling layer\" data-toc-modified-id=\"【Problem 3】Create a maximum pooling layer-2.5\"><span class=\"toc-item-num\">2.5&nbsp;&nbsp;</span>【Problem 3】Create a maximum pooling layer</a></span></li><li><span><a href=\"#【Problem 4】(Advanced Problem ) Creating an Average Pooling\" data-toc-modified-id=\"【Problem 4】(Advanced Problem ) Creating an Average Pooling-2.6\"><span class=\"toc-item-num\">2.6&nbsp;&nbsp;</span>【Problem 4】(Advanced Problem ) Creating an Average Pooling</a></span></li><li><span><a href=\"#【Problem 5】Flatten\" data-toc-modified-id=\"【Problem 5】Flatten-2.7\"><span class=\"toc-item-num\">2.7&nbsp;&nbsp;</span>【Problem 5】Flatten</a></span></li><li><span><a href=\"#【Problem 6】Learning and Estimation\" data-toc-modified-id=\"【Problem 6】Learning and Estimation-2.8\"><span class=\"toc-item-num\">2.8&nbsp;&nbsp;</span>【Problem 6】Learning and Estimation</a></span></li><li><span><a href=\"#【Problem 7】（(Advanced Problem) LeNet\" data-toc-modified-id=\"【Problem 7】（(Advanced Problem) LeNet-2.9\"><span class=\"toc-item-num\">2.9&nbsp;&nbsp;</span>【Problem 7】（(Advanced Problem) LeNet</a></span></li><li><span><a href=\"#【Problem 8】(Advanced Problem) Survey of famous image recognition models\" data-toc-modified-id=\"【Problem 8】(Advanced Assignment) Survey of famous image recognition models-2.10\"><span class=\"toc-item-num\">2.10&nbsp;&nbsp;</span>【Problem 8】(Advanced Assignment) Survey of famous image recognition models</a></span></li><li><span><a href=\"#【Problem 9】Calculate output size and number of parameters\" data-toc-modified-id=\"【Problem 9】Calculate output size and number of parameters-2.11\"><span class=\"toc-item-num\">2.11&nbsp;&nbsp;</span>【Problem 9】Calculate output size and number of parameters</a></span></li><li><span><a href=\"#【Problem 10】(Advanced Problem) Survey on Filter Size\" data-toc-modified-id=\"【Problem 10】(Advanced Problem) Survey on Filter Size-2.12\"><span class=\"toc-item-num\">2.12&nbsp;&nbsp;</span>【Problem 10】(Advanced Problem) Survey on Filter Size</a></span></li></ul></li></ul></div>"
      ]
    },
    {
      "cell_type": "markdown",
      "metadata": {
        "id": "j1YEIxerwK58"
      },
      "source": [
        "## About this Sprint\n",
        "## Purpose of the Sprint.\n",
        "* Understand the basics of CNNs through scratching.\n",
        "\n",
        "### How to learn\n",
        "After implementing a convolutional neural network for 2D in scratch, we will train and verify it."
      ]
    },
    {
      "cell_type": "markdown",
      "metadata": {
        "id": "1Tt9LxW2wK58"
      },
      "source": [
        "## Convolutional Neural Network for 2D Scratch\n",
        "We will create a convolutional neural network (CNN) class for 2D from scratch.  \n",
        "We will implement the algorithm using only minimal libraries such as NumPy.  \n",
        "  \n",
        "We will also create a pooling layer to complete the basic form of the CNN.  \n",
        "The name of the class should be Scratch2dCNNClassifier.\n",
        "\n",
        "### Prepare the dataset.\n",
        "We will continue to use the MNIST dataset, inputting a 28x28 image into the 2D convolutional layer.\n",
        "\n",
        "In this case, there is only one channel because it is a black and white image, but we need to prepare the axes in the channel direction.\n",
        "\n",
        "It should be in the form of either NCHW with (n_samples, n_channels, height, width) or NHWC with (n_samples, height, width, n_channels)."
      ]
    },
    {
      "cell_type": "code",
      "metadata": {
        "id": "CKpJ0HshwK59"
      },
      "source": [
        "# Import\n",
        "import numpy as np\n",
        "import matplotlib.pyplot as plt\n",
        "\n",
        "# Evaluation index\n",
        "from sklearn.metrics import accuracy_score"
      ],
      "execution_count": null,
      "outputs": []
    },
    {
      "cell_type": "code",
      "metadata": {
        "id": "tQ6ECcWdwK5-"
      },
      "source": [
        "# Download the MNIST dataset\n",
        "from keras.datasets import mnist\n",
        "(X, y), (X_test, y_test) = mnist.load_data()"
      ],
      "execution_count": null,
      "outputs": []
    },
    {
      "cell_type": "code",
      "metadata": {
        "id": "ZqBOBuCiwK5-",
        "outputId": "5ae903d7-1050-41ed-c8f5-2fab4956fc3d"
      },
      "source": [
        "# Check the data\n",
        "print(X.shape) # (60000, 28, 28)\n",
        "print(X.shape) # (10000, 28, 28)\n",
        "print(X[0].dtype) # uint8"
      ],
      "execution_count": null,
      "outputs": [
        {
          "output_type": "stream",
          "text": [
            "(60000, 28, 28)\n",
            "(60000, 28, 28)\n",
            "uint8\n"
          ],
          "name": "stdout"
        }
      ]
    },
    {
      "cell_type": "code",
      "metadata": {
        "id": "A2RmCiqawK6A",
        "outputId": "d9db4ece-a726-4957-d0d7-6ce646be63a4"
      },
      "source": [
        "# Type conversion, normalization\n",
        "X = X.astype(np.float)\n",
        "X_test = X_test.astype(np.float)\n",
        "X /= 255\n",
        "X_test /= 255\n",
        "print(X.max()) # 1.0\n",
        "print(X.min()) # 0.0"
      ],
      "execution_count": null,
      "outputs": [
        {
          "output_type": "stream",
          "text": [
            "1.0\n",
            "0.0\n"
          ],
          "name": "stdout"
        }
      ]
    },
    {
      "cell_type": "code",
      "metadata": {
        "id": "e0uQj2znwK6A",
        "outputId": "4e10b1a5-3647-488b-817b-ddfee58996f4"
      },
      "source": [
        "# One-hot encoding of correct label value\n",
        "from sklearn.preprocessing import OneHotEncoder\n",
        "\n",
        "enc = OneHotEncoder(handle_unknown='ignore', sparse=False)\n",
        "y_one_hot = enc.fit_transform(y[:, np.newaxis])\n",
        "y_test_one_hot = enc.transform(y_test[:, np.newaxis])\n",
        "print(y.shape) # (60000,)\n",
        "print(y_one_hot.shape) # (60000, 10)\n",
        "print(y_one_hot.dtype) # float64"
      ],
      "execution_count": null,
      "outputs": [
        {
          "output_type": "stream",
          "text": [
            "(60000,)\n",
            "(60000, 10)\n",
            "float64\n"
          ],
          "name": "stdout"
        }
      ]
    },
    {
      "cell_type": "code",
      "metadata": {
        "id": "QpkwfoPswK6B",
        "outputId": "4f1f6eac-7d23-44e6-eb08-3c80d857699a"
      },
      "source": [
        "# Split into training data and validation data\n",
        "from sklearn.model_selection import train_test_split\n",
        "\n",
        "X_train, X_valid, y_train, y_valid = train_test_split(X, y_one_hot, test_size=0.2)\n",
        "print(X_train.shape)\n",
        "print(X_valid.shape)\n",
        "print(y_train.shape)\n",
        "print(y_valid.shape)"
      ],
      "execution_count": null,
      "outputs": [
        {
          "output_type": "stream",
          "text": [
            "(48000, 28, 28)\n",
            "(12000, 28, 28)\n",
            "(48000, 10)\n",
            "(12000, 10)\n"
          ],
          "name": "stdout"
        }
      ]
    },
    {
      "cell_type": "markdown",
      "metadata": {
        "id": "UbqbCRZ4wK6B"
      },
      "source": [
        "### Preparing for NN classes and other activities so far"
      ]
    },
    {
      "cell_type": "markdown",
      "metadata": {
        "id": "zEIcp2bPwK6C"
      },
      "source": [
        "#### All binding layers"
      ]
    },
    {
      "cell_type": "code",
      "metadata": {
        "id": "duKjHNocwK6C"
      },
      "source": [
        "class FC:\n",
        "    \"\"\"\n",
        "    Fully connected layers from number of nodes n_nodes1 to n_nodes2\n",
        "    Parameters\n",
        "    ----------\n",
        "    n_nodes1 : int\n",
        "      Number of nodes in the previous layer\n",
        "    n_nodes2 : int\n",
        "      Number of nodes in subsequent layers\n",
        "    initializer : Instances of initialization methods\n",
        "    optimizer : Instances of optimization methods\n",
        "    \"\"\"\n",
        "    def __init__(self, n_nodes1, n_nodes2, initializer, optimizer, activation):\n",
        "        \n",
        "        self.n_nodes1 = n_nodes1\n",
        "        self.n_nodes2 = n_nodes2\n",
        "        self.initializer = initializer\n",
        "        self.optimizer = optimizer\n",
        "        self.activation = activation\n",
        "        # Initialize.\n",
        "        # Use the initializer method to initialize self.W and self.B\n",
        "        self.W = self.initializer.W(self.n_nodes1,self.n_nodes2)\n",
        "        self.B = self.initializer.B(self.n_nodes2)\n",
        "        \n",
        "    def forward(self, X):\n",
        "        \"\"\"\n",
        "        Forward\n",
        "        Parameters\n",
        "        ----------\n",
        "        X : ndarray of the following form, shape (batch_size, n_nodes1)\n",
        "            Input\n",
        "        Returns\n",
        "        ----------\n",
        "        A : ndarray of the following form, shape (batch_size, n_nodes2)\n",
        "            Output\n",
        "        \"\"\"\n",
        "        self.X = X\n",
        "        self.A = np.dot(self.X,self.W) + self.B\n",
        "        \n",
        "        return self.activation.forward(self.A)\n",
        "    \n",
        "    def backward(self, dZ):\n",
        "        \"\"\"\n",
        "        Backward\n",
        "        Parameters\n",
        "        ----------\n",
        "        dA : ndarray of the following form, shape (batch_size, n_nodes2)\n",
        "            The gradient flowed in from behind.\n",
        "        Returns\n",
        "        ----------\n",
        "        dZ : ndarray of the following form, shape (batch_size, n_nodes1)\n",
        "            forward slope\n",
        "        \"\"\"\n",
        "        dA = self.activation.backward(dZ)\n",
        "        self.dB = np.mean(dA,axis=0)\n",
        "        self.dW = np.dot(self.X.T,dA)/len(self.X)\n",
        "        dZ = np.dot(dA,self.W.T)\n",
        "        \n",
        "        # Update\n",
        "        self = self.optimizer.update(self)\n",
        "        \n",
        "        return dZ"
      ],
      "execution_count": null,
      "outputs": []
    },
    {
      "cell_type": "markdown",
      "metadata": {
        "id": "rmW0YtuQwK6C"
      },
      "source": [
        "#### Initialization"
      ]
    },
    {
      "cell_type": "code",
      "metadata": {
        "id": "uD3iuDwMwK6D"
      },
      "source": [
        "class SimpleInitializerConv2d:\n",
        "    \"\"\"\n",
        "    Simple initialization with Gaussian distribution\n",
        "    Parameters\n",
        "    ----------\n",
        "    sigma : float\n",
        "      Standard deviation of Gaussian distribution\n",
        "    \"\"\"\n",
        "    def __init__(self, sigma=0.01):\n",
        "        self.sigma = sigma\n",
        "        \n",
        "    def W(self, F, C, FH, FW):\n",
        "        \"\"\"\n",
        "        Initializing weights\n",
        "        Parameters\n",
        "        ----------\n",
        "        \n",
        "        Returns\n",
        "        ----------\n",
        "        W : weight\n",
        "        \"\"\"\n",
        "        return self.sigma * np.random.randn(F,C,FH,FW)\n",
        "    \n",
        "    def B(self, F):\n",
        "        \"\"\"\n",
        "        Bias initialization\n",
        "        Parameters\n",
        "        ----------\n",
        "\n",
        "        Returns\n",
        "        ----------\n",
        "        B : bias\n",
        "        \"\"\"\n",
        "        return np.zeros(F)"
      ],
      "execution_count": null,
      "outputs": []
    },
    {
      "cell_type": "code",
      "metadata": {
        "id": "AgMADoK2wK6D"
      },
      "source": [
        "class SimpleInitializer:\n",
        "    \"\"\"\n",
        "    Simple initialization with Gaussian distribution\n",
        "    Parameters\n",
        "    ----------\n",
        "    sigma : float\n",
        "      Standard deviation of Gaussian distribution\n",
        "    \"\"\"\n",
        "    def __init__(self, sigma):\n",
        "        self.sigma = sigma\n",
        "        \n",
        "    def W(self, n_nodes1, n_nodes2):\n",
        "        \"\"\"\n",
        "        Initializing weights\n",
        "        Parameters\n",
        "        ----------\n",
        "        n_nodes1 : int\n",
        "          Number of nodes in the previous layer\n",
        "        n_nodes2 : int\n",
        "          Number of nodes in subsequent layers\n",
        "\n",
        "        Returns\n",
        "        ----------\n",
        "        W : weight\n",
        "        \"\"\"\n",
        "        return self.sigma * np.random.randn(n_nodes1, n_nodes2)\n",
        "    \n",
        "    def B(self, n_nodes2):\n",
        "        \"\"\"\n",
        "        Bias initialization\n",
        "        Parameters\n",
        "        ----------\n",
        "        n_nodes2 : int\n",
        "          Number of nodes in subsequent layers\n",
        "\n",
        "        Returns\n",
        "        ----------\n",
        "        B : bias\n",
        "        \"\"\"\n",
        "        return np.zeros(n_nodes2)"
      ],
      "execution_count": null,
      "outputs": []
    },
    {
      "cell_type": "code",
      "metadata": {
        "id": "ILn8pHVEwK6D"
      },
      "source": [
        "class HeInitializer():\n",
        "    \"\"\"\n",
        "    Initialization of weights by He\n",
        "    \"\"\"\n",
        "    def __init__(self):\n",
        "        pass\n",
        "        \n",
        "    def W(self, n_nodes1, n_nodes2):\n",
        "        \"\"\"\n",
        "        Initializing weights\n",
        "        Parameters\n",
        "        ----------\n",
        "        n_nodes1 : int\n",
        "          Number of nodes in the previous layer\n",
        "        n_nodes2 : int\n",
        "          Number of nodes in subsequent layers\n",
        "\n",
        "        Returns\n",
        "        ----------\n",
        "        W : weight\n",
        "        \"\"\"\n",
        "        return np.random.randn(n_nodes1, n_nodes2)*np.sqrt(2/n_nodes1)\n",
        "    \n",
        "    def B(self, n_nodes2):\n",
        "        \"\"\"\n",
        "        Bias initialization\n",
        "        Parameters\n",
        "        ----------\n",
        "        n_nodes2 : int\n",
        "          Number of nodes in subsequent layers\n",
        "\n",
        "        Returns\n",
        "        ----------\n",
        "        B : bias\n",
        "        \"\"\"\n",
        "        return np.zeros(n_nodes2)"
      ],
      "execution_count": null,
      "outputs": []
    },
    {
      "cell_type": "markdown",
      "metadata": {
        "id": "rNM2Pm7ywK6E"
      },
      "source": [
        "#### optimization"
      ]
    },
    {
      "cell_type": "code",
      "metadata": {
        "id": "EiF2CLhvwK6E"
      },
      "source": [
        "class SGD:\n",
        "    \"\"\"\n",
        "    stochastic gradient descent method\n",
        "    Parameters\n",
        "    ----------\n",
        "    lr : learning rate\n",
        "    \"\"\"\n",
        "    def __init__(self, lr=0.01):\n",
        "        self.lr = lr\n",
        "        \n",
        "    def update(self, layer):\n",
        "        \"\"\"\n",
        "        Updating the weights and biases of a layer\n",
        "        Parameters\n",
        "        ----------\n",
        "        layer : An instance of the layer before the update\n",
        "        \"\"\"\n",
        "        layer.W -= self.lr*layer.dW\n",
        "        layer.B -= self.lr*layer.dB\n",
        "        \n",
        "        return layer"
      ],
      "execution_count": null,
      "outputs": []
    },
    {
      "cell_type": "code",
      "metadata": {
        "id": "--IzRaSSwK6E"
      },
      "source": [
        "class AdaGrad:\n",
        "    \"\"\"\n",
        "    stochastic gradient descent method\n",
        "    Parameters\n",
        "    ----------\n",
        "    lr : learning rate\n",
        "    \"\"\"\n",
        "    def __init__(self, lr):\n",
        "        self.lr = lr\n",
        "        self.hW = 0\n",
        "        self.hB = 0\n",
        "        \n",
        "    def update(self, layer):\n",
        "        \"\"\"\n",
        "        Updating the weights and biases of a layer\n",
        "        Parameters\n",
        "        ----------\n",
        "        layer : An instance of the layer before the update\n",
        "        \"\"\"\n",
        "        self.hW += layer.dW*layer.dW\n",
        "        self.hB = layer.dB*layer.dB\n",
        "    \n",
        "        layer.W -= self.lr*layer.dW/(np.sqrt(self.hW) +1e-7)\n",
        "        layer.B -= self.lr*layer.dB/(np.sqrt(self.hB) +1e-7)\n",
        "        \n",
        "        return layer"
      ],
      "execution_count": null,
      "outputs": []
    },
    {
      "cell_type": "markdown",
      "metadata": {
        "id": "GeRr3GtWwK6E"
      },
      "source": [
        "#### Activation function"
      ]
    },
    {
      "cell_type": "code",
      "metadata": {
        "id": "PcVZwcE_wK6F"
      },
      "source": [
        "class ReLU():\n",
        "    \"\"\"\n",
        "    Activation function : ReLU function\n",
        "    \"\"\"\n",
        "    def __init__(self):\n",
        "        pass\n",
        "        \n",
        "    def forward(self,A):\n",
        "        self.A = A\n",
        "        return np.maximum(self.A,0)\n",
        "    \n",
        "    def backward(self,dZ):\n",
        "        \n",
        "        return np.where(self.A>0,dZ,0)"
      ],
      "execution_count": null,
      "outputs": []
    },
    {
      "cell_type": "code",
      "metadata": {
        "id": "Zc3bzSARwK6F"
      },
      "source": [
        "class Softmax():\n",
        "    \"\"\"\n",
        "    Activation Function : Softmax Function\n",
        "    \"\"\"\n",
        "    def __init__(self):\n",
        "        pass\n",
        "        \n",
        "    def forward(self,A):\n",
        "        \n",
        "        return np.exp(A-np.max(A))/np.sum(np.exp(A-np.max(A)),axis=1,keepdims=True)\n",
        "    \n",
        "    def backward(self,dZ):\n",
        "        return dZ"
      ],
      "execution_count": null,
      "outputs": []
    },
    {
      "cell_type": "markdown",
      "metadata": {
        "id": "gnOfhzHiwK6F"
      },
      "source": [
        "#### Mini-batch"
      ]
    },
    {
      "cell_type": "code",
      "metadata": {
        "id": "EqOiXryIwK6F"
      },
      "source": [
        "# Mini-batch processing class\n",
        "class GetMiniBatch:\n",
        "    \"\"\"\n",
        "    Iterator to get the mini-batch\n",
        "\n",
        "    Parameters\n",
        "    ----------\n",
        "    X : ndarray of the following form, shape (n_samples, n_features)\n",
        "      Training data\n",
        "    y : ndarray of the following form, shape (n_samples, 1)\n",
        "      correct value\n",
        "    batch_size : int\n",
        "      Batch size\n",
        "    seed : int\n",
        "      Seeding random numbers in NumPy\n",
        "    \"\"\"\n",
        "    def __init__(self, X, y, batch_size = 20, seed=None):\n",
        "        self.batch_size = batch_size\n",
        "        np.random.seed(seed)\n",
        "        shuffle_index = np.random.permutation(np.arange(X.shape[0]))\n",
        "        self._X = X[shuffle_index]\n",
        "        self._y = y[shuffle_index]\n",
        "        self._stop = np.ceil(X.shape[0]/self.batch_size).astype(np.int)\n",
        "        \n",
        "    def __len__(self):\n",
        "        return self._stop\n",
        "    \n",
        "    def __getitem__(self,item):\n",
        "        p0 = item*self.batch_size\n",
        "        p1 = item*self.batch_size + self.batch_size\n",
        "        return self._X[p0:p1], self._y[p0:p1] \n",
        "    \n",
        "    def __iter__(self):\n",
        "        self._counter = 0\n",
        "        return self\n",
        "    \n",
        "    def __next__(self):\n",
        "        if self._counter >= self._stop:\n",
        "            raise StopIteration()\n",
        "        p0 = self._counter*self.batch_size\n",
        "        p1 = self._counter*self.batch_size + self.batch_size\n",
        "        self._counter += 1\n",
        "        return self._X[p0:p1], self._y[p0:p1]"
      ],
      "execution_count": null,
      "outputs": []
    },
    {
      "cell_type": "markdown",
      "metadata": {
        "id": "o2fxdDrkwK6F"
      },
      "source": [
        "### 【Problem 1】Creating a 2-D convolutional layer\n",
        "Expand the class Conv1d of 1D convolutional layers to create the class Conv2d of 2D convolutional layers.\n",
        "\n",
        "The formula for forward propagation is as follows"
      ]
    },
    {
      "cell_type": "markdown",
      "metadata": {
        "id": "2WGQfEoYwK6G"
      },
      "source": [
        "$$a_{i,j,m} = \\sum_{k=0}^{K-1}\\sum_{s=0}^{F_{h}-1}\\sum_{t=0}^{F_{w}-1}x_{(i+s),(j+t),k}w_{s,t,k,m}+b_{m}$$"
      ]
    },
    {
      "cell_type": "markdown",
      "metadata": {
        "id": "G_G5tefgwK6G"
      },
      "source": [
        "#### convolutional layer class"
      ]
    },
    {
      "cell_type": "code",
      "metadata": {
        "id": "9q7iydz8wK6H"
      },
      "source": [
        "# 2d convolutional layer class\n",
        "class SimpleConv2d():\n",
        "    \"\"\"\n",
        "    2-D convolutional layer\n",
        "    Parameters\n",
        "    ----------\n",
        "    initializer : Instances of initialization methods\n",
        "    optimizer : Instances of optimization methods\n",
        "    \"\"\"\n",
        "    def __init__(self, F, C, FH, FW, P, S,\n",
        "                 initializer=None,optimizer=None,activation=None):\n",
        "        self.P = P\n",
        "        self.S = S\n",
        "        self.initializer = initializer\n",
        "        self.optimizer = optimizer\n",
        "        self.activation = activation\n",
        "        \n",
        "        # Initialize.\n",
        "        # Use the initializer method to initialize self.W and self.B\n",
        "        self.W = self.initializer.W(F,C,FH,FW)\n",
        "        self.B = self.initializer.B(F)\n",
        "        \n",
        "    def output_shape2d(self,H,W,PH,PW,FH,FW,SH,SW):\n",
        "        OH = (H +2*PH -FH)/SH +1\n",
        "        OW = (W +2*PW -FW)/SW +1\n",
        "        return int(OH),int(OW)\n",
        "    \n",
        "    def forward(self, X):\n",
        "        \"\"\"\n",
        "        forward \n",
        "        Parameters\n",
        "        ----------\n",
        "        X : ndarray of the following form, shape (batch_size, n_nodes1)\n",
        "            Input\n",
        "        Returns\n",
        "        ----------\n",
        "        A : ndarray of the following form, shape (batch_size, n_nodes2)\n",
        "            Output\n",
        "        \"\"\"\n",
        "        self.X = X\n",
        "        N,C,H,W = self.X.shape\n",
        "        F,C,FH,FW = self.W.shape\n",
        "        \n",
        "        OH,OW = self.output_shape2d(H,W,self.P,self.P,FH,FW,self.S,self.S)\n",
        "        \n",
        "        self.params = N,C,H,W,F,FH,FW,OH,OW\n",
        "\n",
        "        A = np.zeros([N,F,OH,OW])\n",
        "\n",
        "        self.X_pad = np.pad(self.X,((0,0),(0,0),(self.P,self.P),(self.P,self.P)))\n",
        "\n",
        "        # Batch\n",
        "        for n in range(N):\n",
        "            # Output channels\n",
        "            for ch in range(F):\n",
        "                # Vertical slide\n",
        "                for row in range(0,H,self.S):\n",
        "                    # Horizontal Slide\n",
        "                    for col in range(0,W,self.S):\n",
        "                        A[n,ch,row,col] = \\\n",
        "                        np.sum(self.X_pad[n,:,row:row+FH,col:col+FW]\n",
        "                               *self.W[ch,:,:,:]) \\\n",
        "                        +self.B[ch]\n",
        "        \n",
        "        return  self.activation.forward(A)\n",
        "    \n",
        "    def backward(self, dZ):\n",
        "        \"\"\"\n",
        "        backward\n",
        "        Parameters\n",
        "        ----------\n",
        "        dA : ndarray of the following form, shape (batch_size, n_nodes2)\n",
        "            The gradient flowed in from behind.\n",
        "        Returns\n",
        "        ----------\n",
        "        dZ : ndarray of the following form, shape (batch_size, n_nodes1)\n",
        "            forward slope\n",
        "        \"\"\"\n",
        "        \n",
        "        dA = self.activation.backward(dZ)\n",
        "        N,C,H,W,F,FH,FW,OH,OW = self.params\n",
        "        \n",
        "        dZ = np.zeros(self.X_pad.shape)\n",
        "        self.dW = np.zeros(self.W.shape)\n",
        "        self.dB = np.zeros(self.B.shape)\n",
        "        \n",
        "        # dZ\n",
        "        # Batch\n",
        "        for n in range(N):\n",
        "            # Output channels\n",
        "            for ch in range(F):\n",
        "                # Vertical slide\n",
        "                for row in range(0,H,self.S):\n",
        "                    # Horizontal Slide\n",
        "                    for col in range(0,W,self.S):\n",
        "                        dZ[n,:,row:row+FH,col:col+FW] += dA[n,ch,row,col]*self.W[ch,:,:,:]\n",
        "                \n",
        "        dl_rows = range(self.P),range(H+self.P,H+2*self.P,1)\n",
        "        dl_cols = range(self.P),range(W+self.P,W+2*self.P,1)\n",
        "\n",
        "        dZ = np.delete(dZ,dl_rows,axis=2)\n",
        "        dZ = np.delete(dZ,dl_cols,axis=3)\n",
        "                \n",
        "        # dW\n",
        "        # Batch\n",
        "        for n in range(N):\n",
        "            # Output channels\n",
        "            for ch in range(F):\n",
        "                # Vertical slide\n",
        "                for row in range(OH):\n",
        "                    # Horizontal Slide\n",
        "                    for col in range(OW):\n",
        "                        self.dW[ch,:,:,:] += dA[n,ch,row,col]*self.X_pad[n,:,row:row+FH,col:col+FW]\n",
        "        \n",
        "        # dB\n",
        "        # Output channels\n",
        "        for ch in range(F):\n",
        "            self.dB[ch] = np.sum(dA[:,ch,:,:])\n",
        "        \n",
        "        # Update\n",
        "        self = self.optimizer.update(self)\n",
        "        \n",
        "        return dZ"
      ],
      "execution_count": null,
      "outputs": []
    },
    {
      "cell_type": "markdown",
      "metadata": {
        "id": "0Hwp3fknwK6H"
      },
      "source": [
        "### 【Problem 2】Output size after 2-D convolution\n",
        "Convolution changes the size of the feature map.  \n",
        "How it changes can be obtained from the following formula.  \n",
        "Create a function to do this calculation."
      ]
    },
    {
      "cell_type": "code",
      "metadata": {
        "id": "5kG8fOwXwK6I"
      },
      "source": [
        "def output_shape2d(IH=5,IW=5,PH=0,PW=0,FH=3,FW=3,SH=1,SW=1):\n",
        "    OH = (IH +2*PH -FH)/SH +1\n",
        "    OW = (IW +2*PW -FW)/SW +1\n",
        "    return int(OH),int(OW)"
      ],
      "execution_count": null,
      "outputs": []
    },
    {
      "cell_type": "code",
      "metadata": {
        "scrolled": false,
        "id": "3_fksagCwK6I",
        "outputId": "63ff990b-c074-4ee5-e55f-441fcfd08b1e"
      },
      "source": [
        "print(output_shape2d(IH=6,IW=6,PH=0,PW=0,FH=3,FW=3,SH=1,SW=1))"
      ],
      "execution_count": null,
      "outputs": [
        {
          "output_type": "stream",
          "text": [
            "(4, 4)\n"
          ],
          "name": "stdout"
        }
      ]
    },
    {
      "cell_type": "markdown",
      "metadata": {
        "id": "f8_bnJMtwK6I"
      },
      "source": [
        "#### Experiment with 2D convolution"
      ]
    },
    {
      "cell_type": "code",
      "metadata": {
        "scrolled": false,
        "id": "0GlEE_HowK6I",
        "outputId": "9fb83ce0-330a-48d0-c4ba-b4b13a1380ee"
      },
      "source": [
        "N,C,H,W = (5,1,28,28)\n",
        "F,C,FH,FW = (4,1,3,3)\n",
        "\n",
        "S = 1 #Fixed for now\n",
        "P = 1\n",
        "\n",
        "OH,OW = output_shape2d(H,W,P,P,FH,FW,S,S)\n",
        "\n",
        "A = np.zeros([N,F,OH,OW])\n",
        "\n",
        "X_sample = X[0:N].reshape(N,C,H,W)\n",
        "X_pad = np.pad(X_sample,((0,0),(0,0),(P,P),(P,P)))\n",
        "w = np.ones([F,C,FH,FW])\n",
        "B = np.ones(F)\n",
        "\n",
        "# Forward\n",
        "\n",
        "# Batch\n",
        "for n in range(N):\n",
        "    # Output channels\n",
        "    for ch in range(F):\n",
        "        # Vertical slide\n",
        "        for row in range(0,H,S):\n",
        "            # Horizontal Slide\n",
        "            for col in range(0,W,S):\n",
        "                A[n,ch,row,col] = \\\n",
        "                np.sum(X_pad[n,:,row:row+FH,col:col+FW]*w[ch,:,:,:]) +B[ch]\n",
        "                \n",
        "print('A.shape:',A.shape)"
      ],
      "execution_count": null,
      "outputs": [
        {
          "output_type": "stream",
          "text": [
            "A.shape: (5, 4, 28, 28)\n"
          ],
          "name": "stdout"
        }
      ]
    },
    {
      "cell_type": "code",
      "metadata": {
        "id": "k6q-XJLqwK6J",
        "outputId": "a8ec0b8b-fd21-4c50-d045-b6dd383f9901"
      },
      "source": [
        "# Backward\n",
        "dA = np.ones(A.shape)\n",
        "\n",
        "dZ = np.zeros(X_pad.shape)\n",
        "dW = np.zeros(w.shape)\n",
        "dB = np.zeros(B.shape)\n",
        "\n",
        "# dZ\n",
        "# Batch\n",
        "for n in range(N):\n",
        "    # Output channels\n",
        "    for ch in range(F):\n",
        "        # Vertical slide\n",
        "        for row in range(0,H,S):\n",
        "            # Horizontal Slide\n",
        "            for col in range(0,W,S):\n",
        "                dZ[n,:,row:row+FH,col:col+FW] += dA[n,ch,row,col]*w[ch,:,:,:]\n",
        "                \n",
        "dl_rows = range(P),range(H+P,H+2*P,1)\n",
        "dl_cols = range(P),range(W+P,W+2*P,1)\n",
        "\n",
        "dZ = np.delete(dZ,dl_rows,axis=2)\n",
        "dZ = np.delete(dZ,dl_cols,axis=3)\n",
        "                \n",
        "# dW\n",
        "# Batch\n",
        "for n in range(N):\n",
        "    # Output channels\n",
        "    for ch in range(F):\n",
        "        # Vertical slide\n",
        "        for row in range(OH):\n",
        "            # Horizontal Slide\n",
        "            for col in range(OW):\n",
        "                dW[ch,:,:,:] += dA[n,ch,row,col]*X_pad[n,:,row:row+FH,col:col+FW]\n",
        "                \n",
        "# dB\n",
        "# Output channels\n",
        "for ch in range(F):\n",
        "    dB[ch] = np.sum(dA[:,ch,:,:])\n",
        "                \n",
        "print('dZ.shape:',dZ.shape)\n",
        "print('dW.shape:',dW.shape)\n",
        "print('dB.shape:',dB.shape)"
      ],
      "execution_count": null,
      "outputs": [
        {
          "output_type": "stream",
          "text": [
            "dZ.shape: (5, 1, 28, 28)\n",
            "dW.shape: (4, 1, 3, 3)\n",
            "dB.shape: (4,)\n"
          ],
          "name": "stdout"
        }
      ]
    },
    {
      "cell_type": "markdown",
      "metadata": {
        "id": "6VkJ-KlgwK6J"
      },
      "source": [
        "### 【Problem 3】Creating a maximum pooling layer\n",
        "Create a class MaxPool2D for the maximum pooling layer.  \n",
        "Some parts of the pooling layer are easier to understand if they are not expressed in mathematical form, but if they are expressed in mathematical form, the forward propagation looks like this"
      ]
    },
    {
      "cell_type": "code",
      "metadata": {
        "id": "ViTwMwPvwK6J"
      },
      "source": [
        "class MaxPool2D():\n",
        "    \n",
        "    def __init__(self,P):\n",
        "        self.P = P\n",
        "        self.PA = None\n",
        "        self.Pindex = None\n",
        "        \n",
        "    def forward(self,A):\n",
        "        N,F,OH,OW = A.shape\n",
        "        PS = self.P\n",
        "        PH,PW = int(OH/PS),int(OW/PS)\n",
        "        \n",
        "        self.params = N,F,OH,OW,PS,PH,PW\n",
        "        \n",
        "        # Pooling filter\n",
        "        self.PA = np.zeros([N,F,PH,PW])\n",
        "        self.Pindex = np.zeros([N,F,PH,PW])\n",
        "        \n",
        "        for n in range(N):\n",
        "            # Output channels\n",
        "            for ch in range(F):\n",
        "                # Vertical slide\n",
        "                for row in range(PH):\n",
        "                    # Horizontal Slide\n",
        "                    for col in range(PW):\n",
        "                        self.PA[n,ch,row,col] = \\\n",
        "                        np.max(A[n,ch,row*PS:row*PS+PS,col*PS:col*PS+PS])\n",
        "                        \n",
        "                        self.Pindex[n,ch,row,col] = \\\n",
        "                        np.argmax(A[n,ch,row*PS:row*PS+PS,col*PS:col*PS+PS])\n",
        "                        \n",
        "        return self.PA\n",
        "    \n",
        "    def backward(self,dA):\n",
        "        \n",
        "        N,F,OH,OW,PS,PH,PW = self.params\n",
        "        dP = np.zeros([N,F,OH,OW])\n",
        "        \n",
        "        for n in range(N):\n",
        "            # Output channels\n",
        "            for ch in range(F):\n",
        "                # Vertical slide\n",
        "                for row in range(PH):\n",
        "                    # Horizontal Slide\n",
        "                    for col in range(PW):\n",
        "                        idx = self.Pindex[n,ch,row,col]\n",
        "                        tmp = np.zeros((PS*PS))\n",
        "                        for i in range(PS*PS):\n",
        "                            if i == idx:\n",
        "                                tmp[i] = dA[n,ch,row,col]\n",
        "                            else:\n",
        "                                tmp[i] = 0\n",
        "                        dP[n,ch,row*PS:row*PS+PS,col*PS:col*PS+PS] = tmp.reshape(PS,PS)\n",
        "        \n",
        "        return dP"
      ],
      "execution_count": null,
      "outputs": []
    },
    {
      "cell_type": "code",
      "metadata": {
        "scrolled": false,
        "id": "_K85cvI6wK6J",
        "outputId": "9725b784-ad28-44a2-8be3-aa1fe3688e87"
      },
      "source": [
        "X = np.random.randint(0,9,36).reshape(1,1,6,6)\n",
        "print(X)"
      ],
      "execution_count": null,
      "outputs": [
        {
          "output_type": "stream",
          "text": [
            "[[[[5 8 6 7 6 2]\n",
            "   [7 5 2 6 2 2]\n",
            "   [2 7 2 0 5 1]\n",
            "   [2 0 5 8 8 6]\n",
            "   [7 7 8 2 8 4]\n",
            "   [5 7 6 8 7 7]]]]\n"
          ],
          "name": "stdout"
        }
      ]
    },
    {
      "cell_type": "code",
      "metadata": {
        "scrolled": true,
        "id": "BvKBDUFAwK6J",
        "outputId": "9320faa4-7022-4322-966c-b5dc53552386"
      },
      "source": [
        "Pooling = MaxPool2D(P=2)\n",
        "A = Pooling.forward(X)\n",
        "\n",
        "print(A.shape)\n",
        "print(A)"
      ],
      "execution_count": null,
      "outputs": [
        {
          "output_type": "stream",
          "text": [
            "(1, 1, 3, 3)\n",
            "[[[[8. 7. 6.]\n",
            "   [7. 8. 8.]\n",
            "   [7. 8. 8.]]]]\n"
          ],
          "name": "stdout"
        }
      ]
    },
    {
      "cell_type": "code",
      "metadata": {
        "id": "y2G8YfJCwK6K",
        "outputId": "6fabf8d5-9579-4a99-c33d-fe49520636c0"
      },
      "source": [
        "Pooling.Pindex"
      ],
      "execution_count": null,
      "outputs": [
        {
          "output_type": "execute_result",
          "data": {
            "text/plain": [
              "array([[[[1., 1., 0.],\n",
              "         [1., 3., 2.],\n",
              "         [0., 0., 0.]]]])"
            ]
          },
          "metadata": {
            "tags": []
          },
          "execution_count": 43
        }
      ]
    },
    {
      "cell_type": "code",
      "metadata": {
        "id": "8_Wih4miwK6K",
        "outputId": "9bcbfb8a-5df0-40e0-8bec-5e8809089c4b"
      },
      "source": [
        "dA = np.random.randint(0,9,9).reshape(A.shape)\n",
        "print(dA)"
      ],
      "execution_count": null,
      "outputs": [
        {
          "output_type": "stream",
          "text": [
            "[[[[1 1 5]\n",
            "   [1 2 4]\n",
            "   [5 0 7]]]]\n"
          ],
          "name": "stdout"
        }
      ]
    },
    {
      "cell_type": "code",
      "metadata": {
        "id": "xL5y1XmHwK6K",
        "outputId": "6ab016bb-2b43-4122-8994-9719d3ea03f3"
      },
      "source": [
        "dZ = Pooling.backward(dA)\n",
        "\n",
        "print(dZ)"
      ],
      "execution_count": null,
      "outputs": [
        {
          "output_type": "stream",
          "text": [
            "[[[[0. 1. 0. 1. 5. 0.]\n",
            "   [0. 0. 0. 0. 0. 0.]\n",
            "   [0. 1. 0. 0. 0. 0.]\n",
            "   [0. 0. 0. 2. 4. 0.]\n",
            "   [5. 0. 0. 0. 7. 0.]\n",
            "   [0. 0. 0. 0. 0. 0.]]]]\n"
          ],
          "name": "stdout"
        }
      ]
    },
    {
      "cell_type": "markdown",
      "metadata": {
        "id": "MMhiYqepwK6L"
      },
      "source": [
        "### 【Problem 4】(Advanced Problem) Creating Average Pooling\n",
        "Create a class AveragePool2D for the average pooling layer.\n",
        "\n",
        "This is a pooling layer that outputs the average value instead of the maximum value in a range.\n",
        "\n",
        "In image recognition, the maximum pooling layer is commonly used, while the average pooling is not often used."
      ]
    },
    {
      "cell_type": "code",
      "metadata": {
        "id": "th8daQ5kwK6L"
      },
      "source": [
        "class AveragePool2D():\n",
        "    \n",
        "    def __init__(self,P):\n",
        "        self.P = P\n",
        "        self.PA = None\n",
        "        self.Pindex = None\n",
        "        \n",
        "    def forward(self,A):\n",
        "        N,F,OH,OW = A.shape\n",
        "        PS = self.P\n",
        "        PH,PW = int(OH/PS),int(OW/PS)\n",
        "        \n",
        "        self.params = N,F,OH,OW,PS,PH,PW\n",
        "        \n",
        "        # Pooling filter\n",
        "        self.PA = np.zeros([N,F,PH,PW])\n",
        "        \n",
        "        for n in range(N):\n",
        "            # Output channels\n",
        "            for ch in range(F):\n",
        "                # Vertical slide\n",
        "                for row in range(PH):\n",
        "                    # Horizontal Slide\n",
        "                    for col in range(PW):\n",
        "                        self.PA[n,ch,row,col] = \\\n",
        "                        np.mean(A[n,ch,row*PS:row*PS+PS,col*PS:col*PS+PS])\n",
        "                        \n",
        "        return self.PA\n",
        "    \n",
        "    def backward(self,dA):\n",
        "        \n",
        "        N,F,OH,OW,PS,PH,PW = self.params\n",
        "        dP = np.zeros([N,F,OH,OW])\n",
        "        \n",
        "        for n in range(N):\n",
        "            # Output channels\n",
        "            for ch in range(F):\n",
        "                # Vertical slide\n",
        "                for row in range(PH):\n",
        "                    # Horizontal Slide\n",
        "                    for col in range(PW):\n",
        "                        tmp = np.zeros((PS*PS))\n",
        "                        for i in range(PS*PS):\n",
        "                            tmp[i] = dA[n,ch,row,col]/(PS*PS)\n",
        "\n",
        "                        dP[n,ch,row*PS:row*PS+PS,col*PS:col*PS+PS] = tmp.reshape(PS,PS)\n",
        "        \n",
        "        return dP"
      ],
      "execution_count": null,
      "outputs": []
    },
    {
      "cell_type": "code",
      "metadata": {
        "id": "1GZeorsTwK6L",
        "outputId": "6ae24f6f-42ae-44a1-804d-f75085a916ec"
      },
      "source": [
        "X = np.random.randint(0,9,36).reshape(1,1,6,6)\n",
        "print(X)"
      ],
      "execution_count": null,
      "outputs": [
        {
          "output_type": "stream",
          "text": [
            "[[[[0 1 5 0 3 2]\n",
            "   [8 0 3 6 0 6]\n",
            "   [2 3 1 1 6 7]\n",
            "   [2 3 1 7 7 4]\n",
            "   [2 7 0 1 4 2]\n",
            "   [5 1 6 1 5 2]]]]\n"
          ],
          "name": "stdout"
        }
      ]
    },
    {
      "cell_type": "code",
      "metadata": {
        "id": "FMOZpmCNwK6L",
        "outputId": "2d922120-ff00-4434-9b28-462dbe258080"
      },
      "source": [
        "Pooling = AveragePool2D(P=2)\n",
        "A = Pooling.forward(X)\n",
        "\n",
        "print(A.shape)\n",
        "print(A)"
      ],
      "execution_count": null,
      "outputs": [
        {
          "output_type": "stream",
          "text": [
            "(1, 1, 3, 3)\n",
            "[[[[2.25 3.5  2.75]\n",
            "   [2.5  2.5  6.  ]\n",
            "   [3.75 2.   3.25]]]]\n"
          ],
          "name": "stdout"
        }
      ]
    },
    {
      "cell_type": "code",
      "metadata": {
        "id": "khNbmi_kwK6M",
        "outputId": "ba09c2d5-8707-4cdd-8f80-51198a7760e8"
      },
      "source": [
        "dA = np.random.randint(0,9,9).reshape(A.shape)\n",
        "print(dA)"
      ],
      "execution_count": null,
      "outputs": [
        {
          "output_type": "stream",
          "text": [
            "[[[[1 4 4]\n",
            "   [3 8 0]\n",
            "   [7 7 6]]]]\n"
          ],
          "name": "stdout"
        }
      ]
    },
    {
      "cell_type": "code",
      "metadata": {
        "id": "5njJx88SwK6M",
        "outputId": "c08059aa-7de8-46e0-c069-9541e5c08fb7"
      },
      "source": [
        "dZ = Pooling.backward(dA)\n",
        "\n",
        "print(dZ)"
      ],
      "execution_count": null,
      "outputs": [
        {
          "output_type": "stream",
          "text": [
            "[[[[0.25 0.25 1.   1.   1.   1.  ]\n",
            "   [0.25 0.25 1.   1.   1.   1.  ]\n",
            "   [0.75 0.75 2.   2.   0.   0.  ]\n",
            "   [0.75 0.75 2.   2.   0.   0.  ]\n",
            "   [1.75 1.75 1.75 1.75 1.5  1.5 ]\n",
            "   [1.75 1.75 1.75 1.75 1.5  1.5 ]]]]\n"
          ],
          "name": "stdout"
        }
      ]
    },
    {
      "cell_type": "markdown",
      "metadata": {
        "id": "hdMUr2VLwK6M"
      },
      "source": [
        "### 【Problem 5】Flatten\n",
        "Create a Flatten class for smoothing.\n",
        "\n",
        "In the forward direction, reshape the three dimensions of channel, height, and width to one dimension. The values are recorded and reshaped again in the backward direction.\n",
        "\n",
        "By sandwiching this smoothing class in between, we can create an array suitable for all coupled layers before output."
      ]
    },
    {
      "cell_type": "code",
      "metadata": {
        "id": "CGFt2uxFwK6M"
      },
      "source": [
        "class Flatten:\n",
        "    def __ini__(self,):\n",
        "        pass\n",
        "    def forward(self,X):\n",
        "        self.shape = X.shape\n",
        "        return X.reshape(len(X),-1)\n",
        "\n",
        "    def backward(self,X):\n",
        "        return X.reshape(self.shape)        "
      ],
      "execution_count": null,
      "outputs": []
    },
    {
      "cell_type": "code",
      "metadata": {
        "id": "0uJcS2MHwK6M",
        "outputId": "32f159e4-54ac-4100-f256-57f97724f422"
      },
      "source": [
        "TEST = np.zeros([20,2,5,5])\n",
        "flt = Flatten()\n",
        "flat_forward = flt.forward(TEST)\n",
        "print('Forward_shape:',flat_forward.shape)\n",
        "print('Backward_shape:',flt.backward(flat_forward).shape)"
      ],
      "execution_count": null,
      "outputs": [
        {
          "output_type": "stream",
          "text": [
            "Forward_shape: (20, 50)\n",
            "Backward_shape: (20, 2, 5, 5)\n"
          ],
          "name": "stdout"
        }
      ]
    },
    {
      "cell_type": "markdown",
      "metadata": {
        "id": "Fux5jvxuwK6N"
      },
      "source": [
        "### 【Problem 6】Training and Estimation\n",
        "Use the Conv2d you created to train and estimate MNIST and calculate the Accuracy.\n",
        "\n",
        "Please aim to make it work first, even if the accuracy is low."
      ]
    },
    {
      "cell_type": "code",
      "metadata": {
        "id": "hnkAOmCEwK6N"
      },
      "source": [
        "# Scratch CNN\n",
        "class Scratch2dCNNClassifier():\n",
        "    \"\"\"\n",
        "    N-Layer Convolutional Neural Network Classifier\n",
        "    \n",
        "    Parameters\n",
        "    ----------\n",
        "    self.n_epoch : epoch number\n",
        "    self.n_batch : Number of batches\n",
        "    self.verbose : Visualizing the learning process\n",
        "    Attributes\n",
        "    ----------\n",
        "    \"\"\"\n",
        "    def __init__(self, NN, CNN, n_epoch=5, n_batch=1, verbose = False):\n",
        "        # Parameters\n",
        "        self.n_epoch = n_epoch\n",
        "        self.n_batch = n_batch\n",
        "        self.verbose = verbose\n",
        "        self.log_loss = np.zeros(self.n_epoch)\n",
        "        self.log_acc = np.zeros(self.n_epoch)\n",
        "        self.NN = NN\n",
        "        self.CNN = CNN\n",
        "        \n",
        "    def loss_function(self,y,yt):\n",
        "        delta = 1e-7\n",
        "        return -np.mean(yt*np.log(y+delta))\n",
        "    \n",
        "    def accuracy(self,Z,Y):\n",
        "        return accuracy_score(Y,Z)\n",
        "                \n",
        "    def fit(self, X, y, X_val=False, y_val=False):\n",
        "        \"\"\"\n",
        "        Train a neural network classifier.\n",
        "\n",
        "        Parameters\n",
        "        ----------\n",
        "        X : ndarray of the following form, shape (n_samples, n_features)\n",
        "            Features of training data\n",
        "        y : ndarray of the following form, shape (n_samples, )\n",
        "            Correct answer value of training data\n",
        "        X_val : ndarray of the following form, shape (n_samples, n_features)\n",
        "            Features of validation data\n",
        "        y_val : ndarray of the following form, shape (n_samples, )\n",
        "            Correct value of validation data\n",
        "        \"\"\"\n",
        "        for epoch in range(self.n_epoch):\n",
        "            # Mini-batch processing\n",
        "            get_mini_batch = GetMiniBatch(X, y, batch_size=self.n_batch)\n",
        "            \n",
        "            self.loss = 0\n",
        "            for mini_X_train, mini_y_train in get_mini_batch:\n",
        "                                \n",
        "                # Forward propagation\n",
        "                forward_data = mini_X_train[:,np.newaxis,:,:]\n",
        "                \n",
        "                # Conv\n",
        "                for layer in range(len(self.CNN)):\n",
        "                    forward_data = self.CNN[layer].forward(forward_data)\n",
        "                \n",
        "                # Flatten\n",
        "                flt = Flatten()\n",
        "                forward_data = flt.forward(forward_data)\n",
        "                \n",
        "                # NN\n",
        "                for layer in range(len(self.NN)):\n",
        "                    forward_data = self.NN[layer].forward(forward_data)\n",
        "                    \n",
        "                # Predicted value\n",
        "                Z = forward_data\n",
        "                \n",
        "                # Back propagation\n",
        "                backward_data = (Z - mini_y_train)/self.n_batch\n",
        "                for layer in range(len(self.NN)-1,-1,-1):\n",
        "                    backward_data = self.NN[layer].backward(backward_data)\n",
        "                    \n",
        "                backward_data = flt.backward(backward_data)\n",
        "                \n",
        "                for layer in range(len(self.CNN)-1,-1,-1):\n",
        "                    backward_data = self.CNN[layer].backward(backward_data)\n",
        "                \n",
        "                # Loss function\n",
        "                self.loss += self.loss_function(Z,mini_y_train)\n",
        "                \n",
        "            self.log_loss[epoch] = self.loss/len(get_mini_batch)\n",
        "            self.log_acc[epoch] = self.accuracy(self.predict(X),np.argmax(y,axis=1))\n",
        "            \n",
        "    def predict(self, X):\n",
        "        \"\"\"\n",
        "        Estimate using a neural network classifier.。\n",
        "\n",
        "        Parameters\n",
        "        ----------\n",
        "        X : ndarray of the following form, shape (n_samples, n_features)\n",
        "            Sample\n",
        "\n",
        "        Returns\n",
        "        -------\n",
        "            ndarray of the following, shape (n_samples, 1)\n",
        "            Estimation results\n",
        "        \"\"\"\n",
        "        pred_data = X[:,np.newaxis,:,:]\n",
        "        \n",
        "        # Conv\n",
        "        for layer in range(len(self.CNN)):\n",
        "            pred_data = self.CNN[layer].forward(pred_data)\n",
        "                \n",
        "        pred_data = flt.forward(pred_data)\n",
        "        \n",
        "        # NN\n",
        "        for layer in range(len(self.NN)):\n",
        "            pred_data = self.NN[layer].forward(pred_data)\n",
        "            \n",
        "        return np.argmax(pred_data,axis=1)"
      ],
      "execution_count": null,
      "outputs": []
    },
    {
      "cell_type": "code",
      "metadata": {
        "id": "Nd2itkg0wK6N"
      },
      "source": [
        "# All bonding layers\n",
        "NN = {0:FC(7840, 400, HeInitializer(), AdaGrad(0.01), ReLU()),\n",
        "      1:FC(400, 200, HeInitializer(), AdaGrad(0.01), ReLU()),\n",
        "      2:FC(200, 10, SimpleInitializer(0.01), AdaGrad(0.01), Softmax()),\n",
        "     }"
      ],
      "execution_count": null,
      "outputs": []
    },
    {
      "cell_type": "code",
      "metadata": {
        "id": "VA0duXqdwK6N"
      },
      "source": [
        "# Convolutional layers\n",
        "CNN = {0:SimpleConv2d(F=10, C=1, FH=3, FW=3, P=1, S=1,\n",
        "                      initializer=SimpleInitializerConv2d(),\n",
        "                      optimizer=SGD(),\n",
        "                      activation=ReLU())}"
      ],
      "execution_count": null,
      "outputs": []
    },
    {
      "cell_type": "code",
      "metadata": {
        "id": "at4_QFo8wK6O"
      },
      "source": [
        "# Learning\n",
        "cnn1 = Scratch2dCNNClassifier(NN=NN,CNN=CNN,n_epoch=10,n_batch=200,verbose=False)\n",
        "\n",
        "cnn1.fit(X_train[0:1000],y_train[0:1000])"
      ],
      "execution_count": null,
      "outputs": []
    },
    {
      "cell_type": "code",
      "metadata": {
        "id": "Ou7d7r_BwK6O",
        "outputId": "ce01563d-16df-4914-a9bc-eb321c6f15b4"
      },
      "source": [
        "# Estimate\n",
        "y_pred = cnn1.predict(X_valid[0:100])\n",
        "\n",
        "# Positive solution rate\n",
        "accuracy = accuracy_score(np.argmax(y_valid[0:100],axis=1), y_pred)\n",
        "print('accuracy:{:.3f}'.format(accuracy))"
      ],
      "execution_count": null,
      "outputs": [
        {
          "output_type": "stream",
          "text": [
            "accuracy:0.870\n"
          ],
          "name": "stdout"
        }
      ]
    },
    {
      "cell_type": "code",
      "metadata": {
        "scrolled": true,
        "id": "9QTh7iR_wK6O",
        "outputId": "d201b5c1-80ea-402c-a760-4db5f671a5c1"
      },
      "source": [
        "# Visualize the loss function for each epoch\n",
        "plt.rcParams[\"font.size\"] = 20\n",
        "fig=plt.subplots(figsize=(16,6))\n",
        "plt.subplot(1,2,1)\n",
        "plt.title('LOSS')\n",
        "plt.plot(cnn1.log_loss,'bo--')\n",
        "\n",
        "plt.subplot(1,2,2)\n",
        "plt.title('ACC')\n",
        "plt.plot(cnn1.log_acc,'rs--');"
      ],
      "execution_count": null,
      "outputs": [
        {
          "output_type": "display_data",
          "data": {
            "image/png": "[encoded data removed]",
            "text/plain": [
              "<Figure size 1152x432 with 2 Axes>"
            ]
          },
          "metadata": {
            "tags": [],
            "needs_background": "light"
          }
        }
      ]
    },
    {
      "cell_type": "markdown",
      "metadata": {
        "id": "IY5QpsTUwK6O"
      },
      "source": [
        "* As a result of running it on the mini-data, the LOSS is coming down, and the percentage of correct answers, as well."
      ]
    },
    {
      "cell_type": "markdown",
      "metadata": {
        "id": "8d0oPUItwK6O"
      },
      "source": [
        "### 【Problem 7】(Advanced Problem) LeNet\n",
        "When performing image recognition with CNNs, it is common to use a well-known structure rather than thinking about filter size and number of layers from scratch. The most historically important one is LeNet from 1998, although it is no longer in practical use today. You can recreate this structure and run it against MNIST to calculate Accuracy."
      ]
    },
    {
      "cell_type": "code",
      "metadata": {
        "id": "pOf0X16ywK6P"
      },
      "source": [
        "# LeNet structure\n",
        "# Convolutional layers\n",
        "LeNetCNN = {0:SimpleConv2d(F=6, C=1, FH=5, FW=5, P=2, S=1,\n",
        "                           initializer=SimpleInitializerConv2d(),\n",
        "                           optimizer=SGD(),\n",
        "                           activation=ReLU()),\n",
        "            1:MaxPool2D(P=2),\n",
        "            2:SimpleConv2d(F=16, C=6, FH=5, FW=5, P=2, S=1,\n",
        "                           initializer=SimpleInitializerConv2d(),\n",
        "                           optimizer=SGD(),\n",
        "                           activation=ReLU()),\n",
        "            3:MaxPool2D(P=2),}\n",
        "\n",
        "# All bonding layers\n",
        "LeNetNN = {0:FC(784, 120, HeInitializer(), AdaGrad(0.01), ReLU()),\n",
        "           1:FC(120, 84, HeInitializer(), AdaGrad(0.01), ReLU()),\n",
        "           2:FC(84, 10, SimpleInitializer(0.01), AdaGrad(0.01), Softmax()),}\n",
        "\n",
        "# Learning\n",
        "LeNet = Scratch2dCNNClassifier(NN=LeNetNN,CNN=LeNetCNN,\n",
        "                               n_epoch=30,n_batch=20,verbose=False)\n",
        "\n",
        "LeNet.fit(X_train,y_train)"
      ],
      "execution_count": null,
      "outputs": []
    },
    {
      "cell_type": "code",
      "metadata": {
        "id": "VILRPYu0wK6P",
        "outputId": "fd9275b1-d23e-4c6c-c413-0737fa31c640"
      },
      "source": [
        "# Estimate\n",
        "y_pred_LeNet = LeNet.predict(X_valid)\n",
        "\n",
        "# Positive solution rate\n",
        "accuracy = accuracy_score(np.argmax(y_valid,axis=1), y_pred_LeNet)\n",
        "print('accuracy:{:.3f}'.format(accuracy))"
      ],
      "execution_count": null,
      "outputs": [
        {
          "output_type": "stream",
          "text": [
            "accuracy:0.984\n"
          ],
          "name": "stdout"
        }
      ]
    },
    {
      "cell_type": "code",
      "metadata": {
        "id": "XjhAxBiVwK6P",
        "outputId": "7e904a95-d629-4f2c-ea2f-7bc16db0cc97"
      },
      "source": [
        "# Visualize the loss function for each epoch\n",
        "plt.rcParams[\"font.size\"] = 20\n",
        "fig=plt.subplots(figsize=(16,6))\n",
        "plt.subplot(1,2,1)\n",
        "plt.title('LOSS')\n",
        "plt.plot(LeNet.log_loss,'bo--')\n",
        "\n",
        "plt.subplot(1,2,2)\n",
        "plt.title('ACC')\n",
        "plt.plot(LeNet.log_acc,'rs--');"
      ],
      "execution_count": null,
      "outputs": [
        {
          "output_type": "display_data",
          "data": {
            "image/png": "[encoded data removed]",
            "text/plain": [
              "<Figure size 1152x432 with 2 Axes>"
            ]
          },
          "metadata": {
            "tags": [],
            "needs_background": "light"
          }
        }
      ]
    },
    {
      "cell_type": "markdown",
      "metadata": {
        "id": "jB5bstALwK6Q"
      },
      "source": [
        "### 【Problem 8】(Advanced Problem) Survey of well-known image recognition models\n",
        "Some of the most popular CNN structures are AlexNet (2012), VGG16 (2014), and so on.  \n",
        "Many of these models are already available in frameworks.\n",
        "\n",
        "Please do some quick research and summarize what's available. It is a good idea to at least look at the names."
      ]
    },
    {
      "cell_type": "markdown",
      "metadata": {
        "id": "CZ0h_ikewK6Q"
      },
      "source": [
        "Famous CNN structures\n",
        "* AlexNet(2012)\n",
        "* ZFNet(2013)\n",
        "* GoogleNet(2014)\n",
        "* VGGNet(2014)\n",
        "* ResNet(2015)\n",
        "* SENet(2017)"
      ]
    },
    {
      "cell_type": "markdown",
      "metadata": {
        "id": "gtP8R-9hwK6Q"
      },
      "source": [
        "### 【Problem 9】Calculating output size and number of parameters\n",
        "When building a CNN model, it is necessary to calculate the number of features in advance at the stage of inputting them into the all-connected layer.\n",
        "\n",
        "Also, when dealing with huge models, the calculation of the number of parameters becomes essential due to memory and computation speed. The framework can display the number of parameters for each layer, but without understanding the meaning, it is impossible to make appropriate adjustments.\n",
        "\n",
        "Calculate the output size and the number of parameters for the following three convolutional layers. For the number of parameters, also consider the bias term.\n",
        "\n",
        "1.\n",
        "\n",
        "* Input size : 144x144, 3 channels\n",
        "* Filter size : 3×3, 6 channels\n",
        "* Stride : 1\n",
        "* Padding : None\n",
        "\n",
        "→ Output size : 6×142×142, Number of parameters : 168 (Weight 162, Bias 6)\n",
        "\n",
        "2.\n",
        "\n",
        "* Input size : 60×60, 24 channels\n",
        "* Filter size: 3×3, 48 channels\n",
        "* Stride : 1\n",
        "* Padding : None\n",
        "\n",
        "→ Output size : 48×58×58, Number of parameters : 10416(Weight 10368, Bias 48)\n",
        "\n",
        "3.\n",
        "\n",
        "* Input size: 20x20, 10 channels\n",
        "* Filter size: 3×3, 20 channels\n",
        "* Stride : 2\n",
        "* Padding : None\n",
        "\n",
        "→ Output size: 20x9x9, Number of parameters: 1820 (weights 1800, bias 20)\n",
        "\n",
        "The last example is a case where the convolution cannot be done just right. The framework sometimes does not look at the extra pixels, so please consider that case in your calculations. This is an example of why this kind of setting is not desirable, because it will result in missing edges."
      ]
    },
    {
      "cell_type": "markdown",
      "metadata": {
        "id": "i3_MAuK6wK6Q"
      },
      "source": [
        "### 【Problem 10】(Advanced Problem) Survey on Filter Size\n",
        "Convolutional layers have a hyperparameter called filter size, but in 2D convolutional layers the majority of use nowadays is 3×3 and 1×1. Please look up each of the following, or come up with your own explanation.\n",
        "\n",
        "* Why 3×3 filters are commonly used instead of larger ones such as 7×7  \n",
        "  → Because the number of parameters would be huge. (Size squared)  \n",
        "    Because the purpose of convolution is to extract features (including positional relationships) between input parameters.\n",
        "    Increasing the filter size is contrary to the purpose.\n",
        "  \n",
        "  \n",
        "* The effect of a 1×1 filter with no height or width direction  \n",
        "  → By reducing the number of output channels from the input channels, the number of parameters can be reduced.\n",
        "  \n",
        "\n",
        "* The effect of a 1×1 filter with no height or width direction.  \n",
        "  → If the number is odd, the center of the filter is defined, but if the number is even, the center is not defined."
      ]
    },
    {
      "cell_type": "code",
      "metadata": {
        "id": "sJUsR1n2ZBqo"
      },
      "source": [
        ""
      ],
      "execution_count": null,
      "outputs": []
    }
  ]
}