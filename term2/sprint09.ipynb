{
 "cells": [
  {
   "cell_type": "markdown",
   "metadata": {},
   "source": [
    "### 【問題1】重みの初期値を決めるコードの作成\n",
    "### 【問題2】フォワードプロパゲーションの実装\n",
    "### 【問題3】交差エントロピー誤差の実装\n",
    "### 【問題4】バックプロパゲーションの実装\n",
    "### 【問題5】推定"
   ]
  },
  {
   "cell_type": "code",
   "execution_count": 92,
   "metadata": {},
   "outputs": [],
   "source": [
    "class GetMiniBatch:\n",
    "    \"\"\"\n",
    "    ミニバッチを取得するイテレータ\n",
    "    Parameters\n",
    "    ----------\n",
    "    X : 次の形のndarray, shape (n_samples, n_features)\n",
    "      訓練データ\n",
    "    y : 次の形のndarray, shape (n_samples, 1)\n",
    "      正解値\n",
    "    batch_size : int\n",
    "      バッチサイズ\n",
    "    seed : int\n",
    "      NumPyの乱数のシード\n",
    "    \"\"\"\n",
    "    def __init__(self, X, y, batch_size = 20, seed=0):\n",
    "        self.batch_size = batch_size\n",
    "        np.random.seed(seed)\n",
    "        shuffle_index = np.random.permutation(np.arange(X.shape[0]))\n",
    "        self._X = X[shuffle_index]\n",
    "        self._y = y[shuffle_index]\n",
    "        self._stop = np.ceil(X.shape[0]/self.batch_size).astype(np.int)\n",
    "    def __len__(self):\n",
    "        return self._stop\n",
    "    def __getitem__(self,item):\n",
    "        p0 = item*self.batch_size\n",
    "        p1 = item*self.batch_size + self.batch_size\n",
    "        return self._X[p0:p1], self._y[p0:p1]\n",
    "    def __iter__(self):\n",
    "        self._counter = 0\n",
    "        return self\n",
    "    def __next__(self):\n",
    "        if self._counter >= self._stop:\n",
    "            raise StopIteration()\n",
    "        p0 = self._counter*self.batch_size\n",
    "        p1 = self._counter*self.batch_size + self.batch_size\n",
    "        self._counter += 1\n",
    "        return self._X[p0:p1], self._y[p0:p1]\n",
    "\n",
    "class ScratchSimpleNeuralNetworkClassifier:\n",
    "    def __init__(self):\n",
    "        self.learning_rate = 0.01 # 学習率\n",
    "        self.n_features = 784     # 特徴量の数\n",
    "        self.n_nodes1 = 400       # 1層目のノード数\n",
    "        self.n_nodes2 = 200       # 2層目のノード数\n",
    "        self.n_output = 10        # 出力のクラス数（3層目のノード数）(yの種類数=クラス数)\n",
    "        self.sigma = 0.02         # 重み、ガウス分布の標準偏差、ハイパーパラメータ\n",
    "        self.batch_size = 20      # ミニバッチ分割の分割数\n",
    "        self.epoch = 10           # 繰り返し回数\n",
    "\n",
    "    def fit(self, x, y):\n",
    "        # weight:線 平均0、分散1（標準偏差1）の正規分布に従う乱数を指定のshapeで生成\n",
    "        self.w1 = self.sigma * np.random.randn(self.n_features, self.n_nodes1)\n",
    "        self.w2 = self.sigma * np.random.randn(self.n_nodes1, self.n_nodes2)\n",
    "        self.w3 = self.sigma * np.random.randn(self.n_nodes2, self.n_output)\n",
    "        # bias\n",
    "        self.b1 = self.sigma * np.random.randn(1, self.n_nodes1)\n",
    "        self.b2 = self.sigma * np.random.randn(1, self.n_nodes2)\n",
    "        self.b3 = self.sigma * np.random.randn(1, self.n_output)\n",
    "        # todo\n",
    "        self.loss_train = []\n",
    "        # self.loss_test = []\n",
    "\n",
    "        for _ in range(self.epoch):\n",
    "            # ミニバッチ\n",
    "            get_mini_batch = GetMiniBatch(x, y, batch_size=self.batch_size)\n",
    "            for mini_x_train, mini_y_train in get_mini_batch:\n",
    "                self.forward_propagation(mini_x_train)\n",
    "                self.back_propagation(mini_x_train, mini_y_train)\n",
    "            # 評価値を出すために最後のフォワードプロパゲーション\n",
    "            self.forward_propagation(x)\n",
    "            self.loss_train.append(self.categorical_crossentropy(y, self.z3))\n",
    "\n",
    "    def forward_propagation(self, x):\n",
    "        # 1層目\n",
    "        self.a1 = x @ self.w1 + self.b1  # A1 = X・W + B (numpy.dot = ベクトルの内積)\n",
    "        self.z1 = self.tanh(self.a1)          # Z1 = f(A)\n",
    "        # 2層目\n",
    "        self.a2 = self.z1 @ self.w2 + self.b2 # A2 = X1・W2 + B2\n",
    "        self.z2 = self.tanh(self.a2)          # Z2 = f(A2)\n",
    "        # 3層目\n",
    "        self.a3 = self.z2 @ self.w3 + self.b3 # A3 = Z2・W3 + B3 // W3が10列なのでここで10列になっている\n",
    "        self.z3 = self.softmax(self.a3)       # Z3 = softmax(A3)\n",
    "\n",
    "    def back_propagation(self, x, y):\n",
    "        # 3層目\n",
    "        dA3 = self.z3 - y     # nで割るの忘れてる？\n",
    "        dB3 = np.sum(dA3, axis=0)\n",
    "        dW3 = self.z2.T @ dA3\n",
    "        # 2層目\n",
    "        dZ2 = dA3 @ self.w3.T\n",
    "        dA2 = dZ2 * (1 - self.tanh(self.a2)**2)\n",
    "        dB2 = np.sum(dA2, axis=0)\n",
    "        dW2 = self.z1.T @ dA2\n",
    "        # 1層目\n",
    "        dZ1 = dA2 @ self.w2.T\n",
    "        dA1 = dZ1 * (1 - self.tanh(self.a1)**2)\n",
    "        dB1 = np.sum(dA1, axis=0)\n",
    "        dW1 = x.T @ dA1\n",
    "\n",
    "        # マイナスで良いのか？\n",
    "        self.w3 -= self.learning_rate * dW3\n",
    "        self.b3 -= self.learning_rate * dB3\n",
    "\n",
    "        self.w2 -= self.learning_rate * dW2\n",
    "        self.b2 -= self.learning_rate * dB2\n",
    "\n",
    "        self.w1 -= self.learning_rate * dW1\n",
    "        self.b1 -= self.learning_rate * dB1\n",
    "\n",
    "    # @staticmethod\n",
    "    # def sigmoid(x):\n",
    "    #     return 1 / (1 + np.exp(-x)) # eのx乗を返す e = ネイピア数 2.718281..\n",
    "\n",
    "    @staticmethod\n",
    "    def tanh(x):\n",
    "        return np.tanh(x)\n",
    "\n",
    "    @staticmethod\n",
    "    def softmax(a):\n",
    "        exp_a = np.exp(a) # eのx乗を返す\n",
    "        sum_exp_a = np.sum(np.exp(a), axis=1).reshape(-1, 1) # 指数関数の和\n",
    "        return exp_a / sum_exp_a\n",
    "\n",
    "    # 多クラス交差エントロピー\n",
    "    # y: ニューラルネットワークの出力\n",
    "    # t: 教師データ\n",
    "    @staticmethod\n",
    "    def categorical_crossentropy(y, t):\n",
    "        return - ( np.sum(y * np.log(t + 1e-7)) / len(y) )\n",
    "\n",
    "    def predict(self, x):\n",
    "        self.forward_propagation(x)\n",
    "        return np.argmax(self.z3, axis=1)"
   ]
  },
  {
   "cell_type": "code",
   "execution_count": 105,
   "metadata": {},
   "outputs": [
    {
     "name": "stdout",
     "output_type": "stream",
     "text": [
      "(60000, 28, 28)\n",
      "1.0\n",
      "0.0\n",
      "(48000, 784)\n",
      "(12000, 784)\n"
     ]
    },
    {
     "data": {
      "text/plain": "[0.18896010504771096,\n 0.10653434154768146,\n 0.0731246542082015,\n 0.053710214418475136,\n 0.04248515547112884,\n 0.034473767079088245,\n 0.027829075144917254,\n 0.023472412859403463,\n 0.019458049729272543,\n 0.011665487461131042]"
     },
     "metadata": {},
     "output_type": "display_data"
    },
    {
     "data": {
      "text/plain": "0.9752"
     },
     "execution_count": 105,
     "metadata": {},
     "output_type": "execute_result"
    }
   ],
   "source": [
    "from keras.datasets import mnist\n",
    "from sklearn.model_selection import train_test_split\n",
    "import numpy as np\n",
    "from IPython.display import display\n",
    "\n",
    "#\n",
    "# データセット準備\n",
    "#\n",
    "\n",
    "(x_train, y_train), (x_test, y_test) = mnist.load_data() # shape(60000, 28, 28)\n",
    "print(x_train.shape) # (60000, 28, 28)\n",
    "\n",
    "#\n",
    "# 前処理\n",
    "#\n",
    "\n",
    "# 平滑化\n",
    "x_train = x_train.reshape(-1, 784) # shape(60000, 784)\n",
    "x_test = x_test.reshape(-1, 784)   # shape(60000, 784)\n",
    "# スケール調整\n",
    "x_train = x_train.astype(np.float)\n",
    "x_test = x_test.astype(np.float)\n",
    "x_train /= 255\n",
    "x_test /= 255\n",
    "print(x_train.max())\n",
    "print(x_train.min())\n",
    "# 分割\n",
    "x_train, x_valid, y_train, y_valid = train_test_split(x_train, y_train, test_size=0.2)\n",
    "print(x_train.shape) # (48000, 784)\n",
    "print(x_valid.shape) # (12000, 784)\n",
    "# one-hot encoding\n",
    "from sklearn.preprocessing import OneHotEncoder\n",
    "enc = OneHotEncoder(handle_unknown='ignore', sparse=False)\n",
    "y_train_one_hot = enc.fit_transform(y_train[:, np.newaxis])\n",
    "y_test_one_hot = enc.transform(y_test[:, np.newaxis])\n",
    "\n",
    "# 学習\n",
    "model = ScratchSimpleNeuralNetworkClassifier()\n",
    "model.fit(x_train, y_train_one_hot)"
   ]
  },
  {
   "cell_type": "markdown",
   "source": [
    "### 【問題6】学習と推定"
   ],
   "metadata": {
    "collapsed": false,
    "pycharm": {
     "name": "#%% md\n"
    }
   }
  },
  {
   "cell_type": "code",
   "execution_count": 106,
   "metadata": {},
   "outputs": [
    {
     "data": {
      "text/plain": "[0.18896010504771096,\n 0.10653434154768146,\n 0.0731246542082015,\n 0.053710214418475136,\n 0.04248515547112884,\n 0.034473767079088245,\n 0.027829075144917254,\n 0.023472412859403463,\n 0.019458049729272543,\n 0.011665487461131042]"
     },
     "metadata": {},
     "output_type": "display_data"
    },
    {
     "data": {
      "text/plain": "0.996625"
     },
     "metadata": {},
     "output_type": "display_data"
    },
    {
     "data": {
      "text/plain": "0.9752"
     },
     "metadata": {},
     "output_type": "display_data"
    }
   ],
   "source": [
    "# 学習結果\n",
    "display(model.loss_train)\n",
    "# 予測\n",
    "pred_train = model.predict(x_train)\n",
    "pred_test = model.predict(x_test)\n",
    "\n",
    "# 評価\n",
    "from sklearn.metrics import accuracy_score\n",
    "display(accuracy_score(y_train, pred_train))\n",
    "display(accuracy_score(y_test, pred_test))\n"
   ]
  },
  {
   "cell_type": "markdown",
   "metadata": {
    "pycharm": {
     "name": "#%% md\n"
    }
   },
   "source": [
    "### 【問題7】学習曲線のプロット"
   ]
  },
  {
   "cell_type": "code",
   "execution_count": 113,
   "outputs": [
    {
     "name": "stderr",
     "output_type": "stream",
     "text": [
      "No handles with labels found to put in legend.\n"
     ]
    },
    {
     "name": "stdout",
     "output_type": "stream",
     "text": [
      "[1, 2, 3, 4, 5, 6, 7, 8, 9, 10]\n"
     ]
    },
    {
     "data": {
      "text/plain": "<Figure size 432x288 with 1 Axes>",
      "image/png": "[encoded data removed]"
     },
     "metadata": {
      "needs_background": "light"
     },
     "output_type": "display_data"
    }
   ],
   "source": [
    "import matplotlib.pyplot as plt\n",
    "\n",
    "plot_x = [i for i in range(1, model.epoch+1)]\n",
    "plt.plot(plot_x, model.loss_train)\n",
    "plt.legend()\n",
    "plt.show()"
   ],
   "metadata": {
    "collapsed": false,
    "pycharm": {
     "name": "#%%\n"
    }
   }
  },
  {
   "cell_type": "markdown",
   "source": [
    "memo:\n",
    "https://rightcode.co.jp/blog/information-technology/back-propagation-algorithm-implementation"
   ],
   "metadata": {
    "collapsed": false,
    "pycharm": {
     "name": "#%% md\n"
    }
   }
  },
  {
   "cell_type": "code",
   "execution_count": 105,
   "outputs": [],
   "source": [],
   "metadata": {
    "collapsed": false,
    "pycharm": {
     "name": "#%%\n"
    }
   }
  },
  {
   "cell_type": "code",
   "execution_count": null,
   "outputs": [],
   "source": [],
   "metadata": {
    "collapsed": false,
    "pycharm": {
     "name": "#%%\n"
    }
   }
  }
 ],
 "metadata": {
  "kernelspec": {
   "name": "pycharm-72ff9fb5",
   "language": "python",
   "display_name": "PyCharm (diveintocode-ml)"
  },
  "language_info": {
   "codemirror_mode": {
    "name": "ipython",
    "version": 3
   },
   "file_extension": ".py",
   "mimetype": "text/x-python",
   "name": "python",
   "nbconvert_exporter": "python",
   "pygments_lexer": "ipython3",
   "version": "3.8.5"
  }
 },
 "nbformat": 4,
 "nbformat_minor": 4
}