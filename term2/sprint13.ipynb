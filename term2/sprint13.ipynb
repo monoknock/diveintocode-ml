{
 "cells": [
  {
   "cell_type": "code",
   "execution_count": 18,
   "metadata": {},
   "outputs": [
    {
     "name": "stdout",
     "output_type": "stream",
     "text": [
      "Epoch 1/5\n",
      "1875/1875 [==============================] - 2s 918us/step - loss: 0.2947 - accuracy: 0.9145\n",
      "Epoch 2/5\n",
      "1875/1875 [==============================] - 2s 924us/step - loss: 0.1427 - accuracy: 0.9577\n",
      "Epoch 3/5\n",
      "1875/1875 [==============================] - 2s 921us/step - loss: 0.1078 - accuracy: 0.9675\n",
      "Epoch 4/5\n",
      "1875/1875 [==============================] - 2s 965us/step - loss: 0.0887 - accuracy: 0.9725\n",
      "Epoch 5/5\n",
      "1875/1875 [==============================] - 2s 986us/step - loss: 0.0757 - accuracy: 0.97660s - loss: 0.0753 - accura\n",
      "313/313 - 0s - loss: 0.0767 - accuracy: 0.9760\n"
     ]
    },
    {
     "data": {
      "text/plain": [
       "<tf.Tensor: shape=(5, 10), dtype=float32, numpy=\n",
       "array([[3.39563777e-09, 7.61389007e-11, 1.29276259e-06, 7.78053291e-05,\n",
       "        5.37901321e-11, 1.54675547e-07, 1.46812223e-14, 9.99920011e-01,\n",
       "        1.59909295e-08, 7.48634648e-07],\n",
       "       [4.65835541e-07, 1.37101393e-03, 9.98439372e-01, 1.39694515e-04,\n",
       "        1.05699581e-13, 1.71121628e-05, 3.21068255e-05, 2.66340660e-13,\n",
       "        1.79295100e-07, 1.60343513e-13],\n",
       "       [1.04271869e-07, 9.99021292e-01, 2.75073489e-05, 1.68627921e-05,\n",
       "        4.22446174e-05, 1.63924858e-06, 7.11536495e-06, 8.37737927e-04,\n",
       "        4.52296299e-05, 2.49713850e-07],\n",
       "       [9.98932302e-01, 7.29619160e-07, 3.76775788e-05, 2.10396320e-06,\n",
       "        7.41459962e-06, 7.95534197e-06, 1.09497641e-05, 8.92763084e-04,\n",
       "        1.90764652e-07, 1.07976026e-04],\n",
       "       [3.09057646e-06, 3.09796078e-09, 9.71383997e-06, 8.18720949e-08,\n",
       "        9.95054960e-01, 2.43573588e-08, 2.18371906e-06, 3.48846370e-04,\n",
       "        4.18703667e-06, 4.57691588e-03]], dtype=float32)>"
      ]
     },
     "execution_count": 18,
     "metadata": {},
     "output_type": "execute_result"
    }
   ],
   "source": [
    "import tensorflow as tf\n",
    "\n",
    "mnist = tf.keras.datasets.mnist\n",
    "\n",
    "(x_train, y_train), (x_test, y_test) = mnist.load_data()\n",
    "x_train, x_test = x_train / 255.0, x_test / 255.0 # 整数から浮動小数点数に変換\n",
    "\n",
    "model = tf.keras.models.Sequential([\n",
    "  tf.keras.layers.Flatten(input_shape=(28, 28)),\n",
    "  tf.keras.layers.Dense(128, activation='relu'),\n",
    "  tf.keras.layers.Dropout(0.2),\n",
    "  tf.keras.layers.Dense(10)\n",
    "])\n",
    "\n",
    "# それぞれの標本について、クラスごとに\"ロジット\"や\"対数オッズ比\"と呼ばれるスコアを算\n",
    "predictions = model(x_train[:1]).numpy() # ndarray\n",
    "\n",
    "# クラスごとにこれらのロジットを \"確率\" に変換\n",
    "tf.nn.softmax(predictions).numpy()\n",
    "\n",
    "# 損失関数\n",
    "# クラスが正しい確率の対数をとって符号を反転させたもの\n",
    "loss_fn = tf.keras.losses.SparseCategoricalCrossentropy(from_logits=True)\n",
    "loss_fn(y_train[:1], predictions).numpy()\n",
    "\n",
    "model.compile(optimizer='adam',\n",
    "              loss=loss_fn,\n",
    "              metrics=['accuracy'])\n",
    "\n",
    "model.fit(x_train, y_train, epochs=5)\n",
    "\n",
    "model.evaluate(x_test,  y_test, verbose=2)\n",
    "\n",
    "probability_model = tf.keras.Sequential([\n",
    "  model,\n",
    "  tf.keras.layers.Softmax()\n",
    "])\n",
    "\n",
    "probability_model(x_test[:5])"
   ]
  },
  {
   "cell_type": "code",
   "execution_count": 6,
   "metadata": {},
   "outputs": [
    {
     "data": {
      "text/plain": [
       "<tensorflow.python.keras.engine.sequential.Sequential at 0x7fb4066260a0>"
      ]
     },
     "execution_count": 6,
     "metadata": {},
     "output_type": "execute_result"
    }
   ],
   "source": [
    "import numpy as np\n",
    "import "
   ]
  },
  {
   "cell_type": "code",
   "execution_count": null,
   "metadata": {},
   "outputs": [],
   "source": []
  }
 ],
 "metadata": {
  "kernelspec": {
   "display_name": "Python 3",
   "language": "python",
   "name": "python3"
  },
  "language_info": {
   "codemirror_mode": {
    "name": "ipython",
    "version": 3
   },
   "file_extension": ".py",
   "mimetype": "text/x-python",
   "name": "python",
   "nbconvert_exporter": "python",
   "pygments_lexer": "ipython3",
   "version": "3.8.5"
  }
 },
 "nbformat": 4,
 "nbformat_minor": 4
}
