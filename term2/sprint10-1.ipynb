{
 "cells": [
  {
   "cell_type": "code",
   "execution_count": 10,
   "outputs": [
    {
     "name": "stdout",
     "output_type": "stream",
     "text": [
      "<class '__main__.FC'>\n"
     ]
    }
   ],
   "source": [
    "import numpy as np\n",
    "from IPython.display import display\n",
    "from sklearn.metrics import accuracy_score\n",
    "from sklearn.metrics import precision_score\n",
    "from sklearn.metrics import recall_score\n",
    "from sklearn.metrics import f1_score\n",
    "import matplotlib.pyplot as plt\n",
    "from tensorflow.keras.datasets import mnist\n",
    "from sklearn.model_selection import train_test_split\n",
    "\n",
    "#\n",
    "# 活性化関数 activator\n",
    "#\n",
    "\n",
    "# 全結合層 (Fully Connected Layer, Affine層, Dense層)\n",
    "class FC:\n",
    "    def __init__(self, n_nodes1, n_nodes2, initializer, optimizer):\n",
    "        self.optimizer = optimizer\n",
    "        self.W = initializer.W(n_nodes1, n_nodes2) # 行列 shape(n_nodes1, n_nodes2)\n",
    "        self.B = initializer.B(n_nodes2)           # ベクトル shape(1, n_nodes2)\n",
    "        self.Z = None\n",
    "        self.hW = 0\n",
    "        self.hB = 0\n",
    "\n",
    "    def forward(self, X):\n",
    "        self.Z = X  # backwardで使う\n",
    "        return X @ self.W + self.B\n",
    "\n",
    "    def backward(self, d_a):\n",
    "        self.dB = np.sum(d_a, axis=0) # なぜsumになるんだ\n",
    "        self.dW = self.Z.T @ d_a      # おそらく微分値がこうなるんだと思う\n",
    "        self.dZ = d_a @ self.W.T      # おそらく微分値がこうなるんだと思う\n",
    "        self.optimizer.update(self)   # 自身のW/Bをoptimizerにより更新\n",
    "        return self.dZ\n",
    "\n",
    "class Sigmoid:\n",
    "    def forward(self, A):\n",
    "        self.A = A\n",
    "        return 1 / (1 + np.exp(-A))\n",
    "\n",
    "    def backward(self, dZ):\n",
    "        A = self.A\n",
    "        c = 1 / (1 + np.exp(-A))\n",
    "        d = (1 / (1 + np.exp(-A)))**2\n",
    "        return dZ * (c - d)\n",
    "\n",
    "class Tanh:\n",
    "    def forward(self, A):\n",
    "        self.A = A\n",
    "        return np.tanh(A)\n",
    "\n",
    "    def backward(self, dZ):\n",
    "        return dZ * (1 - np.tanh(self.A)**2)\n",
    "\n",
    "class Softmax:\n",
    "    def forward(self, A):\n",
    "        exp_a = np.exp(A) # eのx乗を返す\n",
    "        sum_exp_a = np.sum(np.exp(A), axis=1).reshape(-1, 1) # 指数関数の和\n",
    "        return exp_a / sum_exp_a\n",
    "\n",
    "    def backward(self, z, y):\n",
    "        # ゼロつく本だとbatch_sizeで割っているが、悪と逆に悪くなる。理由はまだ不明\n",
    "        d_a = z - y # 実質これが勾配\n",
    "        loss = -( np.sum(y * np.log(z)) / len(y) )\n",
    "        return d_a, loss\n",
    "\n",
    "class ReLU:\n",
    "    def forward(self, A):\n",
    "        self.A = A\n",
    "        return np.maximum(0, A) # 0とxを比較して大きい方の数値を返す\n",
    "\n",
    "    def backward(self, dZ):\n",
    "        return dZ * np.where(self.A > 0, 1, 0)\n",
    "\n",
    "# 更新アルゴリズム optimizer\n",
    "class SGD:\n",
    "    def __init__(self, lr):\n",
    "        self.lr = lr\n",
    "\n",
    "    def update(self, layer):\n",
    "        layer.W -= self.lr * layer.dW\n",
    "        layer.B -= self.lr * layer.dB\n",
    "\n",
    "class AdaGrad:\n",
    "    def __init__(self, lr):\n",
    "        self.lr = lr\n",
    "\n",
    "    def update(self, layer):\n",
    "        layer.hW += layer.dW * layer.dW # layer側に代入している理由: AdaGradはほかのFCオブジェクトで使い回されるため、FC側に保持する必要がある\n",
    "        layer.hB += layer.dB * layer.dB\n",
    "        layer.W -= self.lr * layer.dW / (np.sqrt(layer.hW) + 1e-7)\n",
    "        layer.B -= self.lr * layer.dB / (np.sqrt(layer.hB) + 1e-7) # Note. / len(layer.Z)\n",
    "\n",
    "# 初期値 initializer\n",
    "class SimpleInitializer:\n",
    "    def __init__(self, sigma, n_nodes1, n_nodes2):\n",
    "        self.sigma = sigma\n",
    "        self.n_nodes1 = n_nodes1\n",
    "        self.n_nodes2 = n_nodes2\n",
    "\n",
    "    def W(self):\n",
    "        # display(\"self.sigma: \", self.sigma)\n",
    "        # display(\"self.n_nodes1: \", self.n_nodes1)\n",
    "        # display(\"self.n_nodes2: \", self.n_nodes2)\n",
    "        return self.sigma * np.random.randn(self.n_nodes1, self.n_nodes2)\n",
    "\n",
    "    def B(self):\n",
    "        return self.sigma * np.random.randn(1, self.n_nodes2)\n",
    "\n",
    "class XavierInitializer:\n",
    "    # sigmaはinterfaceを合わせるためだけに実装\n",
    "    def __init__(self, sigma):\n",
    "        self.s = None\n",
    "\n",
    "    def W(self, n_nodes1, n_nodes2):\n",
    "        self.s = np.sqrt(1 / n_nodes1)\n",
    "        return self.s * np.random.randn(n_nodes1, n_nodes2)\n",
    "\n",
    "    def B(self, n_nodes2):\n",
    "        return self.s * np.random.randn(1, n_nodes2)\n",
    "\n",
    "class HeInitializer:\n",
    "    # sigmaはinterfaceを合わせるためだけに実装\n",
    "    def __init__(self, sigma):\n",
    "        self.s = None\n",
    "\n",
    "    def W(self, n_nodes1, n_nodes2):\n",
    "        # display(\"n_nodes1: \", n_nodes1)\n",
    "        # display(\"n_nodes2: \", n_nodes2)\n",
    "\n",
    "        self.s = np.sqrt(2 / n_nodes1)\n",
    "        # display(\"self.s: \", self.s)\n",
    "        w = self.s * np.random.randn(n_nodes1, n_nodes2)\n",
    "        # display(\"w: \", w)\n",
    "        return w\n",
    "\n",
    "    def B(self, n_nodes2):\n",
    "        return self.s * np.random.randn(1, n_nodes2)\n",
    "\n",
    "# ミニバッチ\n",
    "class GetMiniBatch:\n",
    "    \"\"\"\n",
    "    ミニバッチを取得するイテレータ\n",
    "    Parameters\n",
    "    ----------\n",
    "    X : 次の形のndarray, shape (n_samples, n_features)\n",
    "      訓練データ\n",
    "    y : 次の形のndarray, shape (n_samples, 1)\n",
    "      正解値\n",
    "    batch_size : int\n",
    "      バッチサイズ\n",
    "    seed : int\n",
    "      NumPyの乱数のシード\n",
    "    \"\"\"\n",
    "    def __init__(self, X, y, batch_size = 20, seed=0):\n",
    "        self.batch_size = batch_size\n",
    "        np.random.seed(seed)\n",
    "        shuffle_index = np.random.permutation(np.arange(X.shape[0]))\n",
    "        self._X = X[shuffle_index]\n",
    "        self._y = y[shuffle_index]\n",
    "        self._stop = np.ceil(X.shape[0]/self.batch_size).astype(np.int)\n",
    "    def __len__(self):\n",
    "        return self._stop\n",
    "    def __getitem__(self,item):\n",
    "        p0 = item*self.batch_size\n",
    "        p1 = item*self.batch_size + self.batch_size\n",
    "        return self._X[p0:p1], self._y[p0:p1]\n",
    "    def __iter__(self):\n",
    "        self._counter = 0\n",
    "        return self\n",
    "    def __next__(self):\n",
    "        if self._counter >= self._stop:\n",
    "            raise StopIteration()\n",
    "        p0 = self._counter*self.batch_size\n",
    "        p1 = self._counter*self.batch_size + self.batch_size\n",
    "        self._counter += 1\n",
    "        return self._X[p0:p1], self._y[p0:p1]\n",
    "\n",
    "# スクラッチクラス\n",
    "class ScratchDeepNeuralNetworkClassifier:\n",
    "    def __init__(self, epoch=1, lr=0.5, optimizer=SGD, initializer=HeInitializer, activator=ReLU):\n",
    "        (self.n_features, self.n_nodes1, self.n_nodes2, self.n_output) = (784, 400, 200, 10)\n",
    "        self.sigma = 0.02\n",
    "        self.batch_size = 20\n",
    "        self.lr = lr\n",
    "        self.epoch = epoch\n",
    "        self.optimizer = optimizer\n",
    "        self.initializer = initializer\n",
    "        self.activator = activator\n",
    "        (self.loss_train, self.loss_valid) = (None, None)\n",
    "        (self.FC1, self.FC2, self.FC3) = (None, None, None)\n",
    "        (self.activation1, self.activation2, self.activation3) = (None, None, None)\n",
    "\n",
    "    def fit(self, X, y, X_valid, y_valid):\n",
    "        self.loss_train = []\n",
    "        self.loss_valid = []\n",
    "        optimizer = self.optimizer(self.lr)\n",
    "\n",
    "        # 各レイヤーの初期化\n",
    "        self.FC1 = FC(self.n_features, self.n_nodes1, self.initializer(self.sigma), optimizer)\n",
    "        self.activation1 = self.activator()\n",
    "        self.FC2 = FC(self.n_nodes1, self.n_nodes2, self.initializer(self.sigma), optimizer)\n",
    "        self.activation2 = self.activator()\n",
    "        self.FC3 = FC(self.n_nodes2, self.n_output, self.initializer(self.sigma), optimizer)\n",
    "        self.activation3 = Softmax()\n",
    "\n",
    "        for i in range(self.epoch):\n",
    "            mini_batch = GetMiniBatch(X, y, batch_size=self.batch_size, seed=i)\n",
    "            for x_mini, y_mini in mini_batch:\n",
    "                z3 = self._forward(x_mini)\n",
    "                self._backward(z3, y_mini)\n",
    "            # loss_train\n",
    "            z3 = self._forward(X)\n",
    "            _, loss = self.activation3.backward(z3, y)\n",
    "            self.loss_train.append(loss)\n",
    "            # loss_valid\n",
    "            z3 = self._forward(X_valid)\n",
    "            _, loss = self.activation3.backward(z3, y_valid)\n",
    "            self.loss_valid.append(loss)\n",
    "\n",
    "    def predict(self, x):\n",
    "        z3 = self._forward(x)\n",
    "        return np.argmax(z3, axis=1)\n",
    "\n",
    "    def _forward(self, x):\n",
    "        # layer 1\n",
    "        a1 = self.FC1.forward(x)            # 仮定関数の役目 a=affine\n",
    "        z1 = self.activation1.forward(a1)   # アルゴリズムによる変換(標準化みたいなもの)\n",
    "        # layer 2\n",
    "        a2 = self.FC2.forward(z1)\n",
    "        z2 = self.activation2.forward(a2)\n",
    "        # layer final\n",
    "        a3 = self.FC3.forward(z2)\n",
    "        z3 = self.activation3.forward(a3)\n",
    "        return z3   # shape(処理中の行数, 最終層のノード数)\n",
    "\n",
    "    def _backward(self, z3, y):\n",
    "        # layer final\n",
    "        d_a3, _ = self.activation3.backward(z3, y) # d=delta\n",
    "        d_z2 = self.FC3.backward(d_a3)\n",
    "        # layer 2\n",
    "        d_a2 = self.activation2.backward(d_z2)\n",
    "        d_z1 = self.FC2.backward(d_a2)\n",
    "        # layer 1\n",
    "        d_a1 = self.activation1.backward(d_z1)\n",
    "        _ = self.FC1.backward(d_a1) # 理想の特徴量の状態(これは保存しない？)"
   ],
   "metadata": {
    "collapsed": false,
    "pycharm": {
     "name": "#%%\n"
    }
   }
  },
  {
   "cell_type": "code",
   "execution_count": 58,
   "outputs": [],
   "source": [
    "#\n",
    "# 前処理\n",
    "#\n",
    "\n",
    "# データセット\n",
    "(x_train, y_train), (x_test, y_test) = mnist.load_data() # shape(60000, 28, 28)\n",
    "\n",
    "# 平滑化\n",
    "x_train = x_train.reshape(-1, 784) # shape(60000, 784)\n",
    "x_test = x_test.reshape(-1, 784)   # shape(60000, 784)\n",
    "# スケール調整\n",
    "x_train = x_train.astype(np.float)\n",
    "x_test = x_test.astype(np.float)\n",
    "x_train /= 255\n",
    "x_test /= 255\n",
    "# one-hot encoding\n",
    "from sklearn.preprocessing import OneHotEncoder\n",
    "enc = OneHotEncoder(handle_unknown='ignore', sparse=False)\n",
    "y_train_one_hot = enc.fit_transform(y_train[:, np.newaxis])\n",
    "y_test_one_hot = enc.transform(y_test[:, np.newaxis])\n",
    "\n",
    "def result(model, x_train, y_train, x_test, y_test):\n",
    "    # 学習結果\n",
    "    display(model.loss_train)\n",
    "\n",
    "    # 予測\n",
    "    pred_train = model.predict(x_train)\n",
    "    pred_test = model.predict(x_test)\n",
    "\n",
    "    # 評価\n",
    "    print(\"train accuracy_score: \\t\", accuracy_score(y_train, pred_train))\n",
    "    print(\"train precision_score: \\t\", precision_score(y_train, pred_train, average=\"micro\"))\n",
    "    print(\"train recall_score: \\t\", recall_score(y_train, pred_train, average=\"micro\"))\n",
    "    print(\"train f1_score: \\t\", f1_score(y_train, pred_train, average=\"micro\"))\n",
    "    print(\"train accuracy_score: \\t\", accuracy_score(y_test, pred_test))\n",
    "    print(\"train precision_score: \\t\", precision_score(y_test, pred_test, average=\"micro\"))\n",
    "    print(\"train recall_score: \\t\", recall_score(y_test, pred_test, average=\"micro\"))\n",
    "    print(\"train f1_score: \\t\", f1_score(y_test, pred_test, average=\"micro\"))\n",
    "\n",
    "    # lossグラフ\n",
    "    plot_x = [i for i in range(1, model.epoch+1)]\n",
    "    plt.plot(plot_x, model.loss_train, label='train')\n",
    "    plt.plot(plot_x, model.loss_valid, label='valid')\n",
    "    plt.legend()\n",
    "    plt.show()\n",
    "\n",
    "# x_train = x_train[:20]\n",
    "# x_test = x_test[:20]\n",
    "# y_train_one_hot = y_train_one_hot[:20]\n",
    "# y_test_one_hot = y_test_one_hot[:20]"
   ],
   "metadata": {
    "collapsed": false,
    "pycharm": {
     "name": "#%%\n"
    }
   }
  },
  {
   "cell_type": "code",
   "execution_count": 69,
   "outputs": [
    {
     "name": "stdout",
     "output_type": "stream",
     "text": [
      "elapsed_time: 399 [sec]\n"
     ]
    }
   ],
   "source": [
    "# 学習 AdaGrad, Xavier, Tanh\n",
    "import time\n",
    "start = time.time()\n",
    "\n",
    "model = ScratchDeepNeuralNetworkClassifier(epoch=30, lr=0.01, optimizer=AdaGrad, initializer=XavierInitializer, activator=Tanh)\n",
    "model.fit(x_train, y_train_one_hot, x_test, y_test_one_hot)\n",
    "\n",
    "print (\"elapsed_time: {} \".format(int(time.time() - start)) + \"[sec]\")"
   ],
   "metadata": {
    "collapsed": false,
    "pycharm": {
     "name": "#%%\n"
    }
   }
  },
  {
   "cell_type": "code",
   "execution_count": 48,
   "outputs": [
    {
     "name": "stdout",
     "output_type": "stream",
     "text": [
      "x_train: 60000 x_test: 10000\n"
     ]
    },
    {
     "data": {
      "text/plain": "[0.0969711926538501,\n 0.06503729865896916,\n 0.04432030790529356,\n 0.02888564598816412,\n 0.02196190337067925,\n 0.01646644789854705,\n 0.012304613216466751]"
     },
     "metadata": {},
     "output_type": "display_data"
    },
    {
     "name": "stdout",
     "output_type": "stream",
     "text": [
      "train accuracy_score: \t 0.99845\n",
      "train precision_score: \t 0.99845\n",
      "train recall_score: \t 0.99845\n",
      "train f1_score: \t 0.99845\n",
      "train accuracy_score: \t 0.9818\n",
      "train precision_score: \t 0.9818\n",
      "train recall_score: \t 0.9818\n",
      "train f1_score: \t 0.9818\n"
     ]
    },
    {
     "data": {
      "text/plain": "<Figure size 432x288 with 1 Axes>",
      "image/png": "[encoded data removed]"
     },
     "metadata": {
      "needs_background": "light"
     },
     "output_type": "display_data"
    }
   ],
   "source": [
    "print(f\"x_train: {len(x_train)} x_test: {len(x_test)}\")\n",
    "result(model, x_train, y_train, x_test, y_test)\n"
   ],
   "metadata": {
    "collapsed": false,
    "pycharm": {
     "name": "#%%\n"
    }
   }
  },
  {
   "cell_type": "code",
   "execution_count": 51,
   "outputs": [
    {
     "name": "stdout",
     "output_type": "stream",
     "text": [
      "x_train: 60000 x_test: 10000\n"
     ]
    },
    {
     "data": {
      "text/plain": "[0.09406527513840535,\n 0.062479981295288214,\n 0.04394016115383058,\n 0.027848893185862422,\n 0.022325743289208128,\n 0.017195751900641168,\n 0.012165682378441511]"
     },
     "metadata": {},
     "output_type": "display_data"
    },
    {
     "name": "stdout",
     "output_type": "stream",
     "text": [
      "train accuracy_score: \t 0.99825\n",
      "train precision_score: \t 0.99825\n",
      "train recall_score: \t 0.99825\n",
      "train f1_score: \t 0.99825\n",
      "train accuracy_score: \t 0.9805\n",
      "train precision_score: \t 0.9805\n",
      "train recall_score: \t 0.9805\n",
      "train f1_score: \t 0.9805\n"
     ]
    },
    {
     "data": {
      "text/plain": "<Figure size 432x288 with 1 Axes>",
      "image/png": "[encoded data removed]"
     },
     "metadata": {
      "needs_background": "light"
     },
     "output_type": "display_data"
    }
   ],
   "source": [
    "# softmax の backward修正パターン softmaxでlen割を入れる\n",
    "\n",
    "print(f\"x_train: {len(x_train)} x_test: {len(x_test)}\")\n",
    "result(model, x_train, y_train, x_test, y_test)\n"
   ],
   "metadata": {
    "collapsed": false,
    "pycharm": {
     "name": "#%%\n"
    }
   }
  },
  {
   "cell_type": "code",
   "execution_count": 70,
   "outputs": [
    {
     "name": "stdout",
     "output_type": "stream",
     "text": [
      "x_train: 60000 x_test: 10000\n"
     ]
    },
    {
     "data": {
      "text/plain": "[0.13919333094787806,\n 0.103228867458226,\n 0.08651057062830451,\n 0.06971588111929636,\n 0.062254436524321874,\n 0.05431966358009002,\n 0.04722558450269976,\n 0.04314896272187759,\n 0.038615034816247375,\n 0.03627482016132114,\n 0.031614267466225345,\n 0.0290288336511677,\n 0.026457317711278815,\n 0.024617294977629947,\n 0.023053779977415877,\n 0.021715562743035183,\n 0.018958978707876446,\n 0.017668361058587816,\n 0.01645949436145144,\n 0.01558857431190933,\n 0.014356401173820707,\n 0.013701579343910275,\n 0.012714794309632975,\n 0.012001621034121867,\n 0.011558900994323938,\n 0.010544997824584014,\n 0.010159981220721835,\n 0.009229899125839531,\n 0.008937085956785587,\n 0.008392062427872934]"
     },
     "metadata": {},
     "output_type": "display_data"
    },
    {
     "name": "stdout",
     "output_type": "stream",
     "text": [
      "train accuracy_score: \t 0.9994\n",
      "train precision_score: \t 0.9994\n",
      "train recall_score: \t 0.9994\n",
      "train f1_score: \t 0.9994\n",
      "train accuracy_score: \t 0.9811\n",
      "train precision_score: \t 0.9811\n",
      "train recall_score: \t 0.9811\n",
      "train f1_score: \t 0.9811\n"
     ]
    },
    {
     "data": {
      "text/plain": "<Figure size 432x288 with 1 Axes>",
      "image/png": "[encoded data removed]"
     },
     "metadata": {
      "needs_background": "light"
     },
     "output_type": "display_data"
    }
   ],
   "source": [
    "# softmax の backward修正パターン\n",
    "\n",
    "print(f\"x_train: {len(x_train)} x_test: {len(x_test)}\")\n",
    "result(model, x_train, y_train, x_test, y_test)"
   ],
   "metadata": {
    "collapsed": false,
    "pycharm": {
     "name": "#%%\n"
    }
   }
  },
  {
   "cell_type": "code",
   "execution_count": 11,
   "outputs": [
    {
     "name": "stdout",
     "output_type": "stream",
     "text": [
      "<class '__main__.FC'>\n"
     ]
    }
   ],
   "source": [
    "print(FC)\n",
    "\n"
   ],
   "metadata": {
    "collapsed": false,
    "pycharm": {
     "name": "#%%\n"
    }
   }
  },
  {
   "cell_type": "code",
   "execution_count": null,
   "outputs": [],
   "source": [],
   "metadata": {
    "collapsed": false,
    "pycharm": {
     "name": "#%%\n"
    }
   }
  }
 ],
 "metadata": {
  "kernelspec": {
   "display_name": "Python 3",
   "language": "python",
   "name": "python3"
  },
  "language_info": {
   "codemirror_mode": {
    "name": "ipython",
    "version": 2
   },
   "file_extension": ".py",
   "mimetype": "text/x-python",
   "name": "python",
   "nbconvert_exporter": "python",
   "pygments_lexer": "ipython2",
   "version": "2.7.6"
  }
 },
 "nbformat": 4,
 "nbformat_minor": 0
}