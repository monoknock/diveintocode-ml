{
 "cells": [
  {
   "cell_type": "markdown",
   "metadata": {},
   "source": [
    "### udemy"
   ]
  },
  {
   "cell_type": "code",
   "execution_count": 40,
   "metadata": {},
   "outputs": [],
   "source": [
    "import numpy as np\n",
    "import tensorflow as tf\n",
    "import tensorflow_datasets as tfds\n",
    "\n",
    "# PrefetchDataset\n",
    "mnist_dataset, mnist_info = tfds.load(name=\"mnist\", with_info=True, as_supervised=True)\n",
    "# PrefetchDataset\n",
    "mnist_train, mnist_test = mnist_dataset[\"train\"], mnist_dataset['test']\n",
    "\n",
    "# EagerTensor\n",
    "# なぜtf.castを通しているのかは現段階では不明、おそらくtf内で計算しやすいオブジェクトにしているのではなかろうか\n",
    "num_valid_samples = tf.cast(0.1 * mnist_info.splits['train'].num_examples, tf.int64)\n",
    "num_test_samples = tf.cast(mnist_info.splits['test'].num_examples, tf.int64)\n",
    "\n",
    "\n",
    "# Feature Scaling 0~255 => 0~1 にスケーリングする\n",
    "def scale(image, label):\n",
    "    image = tf.cast(image, tf.float32)\n",
    "    image /= 255.\n",
    "    return image, label\n",
    "\n",
    "\n",
    "# MapDataset\n",
    "scaled_train_and_valid_data = mnist_train.map(scale)\n",
    "test_data = mnist_test.map(scale)\n",
    "\n",
    "# train/validにsplit\n",
    "BUFFER_SIZE = 10000 # メモリ対策\n",
    "shuffled_train_and_valid_data = scaled_train_and_valid_data.shuffle(BUFFER_SIZE)\n",
    "valid_data = shuffled_train_and_valid_data.take(num_valid_samples)\n",
    "train_data = shuffled_train_and_valid_data.skip(num_valid_samples)\n",
    "\n",
    "# 負荷対策\n",
    "BATCH_SIZE = 100\n",
    "train_data = train_data.batch(BATCH_SIZE)\n",
    "valid_data = valid_data.batch(num_valid_samples)\n",
    "test_data = test_data.batch(num_test_samples)\n",
    "\n",
    "valid_inputs, valid_targets = next(iter(valid_data))"
   ]
  },
  {
   "cell_type": "code",
   "execution_count": 41,
   "metadata": {},
   "outputs": [],
   "source": [
    "#\n",
    "# モデルの作成\n",
    "# 隠れ層: 2層\n",
    "# 合計: 4層\n",
    "#\n",
    "input_size = 784 # 28 * 28 * 1\n",
    "output_size = 10\n",
    "hidden_layer_size = 50\n",
    "model = tf.keras.Sequential([\n",
    "    tf.keras.layers.Flatten(input_shape=(28,28,1)), # 1列に変換\n",
    "    tf.keras.layers.Dense(hidden_layer_size, activation='relu'),\n",
    "    tf.keras.layers.Dense(hidden_layer_size, activation='relu'),\n",
    "    tf.keras.layers.Dense(output_size, activation='softmax'),\n",
    "])"
   ]
  },
  {
   "cell_type": "code",
   "execution_count": null,
   "metadata": {},
   "outputs": [],
   "source": []
  },
  {
   "cell_type": "code",
   "execution_count": 42,
   "metadata": {},
   "outputs": [],
   "source": [
    "#\n",
    "# 最適化アルゴリズムと損失関数の決定\n",
    "#\n",
    "\n",
    "# sparse_categorical_crossentropy: ワンホットエンコーディングで使うらしい\n",
    "model.compile(optimizer=\"adam\", loss=\"sparse_categorical_crossentropy\", metrics=[\"accuracy\"])"
   ]
  },
  {
   "cell_type": "code",
   "execution_count": 46,
   "metadata": {},
   "outputs": [
    {
     "name": "stdout",
     "output_type": "stream",
     "text": [
      "Epoch 1/5\n",
      "540/540 - 4s - loss: 0.0137 - accuracy: 0.9959 - val_loss: 0.0167 - val_accuracy: 0.9953\n",
      "Epoch 2/5\n",
      "540/540 - 4s - loss: 0.0126 - accuracy: 0.9959 - val_loss: 0.0197 - val_accuracy: 0.9933\n",
      "Epoch 3/5\n",
      "540/540 - 5s - loss: 0.0117 - accuracy: 0.9964 - val_loss: 0.0205 - val_accuracy: 0.9922\n",
      "Epoch 4/5\n",
      "540/540 - 4s - loss: 0.0122 - accuracy: 0.9961 - val_loss: 0.0211 - val_accuracy: 0.9940\n",
      "Epoch 5/5\n",
      "540/540 - 4s - loss: 0.0137 - accuracy: 0.9958 - val_loss: 0.0331 - val_accuracy: 0.9888\n"
     ]
    },
    {
     "data": {
      "text/plain": [
       "<tensorflow.python.keras.callbacks.History at 0x7fe3a2f30130>"
      ]
     },
     "execution_count": 46,
     "metadata": {},
     "output_type": "execute_result"
    }
   ],
   "source": [
    "#\n",
    "# 訓練\n",
    "#\n",
    "NUM_EPOCHS = 5 # 繰り返し回数\n",
    "VALIDATION_STEPS = num_valid_samples # バッチサイズ\n",
    "model.fit(train_data, epochs=NUM_EPOCHS, validation_data=(valid_inputs, valid_targets), validation_steps=VALIDATION_STEPS, verbose=2)"
   ]
  },
  {
   "cell_type": "code",
   "execution_count": 49,
   "metadata": {},
   "outputs": [
    {
     "name": "stdout",
     "output_type": "stream",
     "text": [
      "1/1 [==============================] - 0s 224ms/step - loss: 0.1390 - accuracy: 0.9726\n",
      "Test loss: 0.14. Test accuracy: 97.26%\n"
     ]
    }
   ],
   "source": [
    "test_loss, test_accuracy = model.evaluate(test_data)\n",
    "print('Test loss: {0:.2f}. Test accuracy: {1:.2f}%'.format(test_loss, test_accuracy*100.))"
   ]
  },
  {
   "cell_type": "code",
   "execution_count": null,
   "metadata": {},
   "outputs": [],
   "source": []
  }
 ],
 "metadata": {
  "kernelspec": {
   "display_name": "Python 3",
   "language": "python",
   "name": "python3"
  },
  "language_info": {
   "codemirror_mode": {
    "name": "ipython",
    "version": 3
   },
   "file_extension": ".py",
   "mimetype": "text/x-python",
   "name": "python",
   "nbconvert_exporter": "python",
   "pygments_lexer": "ipython3",
   "version": "3.8.5"
  }
 },
 "nbformat": 4,
 "nbformat_minor": 4
}
