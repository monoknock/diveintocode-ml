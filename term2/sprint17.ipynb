{
 "cells": [
  {
   "cell_type": "markdown",
   "metadata": {
    "collapsed": true,
    "pycharm": {
     "name": "#%% md\n"
    }
   },
   "source": [
    "### 【問題1】学習と推定\n",
    "参考:\n",
    "https://github.com/qqwweee/keras-yolo3\n",
    "https://srnote.hatenablog.com/entry/2019/06/20/165346\n",
    "https://hub.docker.com/r/ultralytics/yolov3\n",
    "https://github.com/ultralytics/yolov3\n",
    "\n",
    "```\n",
    "【環境構築】\n",
    "pyenv install anaconda3-2020.11\n",
    "pyenv local anaconda3-2020.11\n",
    "pip install \"tensorflow==1.15.5\"\n",
    "pip install opencv-python\n",
    "pip uninstall keras\n",
    "pip install \"keras==2.2.4\"\n",
    "python train.py -p annotation.txt\n",
    "python predict.py -i simpsons_dataset/abraham_grampa_simpson -c ./save/train_20210811-014748_config.pickle\n",
    "```"
   ]
  },
  {
   "cell_type": "markdown",
   "source": [
    "### 【問題2】コードリーディング\n",
    "\n",
    "```\n",
    "RPNを実現しているコードはどこか\n",
    "> model/resnet.py の rpn メソッド\n",
    "\n",
    "RoIプーリングを実現しているコードはどこか\n",
    "> model/RoiPoolingConv.py の RoiPoolingConv クラス\n",
    "\n",
    "```"
   ],
   "metadata": {
    "collapsed": false,
    "pycharm": {
     "name": "#%% md\n"
    }
   }
  },
  {
   "cell_type": "markdown",
   "source": [
    "### 【問題3】学習済みの重みによる推定\n",
    "\n",
    "```\n",
    "犬の画像 0.98\n",
    "```"
   ],
   "metadata": {
    "collapsed": false,
    "pycharm": {
     "name": "#%% md\n"
    }
   }
  },
  {
   "cell_type": "code",
   "execution_count": null,
   "outputs": [],
   "source": [],
   "metadata": {
    "collapsed": false,
    "pycharm": {
     "name": "#%%\n"
    }
   }
  },
  {
   "cell_type": "markdown",
   "source": [
    "### 【問題4】学習のためのファイルを作成"
   ],
   "metadata": {
    "collapsed": false,
    "pycharm": {
     "name": "#%% md\n"
    }
   }
  },
  {
   "cell_type": "code",
   "execution_count": null,
   "outputs": [],
   "source": [
    "import pandas as pd\n",
    "path = '../../ObjectDetection/annotation.txt'\n",
    "annotation_df = pd.read_csv(path,header=None)\n",
    "n_sample, n_col = annotation_df.shape\n",
    "print(n_sample,n_col)\n",
    "annotation_df.head()\n",
    "\n",
    "from sklearn.preprocessing import LabelEncoder\n",
    "le = LabelEncoder()\n",
    "annotation_df.iloc[:,5] = le.fit_transform(annotation_df.iloc[:,5])\n",
    "annotation_df.tail()\n",
    "\n",
    "out_path = '../../ObjectDetection/train.txt'\n",
    "\n",
    "with open(path) as f:\n",
    "  lines = f.readline()\n",
    "  for i in range(n_sample):\n",
    "    split_line = lines.split(',')\n",
    "    image_path = split_line[0]\n",
    "    split_line[0] = './' + image_path\n",
    "    split_line[-1] = str(annotation_df.iloc[i,5]) + '\\n'\n",
    "\n",
    "    with open(out_path, mode='a') as out_f:\n",
    "      join_line = ','.join(split_line)\n",
    "      join_line = join_line.replace('.jpg,','.jpg ')\n",
    "      out_f.write(join_line)\n"
   ],
   "metadata": {
    "collapsed": false,
    "pycharm": {
     "name": "#%%\n"
    }
   }
  },
  {
   "cell_type": "markdown",
   "source": [
    "### 【問題5】学習が行えることの確認\n",
    "\n",
    "確認済み\n"
   ],
   "metadata": {
    "collapsed": false,
    "pycharm": {
     "name": "#%% md\n"
    }
   }
  }
 ],
 "metadata": {
  "kernelspec": {
   "display_name": "Python 3",
   "language": "python",
   "name": "python3"
  },
  "language_info": {
   "codemirror_mode": {
    "name": "ipython",
    "version": 2
   },
   "file_extension": ".py",
   "mimetype": "text/x-python",
   "name": "python",
   "nbconvert_exporter": "python",
   "pygments_lexer": "ipython2",
   "version": "2.7.6"
  }
 },
 "nbformat": 4,
 "nbformat_minor": 0
}