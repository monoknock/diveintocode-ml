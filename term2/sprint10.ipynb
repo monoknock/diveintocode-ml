{
 "cells": [
  {
   "cell_type": "markdown",
   "source": [
    "### 【問題1】全結合層のクラス化\n",
    "### 【問題2】初期化方法のクラス化"
   ],
   "metadata": {
    "collapsed": false,
    "pycharm": {
     "name": "#%% md\n"
    }
   }
  },
  {
   "cell_type": "code",
   "execution_count": 252,
   "outputs": [],
   "source": [
    "import numpy as np\n",
    "\n",
    "class FC:\n",
    "    def __init__(self, n_nodes1, n_nodes2, initializer, optimizer):\n",
    "        self.optimizer = optimizer\n",
    "        self.W = initializer.W(n_nodes1, n_nodes2)\n",
    "        self.B = initializer.B(n_nodes2)\n",
    "        self.n_nodes1 = n_nodes1\n",
    "        self.n_nodes2 = n_nodes2\n",
    "        self.A = None\n",
    "        self.Z = None\n",
    "        self.hW = 0\n",
    "        self.hB = 0\n",
    "\n",
    "    def forward(self, X):\n",
    "        self.Z = X  # backwardで前回のz = 今回の入力値を使うため\n",
    "        self.A = X @ self.W + self.B\n",
    "        # display(\"X\")\n",
    "        # display(X[0][:300])\n",
    "        # display(\"self.W\")\n",
    "        # display(self.W)\n",
    "        # display(\"self.B\")\n",
    "        # display(self.B)\n",
    "        return self.A\n",
    "\n",
    "    def backward(self, dA):\n",
    "        self.dB = np.sum(dA, axis=0)\n",
    "        self.dW = self.Z.T @ dA\n",
    "        self.dZ = dA @ self.W.T\n",
    "        self = self.optimizer.update(self) # TODO これ変\n",
    "        return self.dZ\n",
    "\n",
    "class SimpleInitializer:\n",
    "    def __init__(self, sigma, n_nodes1, n_nodes2):\n",
    "        self.sigma = sigma\n",
    "        self.n_nodes1 = n_nodes1\n",
    "        self.n_nodes2 = n_nodes2\n",
    "\n",
    "    def W(self):\n",
    "        # display(\"self.sigma: \", self.sigma)\n",
    "        # display(\"self.n_nodes1: \", self.n_nodes1)\n",
    "        # display(\"self.n_nodes2: \", self.n_nodes2)\n",
    "        return self.sigma * np.random.randn(self.n_nodes1, self.n_nodes2)\n",
    "\n",
    "    def B(self):\n",
    "        return self.sigma * np.random.randn(1, self.n_nodes2)"
   ],
   "metadata": {
    "collapsed": false,
    "pycharm": {
     "name": "#%%\n"
    }
   }
  },
  {
   "cell_type": "markdown",
   "source": [
    "### 【問題3】最適化手法のクラス化"
   ],
   "metadata": {
    "collapsed": false,
    "pycharm": {
     "name": "#%% md\n"
    }
   }
  },
  {
   "cell_type": "code",
   "execution_count": 253,
   "outputs": [],
   "source": [
    "class SGD:\n",
    "    def __init__(self, lr):\n",
    "        self.lr = lr\n",
    "\n",
    "    def update(self, layer):\n",
    "        layer.W -= self.lr * layer.dW / len(layer.Z) # TODO\n",
    "        layer.B -= self.lr * layer.dB / len(layer.Z)\n",
    "        return layer # TODO\n"
   ],
   "metadata": {
    "collapsed": false,
    "pycharm": {
     "name": "#%%\n"
    }
   }
  },
  {
   "cell_type": "markdown",
   "source": [
    "### 【問題4】活性化関数のクラス化"
   ],
   "metadata": {
    "collapsed": false,
    "pycharm": {
     "name": "#%% md\n"
    }
   }
  },
  {
   "cell_type": "code",
   "execution_count": 254,
   "outputs": [],
   "source": [
    "class Sigmoid:\n",
    "    def forward(self, A):\n",
    "        self.A = A\n",
    "        return 1 / (1 + np.exp(-A))\n",
    "\n",
    "    def backward(self, dZ):\n",
    "        A = self.A\n",
    "        c = 1 / (1 + np.exp(-A))\n",
    "        d = (1 / (1 + np.exp(-A)))**2\n",
    "        return dZ * (c - d)\n",
    "\n",
    "class Tanh:\n",
    "    def forward(self, A):\n",
    "        self.A = A\n",
    "        return np.tanh(A)\n",
    "\n",
    "    def backward(self, dZ):\n",
    "        return dZ * (1 - np.tanh(self.A)**2)\n",
    "\n",
    "class Softmax:\n",
    "    def forward(self, A):\n",
    "        exp_a = np.exp(A) # eのx乗を返す\n",
    "        sum_exp_a = np.sum(np.exp(A), axis=1).reshape(-1, 1) # 指数関数の和\n",
    "        return exp_a / sum_exp_a\n",
    "\n",
    "    def backward(self, Z, y):\n",
    "        dA = Z - y\n",
    "        loss = -( np.sum(y * np.log(Z)) / len(y) )\n",
    "        return dA, loss"
   ],
   "metadata": {
    "collapsed": false,
    "pycharm": {
     "name": "#%%\n"
    }
   }
  },
  {
   "cell_type": "markdown",
   "source": [
    "### 【問題5】ReLUクラスの作成"
   ],
   "metadata": {
    "collapsed": false,
    "pycharm": {
     "name": "#%% md\n"
    }
   }
  },
  {
   "cell_type": "code",
   "execution_count": 255,
   "outputs": [],
   "source": [
    "class ReLU:\n",
    "    def forward(self, A):\n",
    "        self.A = A\n",
    "        return np.maximum(0, A) # 0とxを比較して大きい方の数値を返す\n",
    "\n",
    "    def backward(self, dZ):\n",
    "        return dZ * np.where(self.A > 0, 1, 0)\n"
   ],
   "metadata": {
    "collapsed": false,
    "pycharm": {
     "name": "#%%\n"
    }
   }
  },
  {
   "cell_type": "markdown",
   "source": [
    "### 【問題6】重みの初期値"
   ],
   "metadata": {
    "collapsed": false,
    "pycharm": {
     "name": "#%% md\n"
    }
   }
  },
  {
   "cell_type": "code",
   "execution_count": 256,
   "outputs": [],
   "source": [
    "class XavierInitializer:\n",
    "    # sigmaはinterfaceを合わせるためだけに実装\n",
    "    def __init__(self, sigma):\n",
    "        self.s = None\n",
    "\n",
    "    def W(self, n_nodes1, n_nodes2):\n",
    "        self.s = np.sqrt(1 / n_nodes1)\n",
    "        return self.s * np.random.randn(n_nodes1, n_nodes2)\n",
    "\n",
    "    def B(self, n_nodes2):\n",
    "        return self.s * np.random.randn(1, n_nodes2)\n",
    "\n",
    "class HeInitializer:\n",
    "    # sigmaはinterfaceを合わせるためだけに実装\n",
    "    def __init__(self, sigma):\n",
    "        self.s = None\n",
    "\n",
    "    def W(self, n_nodes1, n_nodes2):\n",
    "        # display(\"n_nodes1: \", n_nodes1)\n",
    "        # display(\"n_nodes2: \", n_nodes2)\n",
    "\n",
    "        self.s = np.sqrt(2 / n_nodes1)\n",
    "        # display(\"self.s: \", self.s)\n",
    "        w = self.s * np.random.randn(n_nodes1, n_nodes2)\n",
    "        # display(\"w: \", w)\n",
    "        return w\n",
    "\n",
    "    def B(self, n_nodes2):\n",
    "        return self.s * np.random.randn(1, n_nodes2)"
   ],
   "metadata": {
    "collapsed": false,
    "pycharm": {
     "name": "#%%\n"
    }
   }
  },
  {
   "cell_type": "markdown",
   "source": [
    "### 【問題7】最適化手法"
   ],
   "metadata": {
    "collapsed": false,
    "pycharm": {
     "name": "#%% md\n"
    }
   }
  },
  {
   "cell_type": "code",
   "execution_count": 257,
   "outputs": [],
   "source": [
    "class AdaGrad:\n",
    "    def __init__(self, lr):\n",
    "        self.lr = lr\n",
    "\n",
    "    def update(self, layer):\n",
    "        # display(layer.dW.shape)\n",
    "        adjust = 1e-7\n",
    "        layer.hW += layer.dW * layer.dW # layer側に代入している理由: AdaGradはほかのFCオブジェクトで使い回されるため、FC側に保持する必要がある\n",
    "        layer.hB += layer.dB * layer.dB\n",
    "        layer.W -= self.lr * layer.dW / (np.sqrt(layer.hW) + adjust) / len(layer.Z) # TODO\n",
    "        layer.B -= self.lr * layer.dB / (np.sqrt(layer.hB) + adjust) / len(layer.Z)\n",
    "        return layer"
   ],
   "metadata": {
    "collapsed": false,
    "pycharm": {
     "name": "#%%\n"
    }
   }
  },
  {
   "cell_type": "markdown",
   "source": [
    "### 【問題8】クラスの完成"
   ],
   "metadata": {
    "collapsed": false,
    "pycharm": {
     "name": "#%% md\n"
    }
   }
  },
  {
   "cell_type": "code",
   "execution_count": 258,
   "outputs": [],
   "source": [
    "class GetMiniBatch:\n",
    "    \"\"\"\n",
    "    ミニバッチを取得するイテレータ\n",
    "    Parameters\n",
    "    ----------\n",
    "    X : 次の形のndarray, shape (n_samples, n_features)\n",
    "      訓練データ\n",
    "    y : 次の形のndarray, shape (n_samples, 1)\n",
    "      正解値\n",
    "    batch_size : int\n",
    "      バッチサイズ\n",
    "    seed : int\n",
    "      NumPyの乱数のシード\n",
    "    \"\"\"\n",
    "    def __init__(self, X, y, batch_size = 20, seed=0):\n",
    "        self.batch_size = batch_size\n",
    "        np.random.seed(seed)\n",
    "        shuffle_index = np.random.permutation(np.arange(X.shape[0]))\n",
    "        self._X = X[shuffle_index]\n",
    "        self._y = y[shuffle_index]\n",
    "        self._stop = np.ceil(X.shape[0]/self.batch_size).astype(np.int)\n",
    "    def __len__(self):\n",
    "        return self._stop\n",
    "    def __getitem__(self,item):\n",
    "        p0 = item*self.batch_size\n",
    "        p1 = item*self.batch_size + self.batch_size\n",
    "        return self._X[p0:p1], self._y[p0:p1]\n",
    "    def __iter__(self):\n",
    "        self._counter = 0\n",
    "        return self\n",
    "    def __next__(self):\n",
    "        if self._counter >= self._stop:\n",
    "            raise StopIteration()\n",
    "        p0 = self._counter*self.batch_size\n",
    "        p1 = self._counter*self.batch_size + self.batch_size\n",
    "        self._counter += 1\n",
    "        return self._X[p0:p1], self._y[p0:p1]\n",
    "\n",
    "class ScratchDeepNeuralNetworkClassifier:\n",
    "    def __init__(self, epoch=1, optimizer=SGD, initializer=HeInitializer, activator=ReLU):\n",
    "        self.n_features = 784\n",
    "        self.n_nodes1 = 400\n",
    "        self.n_nodes2 = 200\n",
    "        self.n_output = 10\n",
    "        self.sigma = 0.02\n",
    "        self.lr = 0.5\n",
    "        self.batch_size = 20\n",
    "        self.epoch = epoch\n",
    "        self.optimizer = optimizer\n",
    "        self.initializer = initializer\n",
    "        self.activator = activator\n",
    "\n",
    "    def fit(self, X, y):\n",
    "        self.loss_train = []\n",
    "        optimizer = self.optimizer(self.lr)\n",
    "\n",
    "        self.FC1 = FC(self.n_features, self.n_nodes1, self.initializer(self.sigma), optimizer)\n",
    "        self.activation1 = self.activator()\n",
    "        self.FC2 = FC(self.n_nodes1, self.n_nodes2, self.initializer(self.sigma), optimizer)\n",
    "        self.activation2 = self.activator()\n",
    "        self.FC3 = FC(self.n_nodes2, self.n_output, self.initializer(self.sigma), optimizer)\n",
    "        self.activation3 = Softmax()\n",
    "\n",
    "        for i in range(self.epoch):\n",
    "            get_mini_batch = GetMiniBatch(X, y, batch_size=self.batch_size, seed=i)\n",
    "            for mini_X, mini_y in get_mini_batch:\n",
    "                # display(\"mini_X\") # 一致\n",
    "                # print(mini_X[0][:300])\n",
    "\n",
    "                A1 = self.FC1.forward(mini_X)\n",
    "                # display(\"A1\")\n",
    "                # display(A1)\n",
    "                Z1 = self.activation1.forward(A1)\n",
    "                # display(\"Z1\")\n",
    "                # display(Z1)\n",
    "                A2 = self.FC2.forward(Z1)\n",
    "                # display(\"A2\")\n",
    "                # display(A2)\n",
    "                Z2 = self.activation2.forward(A2)\n",
    "                # display(\"Z2\")\n",
    "                # display(Z2)\n",
    "                A3 = self.FC3.forward(Z2)\n",
    "                # display(\"A3\")\n",
    "                # display(A3)\n",
    "                Z3 = self.activation3.forward(A3)\n",
    "                # display(\"Z3\")\n",
    "                # display(Z3)\n",
    "                dA3, loss = self.activation3.backward(Z3, mini_y)\n",
    "                # display(\"dA3\")\n",
    "                # display(dA3)\n",
    "                dZ2 = self.FC3.backward(dA3)\n",
    "                # display(\"dZ2\")\n",
    "                # display(dZ2)\n",
    "                dA2 = self.activation2.backward(dZ2)\n",
    "                # display(\"dA2\")\n",
    "                # display(dA2)\n",
    "                dZ1 = self.FC2.backward(dA2)\n",
    "                # display(\"dZ1\")\n",
    "                # display(dZ1)\n",
    "                dA1 = self.activation1.backward(dZ1)\n",
    "                # display(\"dA1\")\n",
    "                # display(dA1)\n",
    "                dZ0 = self.FC1.backward(dA1)\n",
    "            # lossのためにもう一度フォワードプロパゲーション\n",
    "            A1 = self.FC1.forward(X)\n",
    "            Z1 = self.activation1.forward(A1)\n",
    "            A2 = self.FC2.forward(Z1)\n",
    "            Z2 = self.activation2.forward(A2)\n",
    "            A3 = self.FC3.forward(Z2)\n",
    "            Z3 = self.activation3.forward(A3)\n",
    "            self.loss_train.append(self.activation3.backward(Z3, y)[1])\n",
    "\n",
    "    def predict(self, X):\n",
    "        A1 = self.FC1.forward(X)\n",
    "        Z1 = self.activation1.forward(A1)\n",
    "        A2 = self.FC2.forward(Z1)\n",
    "        Z2 = self.activation2.forward(A2)\n",
    "        A3 = self.FC3.forward(Z2)\n",
    "        Z3 = self.activation3.forward(A3)\n",
    "        return np.argmax(Z3, axis=1)"
   ],
   "metadata": {
    "collapsed": false,
    "pycharm": {
     "name": "#%%\n"
    }
   }
  },
  {
   "cell_type": "markdown",
   "source": [
    "### 【問題9】学習と推定"
   ],
   "metadata": {
    "collapsed": false,
    "pycharm": {
     "name": "#%% md\n"
    }
   }
  },
  {
   "cell_type": "code",
   "execution_count": 259,
   "outputs": [],
   "source": [
    "from keras.datasets import mnist\n",
    "from sklearn.model_selection import train_test_split\n",
    "from IPython.display import display\n",
    "\n",
    "#\n",
    "# データセット準備\n",
    "#\n",
    "\n",
    "(x_train, y_train), (x_test, y_test) = mnist.load_data() # shape(60000, 28, 28)\n",
    "\n",
    "#\n",
    "# 前処理\n",
    "#\n",
    "\n",
    "# 平滑化\n",
    "x_train = x_train.reshape(-1, 784) # shape(60000, 784)\n",
    "x_test = x_test.reshape(-1, 784)   # shape(60000, 784)\n",
    "# スケール調整\n",
    "x_train = x_train.astype(np.float)\n",
    "x_test = x_test.astype(np.float)\n",
    "x_train /= 255\n",
    "x_test /= 255\n",
    "# 分割\n",
    "x_train, x_valid, y_train, y_valid = train_test_split(x_train, y_train, test_size=0.2, random_state=0, shuffle=True)\n",
    "# one-hot encoding\n",
    "from sklearn.preprocessing import OneHotEncoder\n",
    "enc = OneHotEncoder(handle_unknown='ignore', sparse=False)\n",
    "y_train_one_hot = enc.fit_transform(y_train[:, np.newaxis])\n",
    "y_test_one_hot = enc.transform(y_test[:, np.newaxis])"
   ],
   "metadata": {
    "collapsed": false,
    "pycharm": {
     "name": "#%%\n"
    }
   }
  },
  {
   "cell_type": "code",
   "execution_count": 271,
   "outputs": [],
   "source": [
    "import matplotlib.pyplot as plt\n",
    "from sklearn.metrics import accuracy_score\n",
    "def result(model, x_train, y_train):\n",
    "    # 学習結果\n",
    "    display(model.loss_train)\n",
    "\n",
    "    # 予測\n",
    "    pred_train = model.predict(x_train)\n",
    "    display(\"pred: \", pred_train)\n",
    "\n",
    "    # 評価\n",
    "    display(accuracy_score(y_train, pred_train))\n",
    "\n",
    "    # グラフ\n",
    "    plot_x = [i for i in range(1, model.epoch+1)]\n",
    "    plt.plot(plot_x, model.loss_train)\n",
    "    plt.legend()\n",
    "    plt.show()"
   ],
   "metadata": {
    "collapsed": false,
    "pycharm": {
     "name": "#%%\n"
    }
   }
  },
  {
   "cell_type": "code",
   "execution_count": 268,
   "outputs": [
    {
     "data": {
      "text/plain": "[0.11242912125326192,\n 0.10566986083612379,\n 0.09960126081378903,\n 0.0987528897501781,\n 0.06666802481953192,\n 0.059796419050477966,\n 0.04813611546238292,\n 0.06583689027836995,\n 0.06933085691253477,\n 0.05150471734983386]"
     },
     "metadata": {},
     "output_type": "display_data"
    },
    {
     "data": {
      "text/plain": "'pred: '"
     },
     "metadata": {},
     "output_type": "display_data"
    },
    {
     "data": {
      "text/plain": "array([7, 4, 5, ..., 7, 1, 4])"
     },
     "metadata": {},
     "output_type": "display_data"
    },
    {
     "data": {
      "text/plain": "0.98475"
     },
     "metadata": {},
     "output_type": "display_data"
    },
    {
     "name": "stderr",
     "output_type": "stream",
     "text": [
      "No handles with labels found to put in legend.\n"
     ]
    },
    {
     "data": {
      "text/plain": "<Figure size 432x288 with 1 Axes>",
      "image/png": "[encoded data removed]"
     },
     "metadata": {
      "needs_background": "light"
     },
     "output_type": "display_data"
    }
   ],
   "source": [
    "# 学習 SGD, He, ReLU\n",
    "model = ScratchDeepNeuralNetworkClassifier(epoch=10, optimizer=SGD, initializer=HeInitializer, activator=ReLU)\n",
    "model.fit(x_train, y_train_one_hot)\n",
    "result(model, x_train, y_train)"
   ],
   "metadata": {
    "collapsed": false,
    "pycharm": {
     "name": "#%%\n"
    }
   }
  },
  {
   "cell_type": "code",
   "execution_count": 269,
   "outputs": [
    {
     "data": {
      "text/plain": "[0.08052810177208736,\n 0.049065083217074645,\n 0.03105315934007326,\n 0.022794020327213445,\n 0.013782085458375747,\n 0.01078128096504767,\n 0.007256497275078254,\n 0.005284172999552895,\n 0.003904475965036524,\n 0.0026652833763133083]"
     },
     "metadata": {},
     "output_type": "display_data"
    },
    {
     "data": {
      "text/plain": "'pred: '"
     },
     "metadata": {},
     "output_type": "display_data"
    },
    {
     "data": {
      "text/plain": "array([7, 4, 5, ..., 7, 1, 4])"
     },
     "metadata": {},
     "output_type": "display_data"
    },
    {
     "data": {
      "text/plain": "0.999875"
     },
     "metadata": {},
     "output_type": "display_data"
    },
    {
     "name": "stderr",
     "output_type": "stream",
     "text": [
      "No handles with labels found to put in legend.\n"
     ]
    },
    {
     "data": {
      "text/plain": "<Figure size 432x288 with 1 Axes>",
      "image/png": "[encoded data removed]"
     },
     "metadata": {
      "needs_background": "light"
     },
     "output_type": "display_data"
    }
   ],
   "source": [
    "# 学習 AdaGrad, He, ReLU\n",
    "model = ScratchDeepNeuralNetworkClassifier(epoch=10, optimizer=AdaGrad, initializer=HeInitializer, activator=ReLU)\n",
    "model.fit(x_train, y_train_one_hot)\n",
    "result(model, x_train, y_train)"
   ],
   "metadata": {
    "collapsed": false,
    "pycharm": {
     "name": "#%%\n"
    }
   }
  },
  {
   "cell_type": "code",
   "execution_count": 270,
   "outputs": [
    {
     "data": {
      "text/plain": "[0.10418397123584588,\n 0.06903913588319341,\n 0.04370879778681212,\n 0.036993572595839824,\n 0.021907102793180522,\n 0.017520111075481768,\n 0.01277198254824133,\n 0.009933751011874626,\n 0.008232179978661274,\n 0.006176137212764554]"
     },
     "metadata": {},
     "output_type": "display_data"
    },
    {
     "data": {
      "text/plain": "'pred: '"
     },
     "metadata": {},
     "output_type": "display_data"
    },
    {
     "data": {
      "text/plain": "array([7, 4, 5, ..., 7, 1, 4])"
     },
     "metadata": {},
     "output_type": "display_data"
    },
    {
     "data": {
      "text/plain": "0.9995416666666667"
     },
     "metadata": {},
     "output_type": "display_data"
    },
    {
     "name": "stderr",
     "output_type": "stream",
     "text": [
      "No handles with labels found to put in legend.\n"
     ]
    },
    {
     "data": {
      "text/plain": "<Figure size 432x288 with 1 Axes>",
      "image/png": "[encoded data removed]"
     },
     "metadata": {
      "needs_background": "light"
     },
     "output_type": "display_data"
    }
   ],
   "source": [
    "# 学習 AdaGrad, Xavier, Tanh\n",
    "model = ScratchDeepNeuralNetworkClassifier(epoch=10, optimizer=AdaGrad, initializer=XavierInitializer, activator=Tanh)\n",
    "model.fit(x_train, y_train_one_hot)\n",
    "result(model, x_train, y_train)"
   ],
   "metadata": {
    "collapsed": false,
    "pycharm": {
     "name": "#%%\n"
    }
   }
  },
  {
   "cell_type": "code",
   "execution_count": 272,
   "outputs": [
    {
     "data": {
      "text/plain": "[0.08429400445748486,\n 0.05590653001073962,\n 0.03297339613313664,\n 0.02742390027628736,\n 0.017218458764540104,\n 0.013256084361410115,\n 0.00881568809388363,\n 0.006502697513738592,\n 0.004809394818677885,\n 0.0034626026677099042]"
     },
     "metadata": {},
     "output_type": "display_data"
    },
    {
     "data": {
      "text/plain": "'pred: '"
     },
     "metadata": {},
     "output_type": "display_data"
    },
    {
     "data": {
      "text/plain": "array([7, 4, 5, ..., 7, 1, 4])"
     },
     "metadata": {},
     "output_type": "display_data"
    },
    {
     "data": {
      "text/plain": "0.9998125"
     },
     "metadata": {},
     "output_type": "display_data"
    },
    {
     "name": "stderr",
     "output_type": "stream",
     "text": [
      "No handles with labels found to put in legend.\n"
     ]
    },
    {
     "data": {
      "text/plain": "<Figure size 432x288 with 1 Axes>",
      "image/png": "[encoded data removed]"
     },
     "metadata": {
      "needs_background": "light"
     },
     "output_type": "display_data"
    }
   ],
   "source": [
    "# 学習 AdaGrad, Xavier, ReLU\n",
    "model = ScratchDeepNeuralNetworkClassifier(epoch=10, optimizer=AdaGrad, initializer=XavierInitializer, activator=ReLU)\n",
    "model.fit(x_train, y_train_one_hot)\n",
    "result(model, x_train, y_train)\n"
   ],
   "metadata": {
    "collapsed": false,
    "pycharm": {
     "name": "#%%\n"
    }
   }
  },
  {
   "cell_type": "code",
   "execution_count": null,
   "outputs": [],
   "source": [],
   "metadata": {
    "collapsed": false,
    "pycharm": {
     "name": "#%%\n"
    }
   }
  }
 ],
 "metadata": {
  "kernelspec": {
   "display_name": "Python 3",
   "language": "python",
   "name": "python3"
  },
  "language_info": {
   "codemirror_mode": {
    "name": "ipython",
    "version": 2
   },
   "file_extension": ".py",
   "mimetype": "text/x-python",
   "name": "python",
   "nbconvert_exporter": "python",
   "pygments_lexer": "ipython2",
   "version": "2.7.6"
  }
 },
 "nbformat": 4,
 "nbformat_minor": 0
}