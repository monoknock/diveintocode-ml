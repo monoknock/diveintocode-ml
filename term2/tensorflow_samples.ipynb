{
 "cells": [
  {
   "cell_type": "code",
   "execution_count": null,
   "metadata": {},
   "outputs": [],
   "source": [
    "#\n",
    "# Udemy\n",
    "# https://www.udemy.com/course/datascience365/learn/lecture/18051069#questions\n",
    "#\n",
    "\n",
    "import numpy as np\n",
    "import matplotlib.pyplot as plt\n",
    "import tensorflow as tf\n",
    "\n",
    "\n",
    "# uniformメソッドを使ってランダムなデータを作成\n",
    "observations = 1000 # データの数を宣言\n",
    "xs = np.random.uniform(low=-10, high=10, size=(observations,1))\n",
    "zs = np.random.uniform(-10, 10, (observations,1))\n",
    "\n",
    "# column_stackを使って二つのベクトルを行列にします\n",
    "generated_inputs = np.column_stack((xs,zs))\n",
    "\n",
    "# ノイズを足します\n",
    "noise = np.random.uniform(-1, 1, (observations,1))\n",
    "\n",
    "# Produce the targets according to our f(x,z) = 2x - 3z + 5 + noise definition.\n",
    "# In this way, we are basically saying: the weights should be 2 and -3, while the bias is 5.\n",
    "generated_targets = 2*xs - 3*zs + 5 + noise\n",
    "\n",
    "# save into an npz file called \"TF_intro\"\n",
    "np.savez('TF_intro', inputs=generated_inputs, targets=generated_targets)\n",
    "\n",
    "# NPZ形式のファイルの読み込み\n",
    "training_data = np.load('TF_intro.npz')\n",
    "\n",
    "# 入力のサイズの定義\n",
    "input_size = 2\n",
    "# 出力のサイズの定義\n",
    "output_size = 1\n",
    "\n",
    "# モデルの作成\n",
    "model = tf.keras.Sequential([\n",
    "    # 'Dense'メソッドで線形結合を行っていきます\n",
    "    tf.keras.layers.Dense(\n",
    "        output_size,\n",
    "        kernel_initializer=tf.random_uniform_initializer(minval=-0.1, maxval=0.1),\n",
    "        bias_initializer=tf.random_uniform_initializer(minval=-0.1, maxval=0.1)\n",
    "    )\n",
    "])\n",
    "\n",
    "# 今回はcustom optimizerを使って学習率を0.2に設定します\n",
    "custom_optimizer = tf.keras.optimizers.SGD(learning_rate=0.02)\n",
    "\n",
    "# 'compile'で最適化アルゴリズムと損失関数を指定していきます\n",
    "model.compile(optimizer=custom_optimizer, loss='mean_squared_error')\n",
    "\n",
    "# データをモデルにフィットさせていきます\n",
    "model.fit(training_data['inputs'], training_data['targets'], epochs=100, verbose=2)\n",
    "\n",
    "# 重みとバイアスを表示します\n",
    "model.layers[0].get_weights()\n",
    "\n",
    "# 変数に入れます\n",
    "weights = model.layers[0].get_weights()[0]\n",
    "weights\n",
    "\n",
    "# 変数に入れます\n",
    "bias = model.layers[0].get_weights()[1]\n",
    "bias\n",
    "\n",
    "# 入力データに対する予測の値を表示していきます\n",
    "model.predict_on_batch(training_data['inputs']).round(1)\n",
    "\n",
    "# ターゲットを表示します\n",
    "training_data['targets'].round(1)\n",
    "\n",
    "# 散布図を表示していきます\n",
    "plt.plot(np.squeeze(model.predict_on_batch(training_data['inputs'])), np.squeeze(training_data['targets']))\n",
    "plt.xlabel('outputs')\n",
    "plt.ylabel('targets')\n",
    "plt.show()"
   ]
  },
  {
   "cell_type": "code",
   "execution_count": 23,
   "metadata": {},
   "outputs": [
    {
     "data": {
      "text/plain": [
       "404"
      ]
     },
     "metadata": {},
     "output_type": "display_data"
    },
    {
     "data": {
      "text/plain": [
       "2"
      ]
     },
     "metadata": {},
     "output_type": "display_data"
    },
    {
     "name": "stdout",
     "output_type": "stream",
     "text": [
      "Epoch 1/8\n",
      "13/13 [==============================] - 0s 891us/step - loss: 228.6104\n",
      "Epoch 2/8\n",
      "13/13 [==============================] - 0s 762us/step - loss: 101.0646\n",
      "Epoch 3/8\n",
      "13/13 [==============================] - 0s 804us/step - loss: 76.8477\n",
      "Epoch 4/8\n",
      "13/13 [==============================] - 0s 857us/step - loss: 72.7932\n",
      "Epoch 5/8\n",
      "13/13 [==============================] - 0s 749us/step - loss: 72.0007\n",
      "Epoch 6/8\n",
      "13/13 [==============================] - 0s 834us/step - loss: 74.2809\n",
      "Epoch 7/8\n",
      "13/13 [==============================] - 0s 957us/step - loss: 70.7167\n",
      "Epoch 8/8\n",
      "13/13 [==============================] - 0s 823us/step - loss: 74.7034\n"
     ]
    },
    {
     "data": {
      "image/png": "[encoded data removed]",
      "text/plain": [
       "<Figure size 432x288 with 1 Axes>"
      ]
     },
     "metadata": {
      "needs_background": "light"
     },
     "output_type": "display_data"
    }
   ],
   "source": [
    "#\n",
    "# boston\n",
    "#\n",
    "\n",
    "import numpy as np\n",
    "from sklearn.model_selection import train_test_split\n",
    "from sklearn.datasets import load_boston\n",
    "import pandas as pd\n",
    "import matplotlib.pyplot as plt\n",
    "from tensorflow.python import keras as K\n",
    "\n",
    "# ボストン市の住宅価格\n",
    "dataset = load_boston()\n",
    "\n",
    "# 入力と出力に分ける\n",
    "y = dataset.target\n",
    "x = dataset.data\n",
    "x = x[:, 0:2]\n",
    "\n",
    "# 訓練データとテストデータに分ける\n",
    "x_train, x_test, y_train, y_test = train_test_split(x, y, test_size=0.2)\n",
    "\n",
    "# display(x_train)\n",
    "# display(x_train[:, 0:2])\n",
    "display(len(x_train))\n",
    "display(len(x_train[0]))\n",
    "\n",
    "\n",
    "model = K.Sequential([\n",
    "    # データの正規化（入力は１３の特徴量）\n",
    "    K.layers.BatchNormalization(input_shape=(2,)),\n",
    "    # １層目のニューラルネットワーク\n",
    "    #   活性化関数はsoftplus\n",
    "    #   kernel_regularizer正則化=>重みに制限をかける=>過学習防止\n",
    "    K.layers.Dense(units=2, activation=\"softplus\", kernel_regularizer=\"l1\"),\n",
    "    # ２層目のニューラルネットワーク\n",
    "    K.layers.Dense(units=1)\n",
    "])\n",
    "# loss=最小二乗法  optimizer=最適化に確率的勾配降下法\n",
    "model.compile(loss=\"mean_squared_error\", optimizer=\"sgd\")\n",
    "\n",
    "# 学習を行う（学習回数 epochs は８回）\n",
    "model.fit(x_train, y_train, epochs=8)\n",
    "\n",
    "# 予測を行う\n",
    "predicts = model.predict(x_test)\n",
    "\n",
    "result = pd.DataFrame({\n",
    "    \"predict\": np.reshape(predicts, (-1,)),   # 2次元データを1次元データに変換\n",
    "    \"actual\": y_test\n",
    "})\n",
    "limit = np.max(y_test)   # 最大値の取得\n",
    "\n",
    "# 結果をグラフ表示する。\n",
    "result.plot.scatter(x=\"actual\", y=\"predict\", xlim=(0, limit), ylim=(0, limit))\n",
    "plt.show()"
   ]
  },
  {
   "cell_type": "code",
   "execution_count": 2,
   "metadata": {},
   "outputs": [
    {
     "data": {
      "text/plain": [
       "array([[1721, 1968],\n",
       "       [ 952, 1956],\n",
       "       [ 990, 1995],\n",
       "       [1442, 1990],\n",
       "       [1593, 2001],\n",
       "       [1716, 1949],\n",
       "       [1487, 1945],\n",
       "       [1696, 1962],\n",
       "       [1167, 1992],\n",
       "       [1041, 1959]])"
      ]
     },
     "metadata": {},
     "output_type": "display_data"
    },
    {
     "data": {
      "text/plain": [
       "404"
      ]
     },
     "metadata": {},
     "output_type": "display_data"
    },
    {
     "data": {
      "text/plain": [
       "2"
      ]
     },
     "metadata": {},
     "output_type": "display_data"
    },
    {
     "name": "stdout",
     "output_type": "stream",
     "text": [
      "Epoch 1/8\n",
      "13/13 [==============================] - 0s 928us/step - loss: 41206165504.0000\n",
      "Epoch 2/8\n",
      "13/13 [==============================] - 0s 842us/step - loss: 41206140928.0000\n",
      "Epoch 3/8\n",
      "13/13 [==============================] - 0s 829us/step - loss: 41206116352.0000\n",
      "Epoch 4/8\n",
      "13/13 [==============================] - 0s 856us/step - loss: 41206095872.0000\n",
      "Epoch 5/8\n",
      "13/13 [==============================] - 0s 838us/step - loss: 41206071296.0000\n",
      "Epoch 6/8\n",
      "13/13 [==============================] - 0s 860us/step - loss: 41206050816.0000\n",
      "Epoch 7/8\n",
      "13/13 [==============================] - 0s 818us/step - loss: 41206026240.0000\n",
      "Epoch 8/8\n",
      "13/13 [==============================] - 0s 1ms/step - loss: 41206001664.0000\n"
     ]
    },
    {
     "data": {
      "image/png": "[encoded data removed]",
      "text/plain": [
       "<Figure size 432x288 with 1 Axes>"
      ]
     },
     "metadata": {
      "needs_background": "light"
     },
     "output_type": "display_data"
    }
   ],
   "source": [
    "#\n",
    "# lossがnanになるが、解決できない\n",
    "#\n",
    "import numpy as np\n",
    "from sklearn.model_selection import train_test_split\n",
    "from sklearn.datasets import load_boston\n",
    "import pandas as pd\n",
    "import matplotlib.pyplot as plt\n",
    "from tensorflow.python import keras as K\n",
    "import pandas as pd\n",
    "\n",
    "pd.set_option('display.expand_frame_repr', False)\n",
    "pd.set_option('display.max_columns', 6)\n",
    "pd.set_option('display.max_info_rows', 6)\n",
    "\n",
    "df_base = pd.read_csv(\"../data/house-prices-advanced-regression-techniques/train.csv\").loc[:577]\n",
    "feature_names = [\"GrLivArea\", \"YearBuilt\"]\n",
    "y_name = \"SalePrice\"\n",
    "x = df_base.loc[:, feature_names].values\n",
    "y = df_base[y_name].values\n",
    "\n",
    "\n",
    "# 欠損値の確認\n",
    "# df_sample = df_base.loc[:, [\"GrLivArea\", \"YearBuilt\", \"SalePrice\"]]\n",
    "# display(df_sample.isnull().sum())\n",
    "\n",
    "# 訓練データとテストデータに分ける\n",
    "x_train, x_test, y_train, y_test = train_test_split(x, y, test_size=0.3)\n",
    "\n",
    "display(x_train[:10])\n",
    "display(len(x_train))\n",
    "display(len(x_train[0]))\n",
    "\n",
    "model = K.Sequential([\n",
    "    # データの正規化（入力は１３の特徴量）\n",
    "    K.layers.BatchNormalization(input_shape=(2,)),\n",
    "    # １層目のニューラルネットワーク\n",
    "    #   活性化関数はsoftplus\n",
    "    #   kernel_regularizer正則化=>重みに制限をかける=>過学習防止\n",
    "    K.layers.Dense(units=2, activation=\"softplus\", kernel_regularizer=\"l1\"),\n",
    "    # ２層目のニューラルネットワーク\n",
    "    K.layers.Dense(units=1)\n",
    "])\n",
    "# loss=最小二乗法  optimizer=最適化に確率的勾配降下法\n",
    "model.compile(loss=\"mean_squared_error\", optimizer=\"adam\")\n",
    "\n",
    "# 学習を行う（学習回数 epochs は８回）\n",
    "model.fit(x_train, y_train, epochs=8)\n",
    "\n",
    "# 予測を行う\n",
    "predicts = model.predict(x_test)\n",
    "\n",
    "result = pd.DataFrame({\n",
    "    \"predict\": np.reshape(predicts, (-1,)),   # 2次元データを1次元データに変換\n",
    "    \"actual\": y_test\n",
    "})\n",
    "\n",
    "# 結果をグラフ表示する。\n",
    "result.plot.scatter(x=\"actual\", y=\"predict\")\n",
    "plt.show()"
   ]
  },
  {
   "cell_type": "code",
   "execution_count": null,
   "metadata": {},
   "outputs": [],
   "source": []
  },
  {
   "cell_type": "code",
   "execution_count": null,
   "metadata": {},
   "outputs": [],
   "source": []
  },
  {
   "cell_type": "code",
   "execution_count": null,
   "metadata": {},
   "outputs": [],
   "source": []
  },
  {
   "cell_type": "code",
   "execution_count": null,
   "metadata": {},
   "outputs": [],
   "source": []
  }
 ],
 "metadata": {
  "kernelspec": {
   "display_name": "Python 3",
   "language": "python",
   "name": "python3"
  },
  "language_info": {
   "codemirror_mode": {
    "name": "ipython",
    "version": 3
   },
   "file_extension": ".py",
   "mimetype": "text/x-python",
   "name": "python",
   "nbconvert_exporter": "python",
   "pygments_lexer": "ipython3",
   "version": "3.8.5"
  }
 },
 "nbformat": 4,
 "nbformat_minor": 4
}
