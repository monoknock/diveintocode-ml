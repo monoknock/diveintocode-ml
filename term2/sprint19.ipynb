{
 "cells": [
  {
   "cell_type": "markdown",
   "metadata": {
    "collapsed": true,
    "pycharm": {
     "name": "#%% md\n"
    }
   },
   "source": [
    "### 【問題1】学習・推定\n",
    "\n",
    "```\n",
    "git clone https://github.com/zhixuhao/unet.git\n",
    "pyenv local anaconda3-2019.03\n",
    "python main.py\n",
    "```\n",
    "\n",
    "```\n",
    "実行結果:\n",
    "-% python main.py\n",
    "Using TensorFlow backend.\n",
    "WARNING:tensorflow:From /Users/monoknock/.pyenv/versions/anaconda3-2019.03/lib/python3.7/site-packages/keras/backend/tensorflow_backend.py:74: The name tf.get_default_graph is deprecated. Please use tf.compat.v1.get_default_graph instead.\n",
    "\n",
    "WARNING:tensorflow:From /Users/monoknock/.pyenv/versions/anaconda3-2019.03/lib/python3.7/site-packages/keras/backend/tensorflow_backend.py:517: The name tf.placeholder is deprecated. Please use tf.compat.v1.placeholder instead.\n",
    "\n",
    "WARNING:tensorflow:From /Users/monoknock/.pyenv/versions/anaconda3-2019.03/lib/python3.7/site-packages/keras/backend/tensorflow_backend.py:4185: The name tf.truncated_normal is deprecated. Please use tf.random.truncated_normal instead.\n",
    "\n",
    "WARNING:tensorflow:From /Users/monoknock/.pyenv/versions/anaconda3-2019.03/lib/python3.7/site-packages/keras/backend/tensorflow_backend.py:3976: The name tf.nn.max_pool is deprecated. Please use tf.nn.max_pool2d instead.\n",
    "\n",
    "WARNING:tensorflow:From /Users/monoknock/.pyenv/versions/anaconda3-2019.03/lib/python3.7/site-packages/keras/backend/tensorflow_backend.py:133: The name tf.placeholder_with_default is deprecated. Please use tf.compat.v1.placeholder_with_default instead.\n",
    "\n",
    "WARNING:tensorflow:From /Users/monoknock/.pyenv/versions/anaconda3-2019.03/lib/python3.7/site-packages/keras/backend/tensorflow_backend.py:3445: calling dropout (from tensorflow.python.ops.nn_ops) with keep_prob is deprecated and will be removed in a future version.\n",
    "Instructions for updating:\n",
    "Please use `rate` instead of `keep_prob`. Rate should be set to `rate = 1 - keep_prob`.\n",
    "WARNING:tensorflow:From /Users/monoknock/.pyenv/versions/anaconda3-2019.03/lib/python3.7/site-packages/keras/backend/tensorflow_backend.py:2018: The name tf.image.resize_nearest_neighbor is deprecated. Please use tf.compat.v1.image.resize_nearest_neighbor instead.\n",
    "\n",
    "WARNING:tensorflow:From /Users/monoknock/.pyenv/versions/anaconda3-2019.03/lib/python3.7/site-packages/keras/backend/tensorflow_backend.py:4138: The name tf.random_uniform is deprecated. Please use tf.random.uniform instead.\n",
    "\n",
    "/Users/monoknock/repos/diveintocode-ml/tmp/sprint19/unet/model.py:55: UserWarning: Update your `Model` call to the Keras 2 API: `Model(inputs=Tensor(\"in..., outputs=Tensor(\"co...)`\n",
    "  model = Model(input = inputs, output = conv10)\n",
    "WARNING:tensorflow:From /Users/monoknock/.pyenv/versions/anaconda3-2019.03/lib/python3.7/site-packages/keras/optimizers.py:790: The name tf.train.Optimizer is deprecated. Please use tf.compat.v1.train.Optimizer instead.\n",
    "\n",
    "WARNING:tensorflow:From /Users/monoknock/.pyenv/versions/anaconda3-2019.03/lib/python3.7/site-packages/keras/backend/tensorflow_backend.py:3376: The name tf.log is deprecated. Please use tf.math.log instead.\n",
    "\n",
    "WARNING:tensorflow:From /Users/monoknock/.pyenv/versions/anaconda3-2019.03/lib/python3.7/site-packages/tensorflow_core/python/ops/nn_impl.py:183: where (from tensorflow.python.ops.array_ops) is deprecated and will be removed in a future version.\n",
    "Instructions for updating:\n",
    "Use tf.where in 2.0, which has the same broadcast rule as np.where\n",
    "WARNING:tensorflow:From /Users/monoknock/.pyenv/versions/anaconda3-2019.03/lib/python3.7/site-packages/keras/backend/tensorflow_backend.py:986: The name tf.assign_add is deprecated. Please use tf.compat.v1.assign_add instead.\n",
    "\n",
    "WARNING:tensorflow:From /Users/monoknock/.pyenv/versions/anaconda3-2019.03/lib/python3.7/site-packages/keras/backend/tensorflow_backend.py:973: The name tf.assign is deprecated. Please use tf.compat.v1.assign instead.\n",
    "\n",
    "WARNING:tensorflow:From /Users/monoknock/.pyenv/versions/anaconda3-2019.03/lib/python3.7/site-packages/keras/backend/tensorflow_backend.py:2741: The name tf.Session is deprecated. Please use tf.compat.v1.Session instead.\n",
    "\n",
    "Epoch 1/1\n",
    "Found 30 images belonging to 1 classes.\n",
    "Found 30 images belonging to 1 classes.\n",
    "WARNING:tensorflow:From /Users/monoknock/.pyenv/versions/anaconda3-2019.03/lib/python3.7/site-packages/keras/backend/tensorflow_backend.py:174: The name tf.get_default_session is deprecated. Please use tf.compat.v1.get_default_session instead.\n",
    "\n",
    "WARNING:tensorflow:From /Users/monoknock/.pyenv/versions/anaconda3-2019.03/lib/python3.7/site-packages/keras/backend/tensorflow_backend.py:181: The name tf.ConfigProto is deprecated. Please use tf.compat.v1.ConfigProto instead.\n",
    "\n",
    "2021-08-11 23:24:44.074900: I tensorflow/core/platform/cpu_feature_guard.cc:142] Your CPU supports instructions that this TensorFlow binary was not compiled to use: AVX2 FMA\n",
    "2021-08-11 23:24:44.115672: I tensorflow/compiler/xla/service/service.cc:168] XLA service 0x7fd6251cdb20 initialized for platform Host (this does not guarantee that XLA will be used). Devices:\n",
    "2021-08-11 23:24:44.115726: I tensorflow/compiler/xla/service/service.cc:176]   StreamExecutor device (0): Host, Default Version\n",
    "WARNING:tensorflow:From /Users/monoknock/.pyenv/versions/anaconda3-2019.03/lib/python3.7/site-packages/keras/backend/tensorflow_backend.py:190: The name tf.global_variables is deprecated. Please use tf.compat.v1.global_variables instead.\n",
    "\n",
    "WARNING:tensorflow:From /Users/monoknock/.pyenv/versions/anaconda3-2019.03/lib/python3.7/site-packages/keras/backend/tensorflow_backend.py:199: The name tf.is_variable_initialized is deprecated. Please use tf.compat.v1.is_variable_initialized instead.\n",
    "\n",
    "WARNING:tensorflow:From /Users/monoknock/.pyenv/versions/anaconda3-2019.03/lib/python3.7/site-packages/keras/backend/tensorflow_backend.py:206: The name tf.variables_initializer is deprecated. Please use tf.compat.v1.variables_initializer instead.\n",
    "\n",
    " 93/300 [========>.....................] - ETA: 16:55 - loss: 0.4364 - acc: 0.7863\n",
    "...\n",
    "...\n",
    "...\n",
    "Epoch 00005: loss improved from 0.34569 to 0.33423, saving model to unet_salt.hdf5\n",
    "```\n"
   ]
  },
  {
   "cell_type": "markdown",
   "source": [
    "### 【問題2】コードリーディング\n",
    "\n",
    "```\n",
    "セグメンテーションタスクを行うモデルで、CNNの一種である。\n",
    "\n",
    "- 画像全体のクラス分類（MNISTなど）からFCNとdeconvolutionを使い、物体の位置情報を出力できるようになった\n",
    "- skip-conectionを用いて畳み込みによって失われる位置情報を保持しておくと、より精密な領域を出力できる\n",
    "- U-netは上記2つを上手く組み合わせている\n",
    "```\n",
    "\n"
   ],
   "metadata": {
    "collapsed": false,
    "pycharm": {
     "name": "#%% md\n"
    }
   }
  }
 ],
 "metadata": {
  "kernelspec": {
   "display_name": "Python 3",
   "language": "python",
   "name": "python3"
  },
  "language_info": {
   "codemirror_mode": {
    "name": "ipython",
    "version": 2
   },
   "file_extension": ".py",
   "mimetype": "text/x-python",
   "name": "python",
   "nbconvert_exporter": "python",
   "pygments_lexer": "ipython2",
   "version": "2.7.6"
  }
 },
 "nbformat": 4,
 "nbformat_minor": 0
}