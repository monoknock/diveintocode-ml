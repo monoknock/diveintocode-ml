{
 "cells": [
  {
   "cell_type": "markdown",
   "source": [
    "### 【問題1】仮定関数\n",
    "### 【問題2】最急降下法\n",
    "### 【問題3】推定\n",
    "### 【問題4】目的関数"
   ],
   "metadata": {
    "collapsed": false,
    "pycharm": {
     "name": "#%% md\n"
    }
   }
  },
  {
   "cell_type": "code",
   "execution_count": 163,
   "metadata": {
    "collapsed": true
   },
   "outputs": [],
   "source": [
    "import numpy as np\n",
    "np.set_printoptions(suppress=True)\n",
    "\n",
    "class ScratchLogisticClassifier:\n",
    "    def __init__(self, iter_num, lr, lam=0.1):\n",
    "        self.iter_num = iter_num\n",
    "        self.lr = lr\n",
    "        self.loss = np.array([])       # lossはイテレーション数だけ作られる\n",
    "        self.loss_valid = np.array([]) # lossはイテレーション数だけ作られる\n",
    "        self.theta = None              # シータはfitまでわからない\n",
    "        self.lam = lam\n",
    "\n",
    "    def fit(self, X, y, X_valid=None, y_valid=None):\n",
    "        n_iteration = self.iter_num\n",
    "        self.theta = np.zeros(X.shape[1]+1) # +1はバイアス分\n",
    "        dummy_bias = np.ones((X.shape[0], 1))\n",
    "        X = np.hstack((dummy_bias, X))\n",
    "        if X_valid is not None:\n",
    "            dummy_bias = np.ones((X_valid.shape[0], 1))\n",
    "            X_valid = np.hstack((dummy_bias, X_valid))\n",
    "\n",
    "        for _ in range(n_iteration):\n",
    "            y_hat = self._hypothesis(X) # 予測値\n",
    "            loss = self._gradient_descent(X, y, y_hat)\n",
    "            self.loss = np.append(self.loss, loss)\n",
    "            if X_valid is not None:\n",
    "                # diff_list_valid = (X_valid @ self.theta) - y_valid\n",
    "                loss_valid = self._loss(X_valid, y_valid)\n",
    "                self.loss_valid = np.append(self.loss_valid, loss_valid)\n",
    "\n",
    "    # 線形回帰の仮定関数をシグモイド関数に通す\n",
    "    def _hypothesis(self, X):\n",
    "        linear_hypo = X @ self.theta\n",
    "        return 1 / (1 + np.exp(-linear_hypo)) # exp = 指数関数\n",
    "\n",
    "    def _gradient_descent(self, X, y, y_hat_list):\n",
    "        diff_list = y_hat_list - y\n",
    "        gra = diff_list @ X / len(X)\n",
    "        # TODO 正則化がうまく機能していない\n",
    "        l2 =  self.lam * self.theta / len(X) # 正則化項\n",
    "        self.theta[1:] = self.theta[1:] - self.lr * (gra[1:] + l2[1:])\n",
    "        self.theta[0] = self.theta[0] - self.lr * gra[0]\n",
    "        return self._loss(X, y)\n",
    "\n",
    "    def predict_proba(self, X):\n",
    "        dummy_bias = np.ones((X.shape[0],1))\n",
    "        X = np.hstack((dummy_bias, X))\n",
    "        return self._hypothesis(X)\n",
    "\n",
    "    def predict(self, X):\n",
    "        pred_proba = self.predict_proba(X)\n",
    "        return np.where(pred_proba < 0.5, 0, 1)\n",
    "\n",
    "    # 平均二乗誤差の計算\n",
    "    def _mse(self, diff, X):\n",
    "        return np.sum(diff**2) / X.shape[0]\n",
    "\n",
    "    # 損失関数(誤差関数、目的関数)\n",
    "    def _loss(self, X, y):\n",
    "        y_hat = self._hypothesis(X)\n",
    "        x_len = X.shape[0]\n",
    "        crossentropy =  -np.sum(y * np.log(y_hat) + (1-y) * np.log(1-y_hat)) / x_len\n",
    "        l2_decay = np.sum(self.theta[1:]**2)/(2 * x_len)\n",
    "        return crossentropy + l2_decay"
   ]
  },
  {
   "cell_type": "markdown",
   "source": [
    "###【問題5】学習と推定\n",
    "###【問題6】学習曲線のプロット"
   ],
   "metadata": {
    "collapsed": false,
    "pycharm": {
     "name": "#%% md\n"
    }
   }
  },
  {
   "cell_type": "code",
   "execution_count": 193,
   "outputs": [
    {
     "data": {
      "text/plain": "<Figure size 432x288 with 1 Axes>",
      "image/png": "[encoded data removed]"
     },
     "metadata": {
      "needs_background": "light"
     },
     "output_type": "display_data"
    },
    {
     "name": "stdout",
     "output_type": "stream",
     "text": [
      "[0 1 0 1 1 1 0 1 1 1 1 1 1 0 0 0 0 0 0 0 0 1 0 1 0]\n",
      "[0.06448029 0.99493718 0.02605338 0.97358671 0.98999836 0.61607379\n",
      " 0.06245125 0.9889996  0.99211545 0.95485373 0.9183902  0.9433032\n",
      " 0.9819805  0.01084817 0.05417187 0.05043075 0.01329464 0.08471537\n",
      " 0.08367785 0.02130977 0.06448029 0.95573704 0.0328873  0.96093452\n",
      " 0.03537548]\n",
      "[0 1 0 1 1 1 0 1 1 1 1 1 1 0 0 0 0 0 0 0 0 1 0 1 0]\n"
     ]
    },
    {
     "data": {
      "text/plain": "1.0"
     },
     "execution_count": 193,
     "metadata": {},
     "output_type": "execute_result"
    }
   ],
   "source": [
    "from sklearn.datasets import load_iris\n",
    "import pandas as pd\n",
    "from sklearn.model_selection import train_test_split\n",
    "from sklearn.metrics import confusion_matrix, accuracy_score, precision_score, recall_score, f1_score\n",
    "\n",
    "iris_dataset = load_iris()\n",
    "x = pd.DataFrame(iris_dataset.data, columns=[\"sepal_length\", \"sepal_width\", \"petal_length\", \"petal_width\"])\n",
    "x = x.loc[:, [\"sepal_length\", \"petal_length\"]]\n",
    "y = pd.Series(iris_dataset.target, name=\"y\")\n",
    "df_train = x.join(y).query('y in (0,1)')\n",
    "x = df_train.drop([\"y\"],  axis=1)\n",
    "y = df_train[\"y\"]\n",
    "x_train, x_test, y_train, y_test = train_test_split(x, y, test_size=0.25, shuffle=True, random_state=0)\n",
    "\n",
    "from sklearn.preprocessing import StandardScaler\n",
    "scaler = StandardScaler()\n",
    "scaler.fit(x_train)\n",
    "x_train = scaler.transform(x_train)\n",
    "x_test = scaler.transform(x_test)\n",
    "\n",
    "slc = ScratchLogisticClassifier(4000, 0.01, 1) # 正則化がうまく決まるパターン\n",
    "# slc = ScratchLogisticClassifier(10000, 0.01, 0.1)\n",
    "slc.fit(x_train, y_train, x_test, y_test)\n",
    "\n",
    "import matplotlib.pyplot as plt\n",
    "plt.plot(np.arange(1, len(slc.loss)+1), slc.loss, label='train_loss', linewidth=1)\n",
    "plt.plot(np.arange(1, len(slc.loss_valid)+1), slc.loss_valid, label='valid_loss', linewidth=1)\n",
    "plt.legend()\n",
    "plt.show()\n",
    "\n",
    "y_pred_proba = slc.predict_proba(x_test)\n",
    "y_pred = slc.predict(x_test)\n",
    "print(y_test.values)\n",
    "print(y_pred_proba)\n",
    "print(y_pred)\n",
    "accuracy_score(y_test, y_pred)\n"
   ],
   "metadata": {
    "collapsed": false,
    "pycharm": {
     "name": "#%%\n"
    }
   }
  },
  {
   "cell_type": "markdown",
   "source": [
    "### 【問題7】決定領域の可視化\n"
   ],
   "metadata": {
    "collapsed": false,
    "pycharm": {
     "name": "#%% md\n"
    }
   }
  },
  {
   "cell_type": "code",
   "execution_count": 165,
   "outputs": [
    {
     "name": "stdout",
     "output_type": "stream",
     "text": [
      "<class 'numpy.ndarray'>\n",
      "[5.3 4.6 5.7 5.8 6.8 5.  5.5 5.5 6.2 6.4 5.2 5.7 6.3 6.1 6.4 4.9 5.9 4.4\n",
      " 4.5 5.  5.7 5.1 5.  4.4 5.4 6.1 5.2 5.1 4.9 5.2 7.  4.8 5.  5.1 6.9 5.4\n",
      " 5.4 5.6 4.9 5.7 6.  5.2 5.4 5.8 5.5 5.1 4.7 5.  6.2 5.1 5.6 5.4 5.6 6.3\n",
      " 6.7 5.  4.9 5.5 5.1 5.1 6.7 6.6 4.8 5.6 5.9 6.3 5.5 5.1 6.  4.9 5.7 5.8\n",
      " 5.6 4.6 5.1]\n",
      "[5.3 4.6 5.7 5.8 6.8 5.  5.5 5.5 6.2 6.4 5.2 5.7 6.3 6.1 6.4 4.9 5.9 4.4\n",
      " 4.5 5.  5.7 5.1 5.  4.4 5.4 6.1 5.2 5.1 4.9 5.2 7.  4.8 5.  5.1 6.9 5.4\n",
      " 5.4 5.6 4.9 5.7 6.  5.2 5.4 5.8 5.5 5.1 4.7 5.  6.2 5.1 5.6 5.4 5.6 6.3\n",
      " 6.7 5.  4.9 5.5 5.1 5.1 6.7 6.6 4.8 5.6 5.9 6.3 5.5 5.1 6.  4.9 5.7 5.8\n",
      " 5.6 4.6 5.1]\n"
     ]
    },
    {
     "data": {
      "text/plain": "<Figure size 432x288 with 1 Axes>",
      "image/png": "[encoded data removed]"
     },
     "metadata": {
      "needs_background": "light"
     },
     "output_type": "display_data"
    }
   ],
   "source": [
    "import matplotlib.patches as mpatches\n",
    "from matplotlib.colors import ListedColormap\n",
    "def decision_region(X, y, model, step=0.01, title='decision region', xlabel='xlabel', ylabel='ylabel', target_names=['versicolor', 'virginica']):\n",
    "    # setting\n",
    "    scatter_color = ['red', 'blue']\n",
    "    contourf_color = ['pink', 'skyblue']\n",
    "    n_class = 2\n",
    "    # pred\n",
    "    print(type(X))\n",
    "    print(X[:,0])\n",
    "    print(X[:,0])\n",
    "    mesh_f0, mesh_f1  = np.meshgrid(np.arange(np.min(X[:,0])-0.5, np.max(X[:,0])+0.5, step), np.arange(np.min(X[:,1])-0.5, np.max(X[:,1])+0.5, step))\n",
    "    mesh = np.c_[np.ravel(mesh_f0),np.ravel(mesh_f1)]\n",
    "    y_pred = model.predict(mesh).reshape(mesh_f0.shape)\n",
    "    # plot\n",
    "    plt.title(title)\n",
    "    plt.xlabel(xlabel)\n",
    "    plt.ylabel(ylabel)\n",
    "    plt.contourf(mesh_f0, mesh_f1, y_pred, n_class-1, cmap=ListedColormap(contourf_color))\n",
    "    plt.contour(mesh_f0, mesh_f1, y_pred, n_class-1, colors='y', linewidths=3, alpha=0.5)\n",
    "    for i, target in enumerate(set(y)):\n",
    "        plt.scatter(X[y==target][:, 0], X[y==target][:, 1], s=80, color=scatter_color[i], label=target_names[i], marker='o')\n",
    "    patches = [mpatches.Patch(color=scatter_color[i], label=target_names[i]) for i in range(n_class)]\n",
    "    plt.legend(handles=patches)\n",
    "    plt.legend()\n",
    "    plt.show()\n",
    "\n",
    "\n",
    "iris_dataset = load_iris()\n",
    "x = pd.DataFrame(iris_dataset.data, columns=[\"sepal_length\", \"sepal_width\", \"petal_length\", \"petal_width\"])\n",
    "x = x.loc[:, [\"sepal_length\", \"petal_length\"]]\n",
    "y = pd.Series(iris_dataset.target, name=\"y\")\n",
    "df_train = x.join(y).query('y in (0,1)')\n",
    "x = df_train.drop([\"y\"],  axis=1)\n",
    "y = df_train[\"y\"]\n",
    "\n",
    "slc = ScratchLogisticClassifier(100, 0.05, lam=0.1)\n",
    "slc.fit(x_train, y_train)\n",
    "\n",
    "decision_region(x_train.values, y_train.values, slc)\n"
   ],
   "metadata": {
    "collapsed": false,
    "pycharm": {
     "name": "#%%\n"
    }
   }
  },
  {
   "cell_type": "code",
   "execution_count": 109,
   "outputs": [
    {
     "name": "stdout",
     "output_type": "stream",
     "text": [
      "[1 2 3 4 5]\n",
      "[1 2 3 4]\n",
      "[2 3 4 5]\n"
     ]
    }
   ],
   "source": [
    "hoge = np.array([1,2,3,4,5])\n",
    "print(hoge)\n",
    "print(hoge[:-1])\n",
    "print(hoge[1:])"
   ],
   "metadata": {
    "collapsed": false,
    "pycharm": {
     "name": "#%%\n"
    }
   }
  },
  {
   "cell_type": "code",
   "execution_count": null,
   "outputs": [],
   "source": [],
   "metadata": {
    "collapsed": false,
    "pycharm": {
     "name": "#%%\n"
    }
   }
  }
 ],
 "metadata": {
  "kernelspec": {
   "display_name": "Python 3",
   "language": "python",
   "name": "python3"
  },
  "language_info": {
   "codemirror_mode": {
    "name": "ipython",
    "version": 2
   },
   "file_extension": ".py",
   "mimetype": "text/x-python",
   "name": "python",
   "nbconvert_exporter": "python",
   "pygments_lexer": "ipython2",
   "version": "2.7.6"
  }
 },
 "nbformat": 4,
 "nbformat_minor": 0
}