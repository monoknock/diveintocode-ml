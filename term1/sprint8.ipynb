{
 "cells": [
  {
   "cell_type": "markdown",
   "metadata": {},
   "source": [
    "### 【問題1】ブレンディングのスクラッチ実装"
   ]
  },
  {
   "cell_type": "code",
   "execution_count": 3,
   "metadata": {},
   "outputs": [
    {
     "data": {
      "text/html": [
       "<div>\n",
       "<style scoped>\n",
       "    .dataframe tbody tr th:only-of-type {\n",
       "        vertical-align: middle;\n",
       "    }\n",
       "\n",
       "    .dataframe tbody tr th {\n",
       "        vertical-align: top;\n",
       "    }\n",
       "\n",
       "    .dataframe thead th {\n",
       "        text-align: right;\n",
       "    }\n",
       "</style>\n",
       "<table border=\"1\" class=\"dataframe\">\n",
       "  <thead>\n",
       "    <tr style=\"text-align: right;\">\n",
       "      <th></th>\n",
       "      <th>GrLivArea</th>\n",
       "      <th>YearBuilt</th>\n",
       "    </tr>\n",
       "  </thead>\n",
       "  <tbody>\n",
       "    <tr>\n",
       "      <th>count</th>\n",
       "      <td>1460.000000</td>\n",
       "      <td>1460.000000</td>\n",
       "    </tr>\n",
       "    <tr>\n",
       "      <th>mean</th>\n",
       "      <td>1515.463699</td>\n",
       "      <td>1971.267808</td>\n",
       "    </tr>\n",
       "    <tr>\n",
       "      <th>std</th>\n",
       "      <td>525.480383</td>\n",
       "      <td>30.202904</td>\n",
       "    </tr>\n",
       "    <tr>\n",
       "      <th>min</th>\n",
       "      <td>334.000000</td>\n",
       "      <td>1872.000000</td>\n",
       "    </tr>\n",
       "    <tr>\n",
       "      <th>25%</th>\n",
       "      <td>1129.500000</td>\n",
       "      <td>1954.000000</td>\n",
       "    </tr>\n",
       "    <tr>\n",
       "      <th>50%</th>\n",
       "      <td>1464.000000</td>\n",
       "      <td>1973.000000</td>\n",
       "    </tr>\n",
       "    <tr>\n",
       "      <th>75%</th>\n",
       "      <td>1776.750000</td>\n",
       "      <td>2000.000000</td>\n",
       "    </tr>\n",
       "    <tr>\n",
       "      <th>max</th>\n",
       "      <td>5642.000000</td>\n",
       "      <td>2010.000000</td>\n",
       "    </tr>\n",
       "  </tbody>\n",
       "</table>\n",
       "</div>"
      ],
      "text/plain": [
       "         GrLivArea    YearBuilt\n",
       "count  1460.000000  1460.000000\n",
       "mean   1515.463699  1971.267808\n",
       "std     525.480383    30.202904\n",
       "min     334.000000  1872.000000\n",
       "25%    1129.500000  1954.000000\n",
       "50%    1464.000000  1973.000000\n",
       "75%    1776.750000  2000.000000\n",
       "max    5642.000000  2010.000000"
      ]
     },
     "metadata": {},
     "output_type": "display_data"
    },
    {
     "data": {
      "text/plain": [
       "count      1460.000000\n",
       "mean     180921.195890\n",
       "std       79442.502883\n",
       "min       34900.000000\n",
       "25%      129975.000000\n",
       "50%      163000.000000\n",
       "75%      214000.000000\n",
       "max      755000.000000\n",
       "Name: SalePrice, dtype: float64"
      ]
     },
     "metadata": {},
     "output_type": "display_data"
    }
   ],
   "source": [
    "import numpy as np\n",
    "import pandas as pd\n",
    "from sklearn.linear_model import ElasticNet\n",
    "from sklearn.tree import DecisionTreeRegressor\n",
    "from sklearn.metrics import mean_squared_error\n",
    "from sklearn.model_selection import train_test_split\n",
    "import matplotlib.pyplot as plt\n",
    "from sklearn.preprocessing import StandardScaler\n",
    "import lightgbm as lgb\n",
    "\n",
    "df = pd.read_csv(\"../data/house-prices-advanced-regression-techniques/train.csv\")\n",
    "x = df.loc[:,['GrLivArea','YearBuilt']]\n",
    "y = df['SalePrice']\n",
    "display(x.describe())\n",
    "display(y.describe())\n",
    "\n",
    "# 標準化\n",
    "sc = StandardScaler()\n",
    "x = np.array(x)\n",
    "y = np.array(y)\n",
    "\n",
    "x_train, x_test, y_train, y_test = train_test_split(x, y, test_size=0.20, random_state=23)\n",
    "sc.fit(x_train)\n",
    "x_train = sc.transform(x_train)\n",
    "sc.fit(x_test)\n",
    "x_test = sc.transform(x_test)"
   ]
  },
  {
   "cell_type": "code",
   "execution_count": 5,
   "metadata": {},
   "outputs": [
    {
     "data": {
      "text/plain": [
       "21.3135193002795"
      ]
     },
     "metadata": {},
     "output_type": "display_data"
    },
    {
     "data": {
      "text/plain": [
       "21.734726609958688"
      ]
     },
     "metadata": {},
     "output_type": "display_data"
    },
    {
     "data": {
      "text/plain": [
       "21.292246763650407"
      ]
     },
     "metadata": {},
     "output_type": "display_data"
    },
    {
     "data": {
      "text/plain": [
       "21.198264315267572"
      ]
     },
     "metadata": {},
     "output_type": "display_data"
    }
   ],
   "source": [
    "# パターン1\n",
    "\n",
    "clf1 = lgb.LGBMRegressor()\n",
    "clf1.fit(x_train, y_train)\n",
    "y_pred1 = clf1.predict(x_test)\n",
    "res1 = np.log(mean_squared_error(y_test ,y_pred1))\n",
    "\n",
    "clf2 = DecisionTreeRegressor(max_depth=2)\n",
    "clf2.fit(x_train, y_train)\n",
    "y_pred2 = clf2.predict(x_test)\n",
    "res2 = np.log(mean_squared_error(y_test, y_pred2))\n",
    "\n",
    "clf3 = ElasticNet()\n",
    "clf3.fit(x_train, y_train)\n",
    "y_pred3 = clf3.predict(x_test)\n",
    "res3 = np.log(mean_squared_error(y_test, y_pred3))\n",
    "\n",
    "# predの平均を取る\n",
    "y_pred_all = (y_pred1 + y_pred2 + y_pred3) / 3\n",
    "res_all = np.log(mean_squared_error(y_test, y_pred_all))\n",
    "\n",
    "# 値が小さいほど優秀\n",
    "display(res1)\n",
    "display(res2)\n",
    "display(res3)\n",
    "display(res_all) # ブレンディング後が最優秀"
   ]
  },
  {
   "cell_type": "code",
   "execution_count": 6,
   "metadata": {},
   "outputs": [
    {
     "data": {
      "text/plain": [
       "21.3135193002795"
      ]
     },
     "metadata": {},
     "output_type": "display_data"
    },
    {
     "data": {
      "text/plain": [
       "21.734726609958688"
      ]
     },
     "metadata": {},
     "output_type": "display_data"
    },
    {
     "data": {
      "text/plain": [
       "21.250318074189572"
      ]
     },
     "metadata": {},
     "output_type": "display_data"
    },
    {
     "data": {
      "text/plain": [
       "21.200153162720344"
      ]
     },
     "metadata": {},
     "output_type": "display_data"
    }
   ],
   "source": [
    "# パターン2\n",
    "from sklearn.linear_model import LinearRegression\n",
    "\n",
    "clf4 = LinearRegression()\n",
    "clf4.fit(x_train, y_train)\n",
    "y_pred4 = clf4.predict(x_test)\n",
    "res4 = np.log(mean_squared_error(y_test, y_pred4))\n",
    "\n",
    "# predの平均を取る\n",
    "y_pred_all = (y_pred1 + y_pred2 + y_pred4) / 3\n",
    "res_all = np.log(mean_squared_error(y_test, y_pred_all))\n",
    "\n",
    "# 値が小さいほど優秀\n",
    "display(res1)\n",
    "display(res2)\n",
    "display(res4)\n",
    "display(res_all) # ブレンディング後が最優秀"
   ]
  },
  {
   "cell_type": "code",
   "execution_count": 16,
   "metadata": {},
   "outputs": [
    {
     "data": {
      "text/plain": [
       "21.3135193002795"
      ]
     },
     "metadata": {},
     "output_type": "display_data"
    },
    {
     "data": {
      "text/plain": [
       "21.734726609958688"
      ]
     },
     "metadata": {},
     "output_type": "display_data"
    },
    {
     "data": {
      "text/plain": [
       "21.292246763650407"
      ]
     },
     "metadata": {},
     "output_type": "display_data"
    },
    {
     "data": {
      "text/plain": [
       "21.250318074189572"
      ]
     },
     "metadata": {},
     "output_type": "display_data"
    },
    {
     "data": {
      "text/plain": [
       "21.534825890573824"
      ]
     },
     "metadata": {},
     "output_type": "display_data"
    },
    {
     "data": {
      "text/plain": [
       "21.20278920487294"
      ]
     },
     "metadata": {},
     "output_type": "display_data"
    },
    {
     "data": {
      "text/plain": [
       "21.16153362237194"
      ]
     },
     "metadata": {},
     "output_type": "display_data"
    }
   ],
   "source": [
    "# パターン3\n",
    "clf5 = DecisionTreeRegressor(max_depth=3)\n",
    "clf5.fit(x_train, y_train)\n",
    "y_pred5 = clf5.predict(x_test)\n",
    "res5 = np.log(mean_squared_error(y_test, y_pred5))\n",
    "\n",
    "# predの平均を取る\n",
    "y_pred_all1 = (y_pred1 + y_pred2 + y_pred3 + y_pred4 + y_pred5) / 5\n",
    "y_pred_all2 = y_pred1*0.1 + y_pred2*0.05 + y_pred3*0.3 + y_pred4*0.5 + y_pred5*0.05 # 重み付けパターン\n",
    "res_all1 = np.log(mean_squared_error(y_test, y_pred_all1))\n",
    "res_all2 = np.log(mean_squared_error(y_test, y_pred_all2))\n",
    "\n",
    "# 値が小さいほど優秀\n",
    "display(res1)\n",
    "display(res2)\n",
    "display(res3)\n",
    "display(res4)\n",
    "display(res5)\n",
    "display(res_all1) # ブレンディング後が最優秀\n",
    "display(res_all2) # ブレンディング後が最優秀 (重み付け調整が最優秀)"
   ]
  },
  {
   "cell_type": "markdown",
   "metadata": {},
   "source": [
    "```\n",
    "memo\n",
    "https://qiita.com/Moby-Dick/items/e2f1efd923fddd72b17d\n",
    "```"
   ]
  },
  {
   "cell_type": "markdown",
   "metadata": {},
   "source": [
    "### 【問題2】バギングのスクラッチ実装"
   ]
  },
  {
   "cell_type": "code",
   "execution_count": 22,
   "metadata": {},
   "outputs": [
    {
     "data": {
      "text/plain": [
       "21.659043803814455"
      ]
     },
     "metadata": {},
     "output_type": "display_data"
    },
    {
     "data": {
      "text/plain": [
       "21.706264040679674"
      ]
     },
     "metadata": {},
     "output_type": "display_data"
    },
    {
     "data": {
      "text/plain": [
       "21.64668295681728"
      ]
     },
     "metadata": {},
     "output_type": "display_data"
    },
    {
     "data": {
      "text/plain": [
       "21.591500176987264"
      ]
     },
     "metadata": {},
     "output_type": "display_data"
    }
   ],
   "source": [
    "x_train_a, x_train_b, y_train_a, y_train_b = train_test_split(x, y, test_size=0.5, random_state=23)\n",
    "x_train1, x_train2, y_train1, y_train2 = train_test_split(x_train_a, y_train_a, test_size=0.5, random_state=23)\n",
    "x_train3, x_test, y_train3, y_test = train_test_split(x_train_b, y_train_b, test_size=0.5, random_state=23)\n",
    "\n",
    "clf1 = lgb.LGBMRegressor()\n",
    "clf1.fit(x_train1, y_train1)\n",
    "y_pred1 = clf1.predict(x_test)\n",
    "res1 = np.log(mean_squared_error(y_test ,y_pred1))\n",
    "\n",
    "clf1 = lgb.LGBMRegressor()\n",
    "clf1.fit(x_train2, y_train2)\n",
    "y_pred2 = clf1.predict(x_test)\n",
    "res2 = np.log(mean_squared_error(y_test ,y_pred2))\n",
    "\n",
    "clf1 = lgb.LGBMRegressor()\n",
    "clf1.fit(x_train3, y_train3)\n",
    "y_pred3 = clf1.predict(x_test)\n",
    "res3 = np.log(mean_squared_error(y_test ,y_pred3))\n",
    "\n",
    "y_pred_all1 = (y_pred1 + y_pred2 + y_pred3) / 3\n",
    "res_all1 = np.log(mean_squared_error(y_test, y_pred_all1))\n",
    "\n",
    "\n",
    "display(res1)\n",
    "display(res2)\n",
    "display(res3)\n",
    "display(res_all1) # バギングしたものが最も結果が良い"
   ]
  },
  {
   "cell_type": "markdown",
   "metadata": {},
   "source": [
    "### 【問題3】スタッキングのスクラッチ実装"
   ]
  },
  {
   "cell_type": "code",
   "execution_count": 52,
   "metadata": {},
   "outputs": [],
   "source": [
    "x_train, x_test, y_train, y_test = train_test_split(x, y, test_size=0.6, random_state=3)\n",
    "x_test1, x_test2, y_test1, y_test2 = train_test_split(x, y, test_size=0.5, random_state=3)\n",
    "\n",
    "# 標準化\n",
    "sc.fit(x_train)\n",
    "x_train = sc.transform(x_train)\n",
    "sc.fit(x_test1)\n",
    "x_test1 = sc.transform(x_test1)\n",
    "x_test2 = sc.transform(x_test2)\n",
    "\n",
    "# モデル1\n",
    "clf1 = lgb.LGBMRegressor()\n",
    "clf1.fit(x_train, y_train)\n",
    "y_pred1 = clf1.predict(x_test1)\n",
    "res1 = np.log(mean_squared_error(y_test1 ,y_pred1))\n",
    "# モデル2\n",
    "clf2 = DecisionTreeRegressor(max_depth=2)\n",
    "clf2.fit(x_train, y_train)\n",
    "y_pred2 = clf2.predict(x_test1)\n",
    "res2 = np.log(mean_squared_error(y_test1, y_pred2))\n",
    "# モデル3\n",
    "clf3 = ElasticNet()\n",
    "clf3.fit(x_train, y_train)\n",
    "y_pred3 = clf3.predict(x_test1)\n",
    "res3 = np.log(mean_squared_error(y_test1, y_pred3))"
   ]
  },
  {
   "cell_type": "code",
   "execution_count": 55,
   "metadata": {},
   "outputs": [
    {
     "name": "stdout",
     "output_type": "stream",
     "text": [
      "mean squared error of model 1: 21.4691\n",
      "mean squared error of model 2: 22.1056\n",
      "mean squared error of model 3: 21.4981\n",
      "mean squared error of meta model: 21.4368\n"
     ]
    }
   ],
   "source": [
    "# メタモデル モデル1~3のpredの組み合わせを特徴量として、対応するy_test1を学習\n",
    "stacked_predictions = np.column_stack((y_pred1, y_pred2, y_pred3))\n",
    "meta_model = LinearRegression()\n",
    "meta_model.fit(stacked_predictions, y_test1)\n",
    "\n",
    "# 新しい特徴量で 各モデル+メタモデル の結果をだす\n",
    "valid_pred_1 = clf1.predict(x_test2)\n",
    "valid_pred_2 = clf2.predict(x_test2)\n",
    "valid_pred_3 = clf3.predict(x_test2)\n",
    "stacked_valid_predictions = np.column_stack((valid_pred_1, valid_pred_2, valid_pred_3))\n",
    "meta_valid_pred = meta_model.predict(stacked_valid_predictions)\n",
    "\n",
    "print (\"mean squared error of model 1: {:.4f}\".format( np.log(mean_squared_error(y_test2, valid_pred_1))) )\n",
    "print (\"mean squared error of model 2: {:.4f}\".format( np.log(mean_squared_error(y_test2, valid_pred_2))) )\n",
    "print (\"mean squared error of model 3: {:.4f}\".format( np.log(mean_squared_error(y_test2, valid_pred_3))) )\n",
    "\n",
    "# スタッキングモデルが結果最大化\n",
    "print (\"mean squared error of meta model: {:.4f}\".format( np.log(mean_squared_error(y_test2, meta_valid_pred))) )"
   ]
  }
 ],
 "metadata": {
  "kernelspec": {
   "display_name": "Python 3",
   "language": "python",
   "name": "python3"
  },
  "language_info": {
   "codemirror_mode": {
    "name": "ipython",
    "version": 3
   },
   "file_extension": ".py",
   "mimetype": "text/x-python",
   "name": "python",
   "nbconvert_exporter": "python",
   "pygments_lexer": "ipython3",
   "version": "3.8.5"
  }
 },
 "nbformat": 4,
 "nbformat_minor": 4
}
