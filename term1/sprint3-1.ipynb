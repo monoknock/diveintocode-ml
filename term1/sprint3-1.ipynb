{
 "cells": [
  {
   "cell_type": "markdown",
   "metadata": {
    "collapsed": true,
    "pycharm": {
     "name": "#%% md\n"
    }
   },
   "source": [
    "### 【問題1】仮定関数\n",
    "### 【問題2】最急降下法\n",
    "### 【問題3】推定\n",
    "### 【問題4】平均二乗誤差\n",
    "### 【問題5】目的関数"
   ]
  },
  {
   "cell_type": "code",
   "execution_count": 159,
   "outputs": [
    {
     "name": "stdout",
     "output_type": "stream",
     "text": [
      "mean_absolute_error 32711.07748550501\n"
     ]
    }
   ],
   "source": [
    "import numpy as np\n",
    "import pandas as pd\n",
    "from sklearn.model_selection import train_test_split\n",
    "from sklearn.linear_model import LinearRegression\n",
    "from sklearn.metrics import mean_absolute_error\n",
    "\n",
    "df_base = pd.read_csv(\"../data/house-prices-advanced-regression-techniques/train.csv\")\n",
    "df = df_base.loc[:, [\"GrLivArea\", \"YearBuilt\", \"SalePrice\"]]\n",
    "feature_names = [\"GrLivArea\", \"YearBuilt\"]\n",
    "# feature_names = [\"GrLivArea\"]\n",
    "y_name = \"SalePrice\"\n",
    "X = df_base.loc[:, feature_names].values\n",
    "y = df_base[y_name].values\n",
    "X_train, X_valid, y_train, y_valid = train_test_split(X, y, test_size=0.2, random_state=0, shuffle=True)\n",
    "\n",
    "lr = LinearRegression()\n",
    "lr.fit(X_train, y_train)\n",
    "\n",
    "y_pred = lr.predict(X_valid)\n",
    "lr_mse = mean_absolute_error(y_valid, y_pred)\n",
    "print(\"mean_absolute_error\", lr_mse)\n",
    "\n",
    "# print(lr.coef_)\n",
    "# print(lr.intercept_)\n",
    "# print(lr.score(X_valid, y_valid))\n",
    "# X_train = X_train[:4]\n",
    "# y_train = y_train[:4]"
   ],
   "metadata": {
    "collapsed": false,
    "pycharm": {
     "name": "#%%\n"
    }
   }
  },
  {
   "cell_type": "code",
   "execution_count": 181,
   "outputs": [],
   "source": [
    "class ScratchLinearRegression:\n",
    "\n",
    "    def __init__(self, iter_num, lr):\n",
    "        self.iter_num = iter_num\n",
    "        self.lr = lr\n",
    "        self.loss = np.array([])       # lossはイテレーション数だけ作られる\n",
    "        self.loss_valid = np.array([]) # lossはイテレーション数だけ作られる\n",
    "        self.theta = None              # シータはfitまでわからない\n",
    "\n",
    "    # 問題6\n",
    "    def fit(self, X, y, X_valid=None, y_valid=None):\n",
    "        n_iteration = self.iter_num\n",
    "        self.theta = np.zeros(X.shape[1]+1) # +1はバイアス分\n",
    "        dummy_bias = np.ones((X.shape[0], 1))\n",
    "        X = np.hstack((dummy_bias, X))\n",
    "        if X_valid is not None:\n",
    "            dummy_bias = np.ones((X_valid.shape[0], 1))\n",
    "            X_valid = np.hstack((dummy_bias, X_valid))\n",
    "\n",
    "        for _ in range(n_iteration):\n",
    "            y_hat = self._linear_hypothesis(X) # 予測値\n",
    "            loss = self._gradient_descent(X, y, y_hat)\n",
    "            self.loss = np.append(self.loss, loss)\n",
    "            if X_valid is not None:\n",
    "                diff_list_valid = (X_valid @ self.theta) - y_valid\n",
    "                loss_valid = self._loss(diff_list_valid, X_valid)\n",
    "                self.loss_valid = np.append(self.loss_valid, loss_valid)\n",
    "\n",
    "    # 問題1 線形仮説 現時点での予測値y(1次元配列)の出力\n",
    "    def _linear_hypothesis(self, X):\n",
    "        return X @ self.theta\n",
    "\n",
    "    # 問題2 最急降下法によるパラメータの更新\n",
    "    def _gradient_descent(self, X, y, y_hat_list):\n",
    "        diff_list = y_hat_list - y\n",
    "        gra = diff_list @ X / len(X)\n",
    "        new_theta = self.theta - self.lr * gra\n",
    "        self.theta = new_theta\n",
    "        return self._loss(diff_list, X)\n",
    "\n",
    "    # 問題3\n",
    "    def predict(self, X):\n",
    "        dummy_bias = np.ones((X.shape[0],1))\n",
    "        X = np.hstack((dummy_bias, X))\n",
    "        return self._linear_hypothesis(X)\n",
    "\n",
    "    # 問題4 平均二乗誤差の計算\n",
    "    def _mse(self, diff, X):\n",
    "        return np.sum(diff**2) / X.shape[0]\n",
    "\n",
    "    # 問題5 損失関数\n",
    "    def _loss(self, diff, X):\n",
    "        return self._mse(diff, X) / 2"
   ],
   "metadata": {
    "collapsed": false,
    "pycharm": {
     "name": "#%%\n"
    }
   }
  },
  {
   "cell_type": "markdown",
   "source": [
    "### 【問題6】学習と推定\n",
    "### 【問題7】学習曲線のプロット"
   ],
   "metadata": {
    "collapsed": false,
    "pycharm": {
     "name": "#%% md\n"
    }
   }
  },
  {
   "cell_type": "code",
   "execution_count": 182,
   "outputs": [
    {
     "data": {
      "text/plain": "<Figure size 432x288 with 1 Axes>",
      "image/png": "[encoded data removed]"
     },
     "metadata": {
      "needs_background": "light"
     },
     "output_type": "display_data"
    },
    {
     "name": "stdout",
     "output_type": "stream",
     "text": [
      "mean_absolute_error 43860.54782679833\n"
     ]
    }
   ],
   "source": [
    "slr = ScratchLinearRegression(55, 0.00000001)\n",
    "slr.fit(X_train, y_train, X_valid, y_valid)\n",
    "\n",
    "import matplotlib.pyplot as plt\n",
    "plt.plot(np.arange(1, len(slr.loss)+1), slr.loss, label='train_loss', linewidth=1)\n",
    "plt.plot(np.arange(1, len(slr.loss_valid)+1), slr.loss_valid, label='valid_loss', linewidth=1)\n",
    "plt.legend()\n",
    "plt.show()\n",
    "\n",
    "y_pred = slr.predict(X_valid)\n",
    "\n",
    "from sklearn.metrics import mean_absolute_error\n",
    "lr_mse = mean_absolute_error(y_valid, y_pred)\n",
    "print(\"mean_absolute_error\", lr_mse)"
   ],
   "metadata": {
    "collapsed": false,
    "pycharm": {
     "name": "#%%\n"
    }
   }
  },
  {
   "cell_type": "code",
   "execution_count": 182,
   "outputs": [],
   "source": [],
   "metadata": {
    "collapsed": false,
    "pycharm": {
     "name": "#%%\n"
    }
   }
  },
  {
   "cell_type": "code",
   "execution_count": null,
   "outputs": [],
   "source": [],
   "metadata": {
    "collapsed": false,
    "pycharm": {
     "name": "#%%\n"
    }
   }
  }
 ],
 "metadata": {
  "kernelspec": {
   "display_name": "Python 3",
   "language": "python",
   "name": "python3"
  },
  "language_info": {
   "codemirror_mode": {
    "name": "ipython",
    "version": 2
   },
   "file_extension": ".py",
   "mimetype": "text/x-python",
   "name": "python",
   "nbconvert_exporter": "python",
   "pygments_lexer": "ipython2",
   "version": "2.7.6"
  }
 },
 "nbformat": 4,
 "nbformat_minor": 0
}