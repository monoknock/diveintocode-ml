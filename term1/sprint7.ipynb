{
 "cells": [
  {
   "cell_type": "markdown",
   "metadata": {},
   "source": [
    "### 【問題1】中心点の初期値を決める\n",
    "### 【問題2】SSEを求める関数の作成\n",
    "### 【問題3】クラスタへの割り当て\n",
    "### 【問題4】中心点の移動\n",
    "### 【問題5】繰り返し\n",
    "### 【問題6】異なる初期値で計算\n",
    "### 【問題7】推定"
   ]
  },
  {
   "cell_type": "code",
   "execution_count": 1,
   "metadata": {},
   "outputs": [],
   "source": [
    "import numpy as np\n",
    "import itertools \n",
    "\n",
    "class KMeans:\n",
    "    def __init__(self, n_clusters, max_iter = 1000, random_seed = 0):\n",
    "        self.n_clusters = n_clusters\n",
    "        self.max_iter = max_iter\n",
    "        self.random_state = np.random.RandomState(random_seed)\n",
    "\n",
    "    def fit(self, X):\n",
    "        #指定したクラスター数分のラベルを繰り返し作成するジェネレータを生成（0,1,2,0,1,2,0,1,2...みたいな感じ）\n",
    "        cycle = itertools.cycle(range(self.n_clusters))\n",
    "        #各データポイントに対してクラスタのラベルをランダムに割り振る\n",
    "        self.labels_ = np.fromiter(itertools.islice(cycle, X.shape[0]), dtype = np.int)\n",
    "        self.random_state.shuffle(self.labels_)\n",
    "        labels_prev = np.zeros(X.shape[0])\n",
    "        count = 0\n",
    "        self.cluster_centers_ = np.zeros((self.n_clusters, X.shape[1]))\n",
    "\n",
    "        #各データポイントが属しているクラスターが変化しなくなった、又は一定回数の繰り返しを越した場合は終了\n",
    "        while (not (self.labels_ == labels_prev).all() and count < self.max_iter):\n",
    "            #その時点での各クラスターの重心を計算する\n",
    "            for i in range(self.n_clusters):\n",
    "                XX = X[self.labels_ == i, :]\n",
    "                self.cluster_centers_[i, :] = XX.mean(axis = 0)\n",
    "            #各データポイントと各クラスターの重心間の距離を総当たりで計算する\n",
    "            dist = ((X[:, :, np.newaxis] - self.cluster_centers_.T[np.newaxis, :, :]) ** 2).sum(axis = 1)\n",
    "            #1つ前のクラスターラベルを覚えておく。1つ前のラベルとラベルが変化しなければプログラムは終了する。\n",
    "            labels_prev = self.labels_\n",
    "            #再計算した結果、最も距離の近いクラスターのラベルを割り振る\n",
    "            self.labels_ = dist.argmin(axis = 1)\n",
    "            count += 1\n",
    "\n",
    "    def predict(self, X):\n",
    "        dist = ((X[:, :, np.newaxis] - self.cluster_centers_.T[np.newaxis, :, :]) ** 2).sum(axis = 1)\n",
    "        labels = dist.argmin(axis = 1)\n",
    "        return labels"
   ]
  },
  {
   "cell_type": "code",
   "execution_count": 2,
   "metadata": {},
   "outputs": [
    {
     "name": "stdout",
     "output_type": "stream",
     "text": [
      "[1 0 2 1 0 0 2 0 1 2 0 0 2 0 2 2 0 0 2 1 2 0 1 2 0 1 2 1 0 1 0 0 0 2 0 2 0\n",
      " 1 1 0 0 0 0 1 2 0 0 0 2 1 0 2 1 0 2 0 2 1 1 1 1 1 0 2 0 2 2 0 0 0 0 0 2 0\n",
      " 2 2 2 1 0 2 1 2 0 0 2 0 1 2 1 1 1 2 2 2 1 2 2 2 1 2 1 0 0 0 0 0 2 0 1 0 1\n",
      " 2 0 1 1 0 1 2 1 1 1 2 2 1 2 1 0 1 1 2 0 1 0 1 1 1 0 2 1 0 0 1 2 2 2 1 0 0\n",
      " 0 2 2 2 0 0 1 2 0 2 2 2 1 2 2 2 2 2 1 1 0 1 2 1 1 2 0 1 1 1 1 0 2 1 0 1 1\n",
      " 2 1 2 2 2 1 2 0 1 2 2 2 0 0 0 0 1 1 2 1 1 1 2 2 0 0 1 1 2 0 0 1 0 1 1 2 1\n",
      " 0 1 2 1 0 1 2 2 1 1 2 1 2 1 0 1 1 2]\n"
     ]
    }
   ],
   "source": [
    "import matplotlib.pyplot as plt\n",
    "\n",
    "#適当なデータセットを作成する\n",
    "np.random.seed(0)\n",
    "points1 = np.random.randn(80, 2)\n",
    "points2 = np.random.randn(80, 2) + np.array([4,0])\n",
    "points3 = np.random.randn(80, 2) + np.array([5,8])\n",
    "\n",
    "points = np.r_[points1, points2, points3]\n",
    "np.random.shuffle(points)\n",
    "\n",
    "#3つのクラスタに分けるモデルを作成\n",
    "model =  KMeans(3)\n",
    "model.fit(points)\n",
    "\n",
    "print(model.labels_)"
   ]
  },
  {
   "cell_type": "code",
   "execution_count": 4,
   "metadata": {},
   "outputs": [
    {
     "data": {
      "image/png": "[encoded data removed]",
      "text/plain": [
       "<Figure size 432x288 with 1 Axes>"
      ]
     },
     "metadata": {
      "needs_background": "light"
     },
     "output_type": "display_data"
    }
   ],
   "source": [
    "markers = [\"+\", \"*\", \"o\"]\n",
    "color = ['r', 'b', 'g']\n",
    "for i in range(3):\n",
    "    p = points[model.labels_ == i, :]\n",
    "    plt.scatter(p[:, 0], p[:, 1], marker = markers[i], color = color[i])\n",
    "plt.show()"
   ]
  },
  {
   "cell_type": "markdown",
   "metadata": {},
   "source": [
    "### 【問題8】エルボー法の実装"
   ]
  },
  {
   "cell_type": "code",
   "execution_count": null,
   "metadata": {},
   "outputs": [],
   "source": []
  },
  {
   "cell_type": "markdown",
   "metadata": {},
   "source": [
    "### 【問題10】クラスタ数kの選択"
   ]
  },
  {
   "cell_type": "code",
   "execution_count": null,
   "metadata": {},
   "outputs": [],
   "source": []
  },
  {
   "cell_type": "markdown",
   "metadata": {},
   "source": [
    "### 【問題11】既知のグループとの比較"
   ]
  },
  {
   "cell_type": "code",
   "execution_count": null,
   "metadata": {},
   "outputs": [],
   "source": []
  },
  {
   "cell_type": "markdown",
   "metadata": {},
   "source": [
    "### 【問題12】卸売業者にとって有益な情報"
   ]
  },
  {
   "cell_type": "code",
   "execution_count": null,
   "metadata": {},
   "outputs": [],
   "source": []
  }
 ],
 "metadata": {
  "kernelspec": {
   "display_name": "Python 3",
   "language": "python",
   "name": "python3"
  },
  "language_info": {
   "codemirror_mode": {
    "name": "ipython",
    "version": 3
   },
   "file_extension": ".py",
   "mimetype": "text/x-python",
   "name": "python",
   "nbconvert_exporter": "python",
   "pygments_lexer": "ipython3",
   "version": "3.8.5"
  }
 },
 "nbformat": 4,
 "nbformat_minor": 4
}
