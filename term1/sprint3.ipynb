{
 "cells": [
  {
   "cell_type": "markdown",
   "metadata": {},
   "source": [
    "### 【問題1】仮定関数"
   ]
  },
  {
   "cell_type": "code",
   "execution_count": 21,
   "metadata": {},
   "outputs": [
    {
     "data": {
      "text/plain": [
       "array([100, 200])"
      ]
     },
     "metadata": {},
     "output_type": "display_data"
    }
   ],
   "source": [
    "class ScratchLinearRegression():\n",
    "    def __init__(self, num_iter, lr, no_bias, verbose):\n",
    "        # ハイパーパラメータを属性として記録\n",
    "        self.iter = num_iter   # 繰り返し回数\n",
    "        self.lr = lr           # 学習率 \n",
    "        self.no_bias = no_bias\n",
    "        self.verbose = verbose\n",
    "        # 損失を記録する配列を用意\n",
    "        self.loss = np.zeros(self.iter)\n",
    "        self.val_loss = np.zeros(self.iter)\n",
    "        \n",
    "    # 単回帰では1次関数のこと\n",
    "    def _linear_hypothesis(self, x):\n",
    "#         self.coef_ = [100, 10] # 仮\n",
    "        self.coef_ = [100] # 仮\n",
    "        theta = self.coef_\n",
    "        return np.dot(x, theta) # 内積\n",
    "    \n",
    "    # パラメータの更新式\n",
    "    # error: 誤差\n",
    "    def _gradient_descent(self, x, y):\n",
    "        m = len(y)\n",
    "        hypothesis = self._linear_hypothesis(x)  # 仮説のy\n",
    "        diff = hypothesis - y.reshape(m, 1)      # 仮説関数との差分\n",
    "        sqr_errors = np.square(diff)             # 差分の2乗を求める\n",
    "        j = self.lr * (1/m) * np.sum(sqr_errors) # \n",
    "        \n",
    "import numpy as np    \n",
    "hoge = ScratchLinearRegression(10, 0.1, False, False)\n",
    "x = np.array([[1, 2],[2, 4]])\n",
    "y = np.array([2, 8])\n",
    "\n",
    "a = hoge._linear_hypothesis(x)\n",
    "\n",
    "b = hoge._gradient_descent\n",
    "display(a) \n"
   ]
  },
  {
   "cell_type": "markdown",
   "metadata": {},
   "source": [
    "### 【問題2】最急降下法"
   ]
  },
  {
   "cell_type": "code",
   "execution_count": 41,
   "metadata": {},
   "outputs": [
    {
     "name": "stdout",
     "output_type": "stream",
     "text": [
      "theta: \n",
      " [[-3.04638561]\n",
      " [ 1.09496772]]\n"
     ]
    },
    {
     "data": {
      "image/png": "[encoded data removed]",
      "text/plain": [
       "<Figure size 432x288 with 1 Axes>"
      ]
     },
     "metadata": {
      "needs_background": "light"
     },
     "output_type": "display_data"
    }
   ],
   "source": [
    "import numpy as np\n",
    "import matplotlib.pyplot as plt\n",
    "import matplotlib as cm\n",
    "# 線形回帰でデータに直線を当てはめる\n",
    "# 目的関数\n",
    "def compute_cost(x, y, theta):\n",
    "    m = len(y)\n",
    "    hypothesis = np.dot(x, theta)\n",
    "    diff = hypothesis - y.reshape(m, 1)\n",
    "    sqr_errors = np.square(diff)\n",
    "    j = 1 / (2 * m) * np.sum(sqr_errors)\n",
    "    return j\n",
    "\n",
    "# 最急降下法でJ(θ)の値を最小化する.\n",
    "# イテレーション毎にcompute_cost()を呼び出し, コストを出力する.\n",
    "def gradient_descent(x, y, theta, alpha, num_iters):\n",
    "    m = len(y)\n",
    "    j_history = np.zeros((num_iters, 1))\n",
    "    for i in range(0, num_iters):\n",
    "        hypothesis = np.dot(x, theta)\n",
    "        diff = hypothesis - y.reshape(m, 1)\n",
    "        theta = theta - alpha / m * np.dot(x.T, diff)\n",
    "        j_history[i] = compute_cost(x, y, theta)\n",
    "    return theta, j_history\n",
    "\n",
    "if __name__ == '__main__':\n",
    "    # X: 利益(1万ドル単位), y: 都市の人口(1万人単位)\n",
    "    X = np.array([8.51, 18.95, 6.35,  5.71, 11.7, 10.23,  13.17, 7.22, 10.95, 12.82])\n",
    "    y = np.array([4.24, 17.05, 5.49,  3.25,  8.00, 7.77, 14.69, 3.34, 7.04, 13.5])\n",
    "    m = len(X)      # トレーニングデータの数\n",
    "    intercept_term = np.ones((m, 1))\n",
    "    X = np.hstack((intercept_term, X.reshape(m, 1)))   # 1列目に切片項を追加\n",
    "    theta = np.zeros((2, 1))      # thetaを0で初期化\n",
    "    iterations = 1500\n",
    "    alpha = 0.01        # 学習率\n",
    "    theta, j_history = gradient_descent(X, y, theta, alpha, iterations)\n",
    "    print('theta: \\n', theta)\n",
    "\n",
    "    # 勾配降下が正しく機能していることを確認するため各ステップで値が減少していることを確認する.\n",
    "    plt.figure()\n",
    "    plt.plot(j_history)\n",
    "    plt.xlim(0,)\n",
    "    plt.xlabel('iterations')\n",
    "    plt.ylabel('J(theta)')\n",
    "\n",
    "#     plt.figure()\n",
    "#     plt.scatter(X[:, 1], y, color='red', marker='x', alpha=0.5)\n",
    "#     plt.ylabel('利益(1万ドル単位)')\n",
    "#     plt.xlabel('都市の人口(1万人単位)')\n",
    "#     plt.plot(X[:, 1], np.dot(X, theta))\n",
    "#     plt.show()\n",
    "    # コスト関数J(θ)はボウル型でグローバルな最小値を持つ(等高線プロットで確認).\n",
    "    # 勾配降下の各ステップはこのポイントに近づく.\n",
    "#     theta0_vals = np.linspace(-10, 10, 100)\n",
    "#     theta1_vals = np.linspace(-1, 4, 100)\n",
    "#     t0, t1 = np.meshgrid(theta0_vals, theta1_vals)\n",
    "#     j_vals = np.zeros((len(theta0_vals), len(theta1_vals)))\n",
    "#     t = np.array([t0, t1])\n",
    "#     for i in range(len(theta0_vals)):\n",
    "#         for j in range(len(theta1_vals)):\n",
    "#             j_vals[i, j] = compute_cost(X, y, t[:, i, j].reshape(2, 1))\n",
    "#     fig = plt.figure(figsize=(9, 4))\n",
    "#     fig.suptitle('Cost function J(θ)')\n",
    "#     plt.subplots_adjust(wspace=0.5, hspace=0.5)\n",
    "#     # J(theta)の3次元プロット\n",
    "#     ax1 = fig.add_subplot(121, projection='3d')\n",
    "#     ax1.plot_surface(t0, t1, j_vals, cmap=cm.coolwarm)\n",
    "#     ax1.set_title('Surface')\n",
    "#     ax1.set_xlabel(r'$\\rmθ_0$')\n",
    "#     ax1.set_ylabel(r'$\\rmθ_1$')\n",
    "#     ax1.set_zlabel(r'$\\rmJ(θ_0, θ_1)$')\n",
    "#     # 等高線の描画\n",
    "#     ax2 = fig.add_subplot(122)\n",
    "#     ax2.contour(t0, t1, j_vals, levels=np.logspace(-2, 3, 20))\n",
    "#     ax2.plot(theta[0], theta[1], 'x', color='red')\n",
    "#     ax2.set_title('Contour, showing minimum')\n",
    "#     ax2.set_xlabel('θ0')\n",
    "#     ax2.set_ylabel('θ1')\n",
    "#     plt.show()"
   ]
  },
  {
   "cell_type": "markdown",
   "metadata": {},
   "source": [
    "### 【問題3】推定"
   ]
  },
  {
   "cell_type": "code",
   "execution_count": null,
   "metadata": {},
   "outputs": [],
   "source": []
  },
  {
   "cell_type": "markdown",
   "metadata": {},
   "source": [
    "### 【問題4】平均二乗誤差"
   ]
  },
  {
   "cell_type": "code",
   "execution_count": null,
   "metadata": {},
   "outputs": [],
   "source": []
  },
  {
   "cell_type": "markdown",
   "metadata": {},
   "source": [
    "### 【問題5】目的関数"
   ]
  },
  {
   "cell_type": "code",
   "execution_count": null,
   "metadata": {},
   "outputs": [],
   "source": []
  },
  {
   "cell_type": "markdown",
   "metadata": {},
   "source": [
    "### 【問題6】学習と推定"
   ]
  },
  {
   "cell_type": "code",
   "execution_count": null,
   "metadata": {},
   "outputs": [],
   "source": []
  },
  {
   "cell_type": "markdown",
   "metadata": {},
   "source": [
    "### 【問題7】学習曲線のプロット"
   ]
  },
  {
   "cell_type": "code",
   "execution_count": null,
   "metadata": {},
   "outputs": [],
   "source": []
  },
  {
   "cell_type": "markdown",
   "metadata": {},
   "source": [
    "### 【問題8】（アドバンス課題）バイアス項の除去"
   ]
  },
  {
   "cell_type": "code",
   "execution_count": null,
   "metadata": {},
   "outputs": [],
   "source": []
  },
  {
   "cell_type": "markdown",
   "metadata": {},
   "source": [
    "### 【問題9】（アドバンス課題）特徴量の多次元化"
   ]
  },
  {
   "cell_type": "code",
   "execution_count": null,
   "metadata": {},
   "outputs": [],
   "source": []
  },
  {
   "cell_type": "markdown",
   "metadata": {},
   "source": [
    "### 【問題10】（アドバンス課題）更新式の導出"
   ]
  },
  {
   "cell_type": "code",
   "execution_count": null,
   "metadata": {},
   "outputs": [],
   "source": []
  },
  {
   "cell_type": "markdown",
   "metadata": {},
   "source": [
    "### 【問題11】（アドバンス課題）局所最適解の問題"
   ]
  },
  {
   "cell_type": "code",
   "execution_count": null,
   "metadata": {},
   "outputs": [],
   "source": []
  }
 ],
 "metadata": {
  "kernelspec": {
   "display_name": "Python 3",
   "language": "python",
   "name": "python3"
  },
  "language_info": {
   "codemirror_mode": {
    "name": "ipython",
    "version": 3
   },
   "file_extension": ".py",
   "mimetype": "text/x-python",
   "name": "python",
   "nbconvert_exporter": "python",
   "pygments_lexer": "ipython3",
   "version": "3.8.5"
  }
 },
 "nbformat": 4,
 "nbformat_minor": 4
}
