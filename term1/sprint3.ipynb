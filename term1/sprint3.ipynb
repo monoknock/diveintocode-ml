{
 "cells": [
  {
   "cell_type": "markdown",
   "metadata": {},
   "source": [
    "### 【問題1】仮定関数\n",
    "### 【問題2】最急降下法\n",
    "### 【問題3】推定\n",
    "### 【問題4】平均二乗誤差\n",
    "### 【問題5】目的関数\n",
    "### 【問題6】学習と推定\n",
    "### 【問題7】学習曲線のプロット"
   ]
  },
  {
   "cell_type": "code",
   "execution_count": 3,
   "metadata": {},
   "outputs": [
    {
     "name": "stdout",
     "output_type": "stream",
     "text": [
      "切片: 4.196296296296298\n",
      "傾き: 0.13468013468013465\n"
     ]
    },
    {
     "data": {
      "image/png": "[encoded data removed]",
      "text/plain": [
       "<Figure size 432x288 with 1 Axes>"
      ]
     },
     "metadata": {
      "needs_background": "light"
     },
     "output_type": "display_data"
    }
   ],
   "source": [
    "import numpy as np \n",
    "import matplotlib.pyplot as plt\n",
    "\n",
    "weights = np.array([5, 10, 15, 20, 25, 30, 35, 40, 45, 50])\n",
    "lengths = np.array([5.3, 5.7, 6.4, 6.9, 7.7, 8.2, 8.4, 9.8, 9.9, 10.7])\n",
    "\n",
    "def least_squares(x, y):\n",
    "    \"\"\"回帰係数を計算する\"\"\"\n",
    "    theta_1 = np.cov(x, y)[0][1] / np.var(x)\n",
    "    theta_0 = np.mean(y) - theta_1 * np.mean(x)\n",
    "    return theta_0, theta_1\n",
    "\n",
    "\n",
    "theta_0, theta_1 = least_squares(weights, lengths)\n",
    "\n",
    "print(f'切片: {theta_0}')\n",
    "print(f'傾き: {theta_1}')\n",
    "\n",
    "\n",
    "x = np.arange(5, 55, 0.1)\n",
    "y = theta_0 + theta_1 * x  # 回帰曲線\n",
    "# 可視化\n",
    "plt.scatter(weights, lengths, c='#007bc3')\n",
    "plt.plot(x, y, c='#de3838')\n",
    "plt.show()"
   ]
  },
  {
   "cell_type": "code",
   "execution_count": null,
   "metadata": {},
   "outputs": [],
   "source": []
  }
 ],
 "metadata": {
  "kernelspec": {
   "display_name": "Python 3",
   "language": "python",
   "name": "python3"
  },
  "language_info": {
   "codemirror_mode": {
    "name": "ipython",
    "version": 3
   },
   "file_extension": ".py",
   "mimetype": "text/x-python",
   "name": "python",
   "nbconvert_exporter": "python",
   "pygments_lexer": "ipython3",
   "version": "3.8.5"
  }
 },
 "nbformat": 4,
 "nbformat_minor": 4
}
