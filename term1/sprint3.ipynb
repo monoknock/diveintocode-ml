{
 "cells": [
  {
   "cell_type": "markdown",
   "metadata": {},
   "source": [
    "### 【問題1】仮定関数\n",
    "### 【問題2】最急降下法\n",
    "### 【問題3】推定\n",
    "### 【問題4】平均二乗誤差\n",
    "### 【問題5】目的関数\n",
    "### 【問題6】学習と推定\n",
    "### 【問題7】学習曲線のプロット"
   ]
  },
  {
   "cell_type": "code",
   "execution_count": 15,
   "metadata": {},
   "outputs": [
    {
     "name": "stdout",
     "output_type": "stream",
     "text": [
      "行列X\n",
      "[[1.000e+00 1.710e+03 2.003e+03]\n",
      " [1.000e+00 1.262e+03 1.976e+03]\n",
      " [1.000e+00 1.786e+03 2.001e+03]\n",
      " ...\n",
      " [1.000e+00 2.340e+03 1.941e+03]\n",
      " [1.000e+00 1.078e+03 1.950e+03]\n",
      " [1.000e+00 1.256e+03 1.965e+03]]\n",
      "ベクトルy\n",
      "[208500 181500 223500 ... 266500 142125 147500]\n",
      "theta_0: -2024976.3639788455\n",
      "theta_1: 95.16733347567298\n",
      "theta_2: 1045.862420162121\n"
     ]
    }
   ],
   "source": [
    "import numpy as np\n",
    "import pandas as pd\n",
    "import matplotlib.pyplot as plt\n",
    "import numpy as np\n",
    "import pandas as pd\n",
    "import plotly.express as px\n",
    "import plotly.graph_objects as go\n",
    "import plotly.io as pio\n",
    "\n",
    "colors = ['#de3838', '#007bc3', '#ffd12a']\n",
    "\n",
    "# area = [17.00, 18.00, 21.00, 24.00, 18.90, 20.66, 23.51, 25.21, 24.94, 30.22]  # 説明変数1\n",
    "# age = [31, 34, 36, 31, 28, 22, 19, 12, 4, 0]  # 説明変数2\n",
    "# rent = [35000, 36000, 39000, 42000, 46000, 50000, 59000, 68000, 73000, 86000]  # 目的変数\n",
    "#\n",
    "# df = pd.DataFrame({\n",
    "#     'area': area,\n",
    "#     'age': age,\n",
    "#     'rent': rent})\n",
    "# データを可視化してみる\n",
    "# fig = px.scatter_3d(df, x='area', y='age', z='rent', color='rent', opacity=0.7)\n",
    "# fig.update_traces(marker=dict(\n",
    "#     size=8,\n",
    "#     line=dict(width=2,color='white')))\n",
    "# fig.update_layout(margin=dict(l=0, r=0, b=0, t=0))\n",
    "# fig.show()\n",
    "\n",
    "df_base = pd.read_csv(\"../data/house-prices-advanced-regression-techniques/train.csv\")\n",
    "df = df_base.loc[:, [\"GrLivArea\", \"YearBuilt\", \"SalePrice\"]]\n",
    "feature_names = [\"GrLivArea\", \"YearBuilt\"]\n",
    "y_name = \"SalePrice\"\n",
    "X = df_base.loc[:, feature_names].values\n",
    "y = df_base[y_name].values\n",
    "ones = np.ones(len(X)).reshape(-1, 1)\n",
    "X = np.hstack((ones, X))\n",
    "\n",
    "# 行列X, ベクトルyの準備\n",
    "X = df[['GrLivArea', 'YearBuilt']].values\n",
    "ones = np.ones(len(X)).reshape(-1, 1)\n",
    "X = np.hstack((ones, X))\n",
    "print('行列X')\n",
    "print(X)\n",
    "y = df['SalePrice'].values\n",
    "print('ベクトルy')\n",
    "print(y)\n",
    "\n",
    "def multiple_regression(X, y):\n",
    "    \"\"\"回帰係数ベクトルを計算する\"\"\"\n",
    "    theta = np.linalg.pinv(X.T @ X) @ X.T @ y\n",
    "    return theta\n",
    "\n",
    "theta = multiple_regression(X, y)\n",
    "theta_0 = theta[0]\n",
    "theta_1 = theta[1]\n",
    "theta_2 = theta[2]\n",
    "\n",
    "print(f'theta_0: {theta_0}')\n",
    "print(f'theta_1: {theta_1}')\n",
    "print(f'theta_2: {theta_2}')\n",
    "\n",
    "\n",
    "# 回帰平面の可視化\n",
    "\n",
    "mesh_size = 1\n",
    "margin = 0.1\n",
    "x1_min, x1_max = df['GrLivArea'].min()-margin, df['GrLivArea'].max()+margin\n",
    "x2_min, x2_max = df['YearBuilt'].min()-margin, df['YearBuilt'].max()+margin\n",
    "x1_range = np.arange(x1_min, x1_max, mesh_size)\n",
    "x2_range = np.arange(x2_min, x2_max, mesh_size)\n",
    "xx1, xx2 = np.meshgrid(x1_range, x2_range)\n",
    "\n",
    "y = (theta_0 + theta_1 * xx1 + theta_2 * xx2)  # 回帰平面\n",
    "\n",
    "# fig = px.scatter_3d(df, x='GrLivArea', y='YearBuilt', z='SalePrice', opacity=0.8)  # データ点のプロット\n",
    "# fig.update_traces(marker=dict(\n",
    "#     color=colors[0],\n",
    "#     size=8,\n",
    "#     line=dict(width=2,color='white')))\n",
    "\n",
    "# fig.add_traces(go.Surface(x=x1_range, y=x2_range, z=y, opacity=0.7))  # 平面のプロット\n",
    "# fig.update_layout(margin=dict(l=0, r=0, b=0, t=0))\n",
    "# fig.show()\n",
    "# pio.write_html(fig, 'multiple-regression_fig2.html', include_plotlyjs='cdn', full_html=False)  # グラフを保存"
   ]
  },
  {
   "cell_type": "markdown",
   "metadata": {},
   "source": [
    "<img src=\"sprint3-img.png\" width=\"500\">\n",
    "<img src=\"graph.png\" width=\"300\">"
   ]
  },
  {
   "cell_type": "code",
   "execution_count": null,
   "metadata": {},
   "outputs": [],
   "source": []
  }
 ],
 "metadata": {
  "kernelspec": {
   "display_name": "Python 3",
   "language": "python",
   "name": "python3"
  },
  "language_info": {
   "codemirror_mode": {
    "name": "ipython",
    "version": 3
   },
   "file_extension": ".py",
   "mimetype": "text/x-python",
   "name": "python",
   "nbconvert_exporter": "python",
   "pygments_lexer": "ipython3",
   "version": "3.8.5"
  }
 },
 "nbformat": 4,
 "nbformat_minor": 4
}
