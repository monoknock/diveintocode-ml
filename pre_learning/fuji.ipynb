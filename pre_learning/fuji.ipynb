{
 "cells": [
  {
   "cell_type": "markdown",
   "metadata": {},
   "source": [
    "### 【問題1】何回折ったら富士山を超えるか\n",
    "```\n",
    "厚さが「富士山の高さ(3776m)」を超えるのに必要な紙を折る最小回数を計算するプログラムを作成してください。\n",
    "```"
   ]
  },
  {
   "cell_type": "code",
   "execution_count": 4,
   "metadata": {},
   "outputs": [
    {
     "name": "stdout",
     "output_type": "stream",
     "text": [
      "富士を超える最小の折り回数: 26 高さ: 5368.70912\n"
     ]
    }
   ],
   "source": [
    "t = 0.00008 # メートル\n",
    "fuji_t = 3776 # メートル\n",
    "\n",
    "current_t = t\n",
    "fold_num = 0\n",
    "while current_t <= fuji_t:\n",
    "    current_t *= 2\n",
    "    fold_num += 1\n",
    "\n",
    "print(f\"富士を超える最小の折り回数: {fold_num} 高さ: {current_t}\")"
   ]
  },
  {
   "cell_type": "markdown",
   "metadata": {},
   "source": [
    "### 【問題2】任意の厚さに対応した関数\n",
    "```\n",
    "高さを入力すると、それを超えるのに必要な紙を折る最小回数を出力する関数を実装してください。\n",
    "引数として、折る前の厚さ t0 も設定できるようにしましょう。\n",
    "\n",
    "この関数を利用して、「最も近い太陽以外の恒星」に到達するには紙を何回折る必要があるか計算してください。\n",
    "「最も近い太陽以外の恒星」は「プロキシマ・ケンタウリ」で、地球からの距離はおよそ \n",
    "4.0175 × 10の16乗m です。\n",
    "```"
   ]
  },
  {
   "cell_type": "code",
   "execution_count": 14,
   "metadata": {},
   "outputs": [
    {
     "name": "stdout",
     "output_type": "stream",
     "text": [
      "最小の折り回数: 70 長さ: 5.902958103587057e+16\n"
     ]
    }
   ],
   "source": [
    "def calc_fold_num(hight, t0=0.00008):\n",
    "    current_t = t0\n",
    "    fold_num = 0\n",
    "    while current_t <= hight:\n",
    "        current_t *= 2\n",
    "        fold_num += 1\n",
    "    return fold_num, current_t\n",
    "\n",
    "# 「プロキシマ・ケンタウリ」 \n",
    "distance = 4.0175 * (10**16)\n",
    "fold_num, h = calc_fold_num(hight=distance, t0=0.00005)\n",
    "print(f\"最小の折り回数: {fold_num} 長さ: {h}\")"
   ]
  },
  {
   "cell_type": "markdown",
   "metadata": {},
   "source": [
    "### 【問題3】必要な紙の長さ\n",
    "```\n",
    "実際のところ身近にある紙は43回はおろか10回も折れません。\n",
    "しかし、大きな紙ほどたくさん折ることができ、トイレットペーパーのような長い紙を\n",
    "一方向に折ることを考えた時の折れる回数を求める公式が存在します。\n",
    "厚さ t0 の紙をn回折るために必要な紙の長さLは以下の公式で求まります。\n",
    "この公式を利用して、実際に紙を折り任意の厚さに到達するために必要な紙の長さを求める関数を実装してください。\n",
    "そしてこれを使って「月」「富士山」「最も近い太陽以外の恒星」に届くために必要な紙の長さを求めてください。\n",
    "```"
   ]
  },
  {
   "cell_type": "code",
   "execution_count": 26,
   "metadata": {},
   "outputs": [
    {
     "name": "stdout",
     "output_type": "stream",
     "text": [
      "月 に届くために必要な紙の長さ: 342555.6251893707 光年\n",
      "富士山 に届くために必要な紙の長さ: 1.993936256637583e-05 光年\n",
      "プロキシマ・ケンタウリ に届くために必要な紙の長さ: 1.542733385955991e+21 光年\n"
     ]
    }
   ],
   "source": [
    "def calc_paper_len(t0, n):\n",
    "    pi = 3.141592 # 以降省略\n",
    "    return ((pi * t0) / 6) * (2**n + 4) * (2**n - 1)\n",
    "\n",
    "t0 = 0.00008 # 単位メートル\n",
    "light_year =  9.461e+15 # 単位光年\n",
    "\n",
    "# 「月」\n",
    "moon_distance = 384_400_000 # 単位メートル\n",
    "moon_fold_num, _ = calc_fold_num(hight=moon_distance, t0=t0)\n",
    "moon_paper_len = calc_paper_len(t0, moon_fold_num)\n",
    "print(f\"月 に届くために必要な紙の長さ: {moon_paper_len /light_year} 光年\")\n",
    "\n",
    "# 「富士山」\n",
    "fuji_distance = 3776 # 単位メートル\n",
    "fuji_fold_num, _ = calc_fold_num(hight=fuji_distance, t0=t0)\n",
    "fuji_paper_len = calc_paper_len(t0, fuji_fold_num)\n",
    "print(f\"富士山 に届くために必要な紙の長さ: {fuji_paper_len /light_year} 光年\")\n",
    "\n",
    "# 「最も近い太陽以外の恒星」「プロキシマ・ケンタウリ」 \n",
    "kenta_distance = 4.0175 * (10**16) # 単位メートル\n",
    "kenta_fold_num, _ = calc_fold_num(hight=kenta_distance, t0=t0)\n",
    "kenta_paper_len = calc_paper_len(t0, kenta_fold_num)\n",
    "print(f\"プロキシマ・ケンタウリ に届くために必要な紙の長さ: {kenta_paper_len /light_year} 光年\")"
   ]
  }
 ],
 "metadata": {
  "kernelspec": {
   "display_name": "Python 3",
   "language": "python",
   "name": "python3"
  },
  "language_info": {
   "codemirror_mode": {
    "name": "ipython",
    "version": 3
   },
   "file_extension": ".py",
   "mimetype": "text/x-python",
   "name": "python",
   "nbconvert_exporter": "python",
   "pygments_lexer": "ipython3",
   "version": "3.8.5"
  }
 },
 "nbformat": 4,
 "nbformat_minor": 4
}
