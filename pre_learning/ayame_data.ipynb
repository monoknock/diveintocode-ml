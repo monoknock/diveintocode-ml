{
 "cells": [
  {
   "cell_type": "markdown",
   "metadata": {},
   "source": [
    "### 【問題1】データの取得\n",
    "```\n",
    "以下のドキュメントを参考にしながら、irisデータセット読み込みましょう。\n",
    "データが読み込めたら、説明変数を下のようなPandasのDataFrame型変数Xに格納してください。列の名前も以下を参考にしてください。\n",
    "```"
   ]
  },
  {
   "cell_type": "code",
   "execution_count": null,
   "metadata": {},
   "outputs": [],
   "source": []
  },
  {
   "cell_type": "markdown",
   "metadata": {},
   "source": [
    "### 【問題2】データの結合\n",
    "```\n",
    "問題1で準備したX,yを結合させたDataFrame型変数dfを作成してください。結合することで扱いやすくなります。これ以降はこのdfを使っていきます。\n",
    "```"
   ]
  },
  {
   "cell_type": "code",
   "execution_count": null,
   "metadata": {},
   "outputs": [],
   "source": []
  },
  {
   "cell_type": "markdown",
   "metadata": {},
   "source": [
    "### 【問題3】データの確認\n",
    "```\n",
    "今回扱うデータがどのようなものなのかを確認します。以下の4つを行ってください。\n",
    "\n",
    "先頭から4番目までのサンプルを表示させ、各特徴量がどういったものかを見る。（数値データか文字データかなど）\n",
    "ラベルごとのサンプル数の合計を出力する。\n",
    "特徴量に欠損値があるかを確認する。\n",
    "特徴量の平均値と標準偏差、四分位数を一度に表示させる。\n",
    "\n",
    "DataFrameのメソッドである.head(),.info(),.describe(),.isnull(),.sum()や、Seriesのメソッドである.value_countsなどを使ってみましょう。\n",
    "```"
   ]
  },
  {
   "cell_type": "code",
   "execution_count": null,
   "metadata": {},
   "outputs": [],
   "source": []
  },
  {
   "cell_type": "markdown",
   "metadata": {},
   "source": [
    "### 【問題4】irisデータセット自体の調査\n",
    "```\n",
    "ページのはじめで「カナダのガスペ半島のある牧草地で」と書きましたが、\n",
    "データセット自体についてもう少し調査しておきましょう。データセットを見る上で、\n",
    "そのデータセット自体について知っておくことも大切です。\n",
    "```"
   ]
  },
  {
   "cell_type": "code",
   "execution_count": null,
   "metadata": {},
   "outputs": [],
   "source": []
  },
  {
   "cell_type": "markdown",
   "metadata": {},
   "source": [
    "### 【問題5】必要なデータを抽出\n",
    "```\n",
    "DataFrameから必要なデータを抽出する方法を確認していきます。以下を行ってください。\n",
    "\n",
    "sepal_widthの列を３つの異なる方法で抽出する\n",
    "50番目から99番目までのデータを抽出する\n",
    "petal_lengthの列の50番目から99番目までのデータを抽出する\n",
    "petal_widthの値が0.2のデータを抽出する\n",
    "\n",
    ".locや.ilocを使うことになります。この２つはどう違うのかについて説明してください。\n",
    "```"
   ]
  },
  {
   "cell_type": "code",
   "execution_count": null,
   "metadata": {},
   "outputs": [],
   "source": []
  },
  {
   "cell_type": "markdown",
   "metadata": {},
   "source": [
    "### 【問題6】図の作成\n",
    "```\n",
    "データは可視化して確認することが大切です。次の3つを行ってください。作図のライブラリはMatplotlibの他seabornもよく使われます。\n",
    "\n",
    "ラベルごとのサンプル数を円グラフにする（パーセンテージまで表示する）\n",
    "特徴量を一つずつ選び、箱ひげ図を使ってラベルごとのデータの分布を可視化する\n",
    "特徴量を一つずつ選び、バイオリン図を使ってラベルごとのデータの分布を可視化する\n",
    "\n",
    "箱ひげ図とバイオリン図は似た図を表示します。これらはどう違い、それぞれどのような利点があるのかについて説明してください。\n",
    "```"
   ]
  },
  {
   "cell_type": "code",
   "execution_count": null,
   "metadata": {},
   "outputs": [],
   "source": []
  },
  {
   "cell_type": "markdown",
   "metadata": {},
   "source": [
    "### 【問題7】特徴量間の関係の確認\n",
    "```\n",
    "特徴量間の関係を見ていきます。次の4つを行ってください。\n",
    "\n",
    "４つの特徴量から２つ選ぶようなすべての組み合わせ（６つ）の散布図を種類ごとに色分けして作る。\n",
    "以下の図はそのうち一つの例です。\n",
    "```"
   ]
  },
  {
   "cell_type": "code",
   "execution_count": null,
   "metadata": {},
   "outputs": [],
   "source": []
  },
  {
   "cell_type": "markdown",
   "metadata": {},
   "source": [
    "### 【問題8】可視化したグラフや表の結果の説明\n",
    "```\n",
    "データを探索した時には、結果を述べる（+考察する）ことが大切です。\n",
    "ここまでで作成した表や図から読み取れることや気づきを説明してください。\n",
    "例えば、散布図行列を見ながら、3種類のアヤメにはどのような違いがあるかを説明してください。\n",
    "```"
   ]
  },
  {
   "cell_type": "code",
   "execution_count": null,
   "metadata": {},
   "outputs": [],
   "source": []
  }
 ],
 "metadata": {
  "kernelspec": {
   "display_name": "Python 3",
   "language": "python",
   "name": "python3"
  },
  "language_info": {
   "codemirror_mode": {
    "name": "ipython",
    "version": 3
   },
   "file_extension": ".py",
   "mimetype": "text/x-python",
   "name": "python",
   "nbconvert_exporter": "python",
   "pygments_lexer": "ipython3",
   "version": "3.8.5"
  }
 },
 "nbformat": 4,
 "nbformat_minor": 4
}
