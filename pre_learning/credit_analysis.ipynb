{
 "cells": [
  {
   "cell_type": "markdown",
   "metadata": {},
   "source": [
    "### 【問題1】コンペティション内容の把握\n",
    "```\n",
    "コンペティションのOverviewページ読み、「Home Credit Default Risk」は\n",
    "どのようなコンペティションか、以下の観点からレポートしてください。\n",
    "\n",
    "Home Creditはどのような企業？\n",
    "このコンペティションでは何を予測する？\n",
    "それを予測することで企業が得られるメリットは何？\n",
    "```"
   ]
  },
  {
   "cell_type": "code",
   "execution_count": null,
   "metadata": {},
   "outputs": [],
   "source": []
  },
  {
   "cell_type": "markdown",
   "metadata": {},
   "source": [
    "### 【問題2】データの概観の把握\n",
    "```\n",
    "データの概観を把握するために以下のようなことを行ってください。\n",
    "\n",
    ".head()、.info()、describe()などを使う\n",
    "欠損値の有無を見る\n",
    "クラスの割合がわかるグラフを描く\n",
    "\n",
    "それぞれ結果に対する説明や考察も行ってください\n",
    "```"
   ]
  },
  {
   "cell_type": "code",
   "execution_count": null,
   "metadata": {},
   "outputs": [],
   "source": []
  },
  {
   "cell_type": "markdown",
   "metadata": {},
   "source": [
    "### 【問題3】課題設定\n",
    "```\n",
    "データの概観を見たことを元に、自分なりの課題・疑問を複数設定してください。\n",
    "```"
   ]
  },
  {
   "cell_type": "code",
   "execution_count": null,
   "metadata": {},
   "outputs": [],
   "source": []
  },
  {
   "cell_type": "markdown",
   "metadata": {},
   "source": [
    "### 【問題4】データ探索\n",
    "```\n",
    "問題3で設定した課題・疑問を解決するためにデータ探索を進めます。\n",
    "探索で使用する表やグラフを、考察と共に 15個以上 作成してください。\n",
    "探索過程で新しい疑問点が生まれた場合は、問題3の回答に加えていってください。\n",
    "```"
   ]
  },
  {
   "cell_type": "code",
   "execution_count": null,
   "metadata": {},
   "outputs": [],
   "source": []
  },
  {
   "cell_type": "markdown",
   "metadata": {},
   "source": [
    "### 【問題5】（アドバンス課題）Notebooksへの投稿\n",
    "```\n",
    "必須ではありませんが、コンペティションのNotebooksページに今回作成したEDAのノートブックを投稿することを推奨しています。\n",
    "```"
   ]
  },
  {
   "cell_type": "code",
   "execution_count": null,
   "metadata": {},
   "outputs": [],
   "source": []
  }
 ],
 "metadata": {
  "kernelspec": {
   "display_name": "Python 3",
   "language": "python",
   "name": "python3"
  },
  "language_info": {
   "codemirror_mode": {
    "name": "ipython",
    "version": 3
   },
   "file_extension": ".py",
   "mimetype": "text/x-python",
   "name": "python",
   "nbconvert_exporter": "python",
   "pygments_lexer": "ipython3",
   "version": "3.8.5"
  }
 },
 "nbformat": 4,
 "nbformat_minor": 4
}
