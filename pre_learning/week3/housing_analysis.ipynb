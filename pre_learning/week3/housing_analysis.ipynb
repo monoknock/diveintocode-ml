{
 "cells": [
  {
   "cell_type": "markdown",
   "metadata": {},
   "source": [
    "### 【問題1】データセットの取得\n",
    "```\n",
    "pd.read_csv()を使用して、変数に格納してください。\n",
    "```"
   ]
  },
  {
   "cell_type": "code",
   "execution_count": null,
   "metadata": {},
   "outputs": [],
   "source": []
  },
  {
   "cell_type": "markdown",
   "metadata": {},
   "source": [
    "### 【問題2】データセット自体の調査\n",
    "```\n",
    "KaggleのOverviewページや、Dataページの「Data fields」などを読みながら、どのようなデータセットかを説明してください。\n",
    "```"
   ]
  },
  {
   "cell_type": "code",
   "execution_count": null,
   "metadata": {},
   "outputs": [],
   "source": []
  },
  {
   "cell_type": "markdown",
   "metadata": {},
   "source": [
    "### 【問題3】データの確認\n",
    "```\n",
    "データを確認していきます。コードとマークダウンを組み合わせてレポートしてください。\n",
    "\n",
    "各特徴量がどういったものかを見る。（数値データか文字データなど）\n",
    "今回の目的変数はどの列か確認する。\n",
    "特徴量の平均値と標準偏差、四分位数を一度に表示させる。\n",
    "```"
   ]
  },
  {
   "cell_type": "code",
   "execution_count": null,
   "metadata": {},
   "outputs": [],
   "source": []
  },
  {
   "cell_type": "markdown",
   "metadata": {},
   "source": [
    "### 【問題4】欠損値への対応\n",
    "```\n",
    "欠損値に関して以下のことを行い、レポートしてください。\n",
    "各特徴量の欠損値の有無を確認する。\n",
    "```"
   ]
  },
  {
   "cell_type": "code",
   "execution_count": null,
   "metadata": {},
   "outputs": [],
   "source": []
  },
  {
   "cell_type": "markdown",
   "metadata": {},
   "source": [
    "### 【問題5】用語の調査\n",
    "```\n",
    "以下の２つの単語を知る必要があります。これらを調査してまとめてください。\n",
    "\n",
    "尖度\n",
    "歪度\n",
    "```"
   ]
  },
  {
   "cell_type": "code",
   "execution_count": null,
   "metadata": {},
   "outputs": [],
   "source": []
  },
  {
   "cell_type": "markdown",
   "metadata": {},
   "source": [
    "### 【問題6】分布の確認\n",
    "```\n",
    "seabornのsns.displot()やsns.histplot()を使い目的変数の分布を表示し、「尖度」と「歪度」も算出する。\n",
    "目的変数に対して対数変換を行う。\n",
    "対数変換したものに対して分布を表示し、「尖度」と「歪度」も算出する。\n",
    "\n",
    "対数変換の前後での変化を「正規分布」という言葉を含めて説明してください。このように加工することで予測時の精度を上げることができます。\n",
    "```"
   ]
  },
  {
   "cell_type": "code",
   "execution_count": null,
   "metadata": {},
   "outputs": [],
   "source": []
  },
  {
   "cell_type": "markdown",
   "metadata": {},
   "source": [
    "### 【問題7】相関係数の確認\n",
    "```\n",
    "特徴量の確認をしていきます。それぞれに対してマークダウンで説明や考察を書いてください。\n",
    "\n",
    "相関係数行列のヒートマップを作り、相関係数の高い関係を見つける。\n",
    "目的変数との相関の高い特徴量10個を選び、これらだけの相関係数行列ヒートマップを作る。\n",
    "選んだ10個の特徴量が何か表しているかをKaggleのDataDescriptionの記述を参考に日本語でまとめる。\n",
    "選んだ10個の特徴量の中でお互いの相関係数が高い組み合わせを3つ探し出す。\n",
    "```"
   ]
  },
  {
   "cell_type": "code",
   "execution_count": null,
   "metadata": {},
   "outputs": [],
   "source": []
  }
 ],
 "metadata": {
  "kernelspec": {
   "display_name": "Python 3",
   "language": "python",
   "name": "python3"
  },
  "language_info": {
   "codemirror_mode": {
    "name": "ipython",
    "version": 3
   },
   "file_extension": ".py",
   "mimetype": "text/x-python",
   "name": "python",
   "nbconvert_exporter": "python",
   "pygments_lexer": "ipython3",
   "version": "3.8.5"
  }
 },
 "nbformat": 4,
 "nbformat_minor": 4
}
