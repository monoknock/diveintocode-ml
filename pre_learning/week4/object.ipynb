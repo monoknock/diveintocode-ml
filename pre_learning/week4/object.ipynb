{
 "cells": [
  {
   "cell_type": "markdown",
   "metadata": {},
   "source": [
    "### 【問題1】これまで利用してきたクラスの列挙\n",
    "```\n",
    "クラスを使う際はインスタンス化を行うことと、クラスの命名法がわかりました。\n",
    "この情報を元に、これまでの課題で利用してきたコードの中でどのようなクラスがあったかを答えてください。\n",
    "Pandas、matplotlib、scikit-learnからそれぞれ1つ以上見つけてください。\n",
    "```"
   ]
  },
  {
   "cell_type": "markdown",
   "metadata": {},
   "source": [
    "DataFrame , Figure, KMeans"
   ]
  },
  {
   "cell_type": "markdown",
   "metadata": {},
   "source": [
    "### 【問題2】これまで利用してきたメソッドやインスタンス変数の列挙\n",
    "```\n",
    "これまでの課題で利用してきたコードの中でどのようなメソッドやインスタンス変数があったかを答えてください。\n",
    "最低でもそれぞれ5つ以上答えてください。\n",
    "```"
   ]
  },
  {
   "cell_type": "code",
   "execution_count": null,
   "metadata": {},
   "outputs": [],
   "source": [
    "メソッド(numpy)\n",
    "- array\n",
    "- arange\n",
    "- concatenate\n",
    "- argmin\n",
    "- min\n",
    "\n",
    "インスタント変数(numpy)\n",
    "- dtype"
   ]
  },
  {
   "cell_type": "markdown",
   "metadata": {},
   "source": [
    "### 【問題3】標準化クラスをスクラッチで作成\n",
    "```\n",
    "理解をより深めるため、StandardScalerをスクラッチで作成しましょう。\n",
    "scikit-learnは使わず、NumPyなどを活用して標準化の計算を記述します。\n",
    "具体的にはfitメソッドとtransformメソッドを作ります。\n",
    "今回は雛形を用意しました。クラスの作成方法は関数に近いです。\n",
    "メソッドはクラスの中にさらにインデントを一段下げて記述します。\n",
    "インスタンス変数を作成する際はself.mean_のようにselfを付けます。\n",
    "クラスの外からscaler.mean_と書いていたscalerの部分が自分自身を表すselfになっています。\n",
    "```"
   ]
  },
  {
   "cell_type": "code",
   "execution_count": null,
   "metadata": {},
   "outputs": [],
   "source": []
  },
  {
   "cell_type": "markdown",
   "metadata": {},
   "source": [
    "### 【問題4】 四則演算を行うクラスの作成\n",
    "```\n",
    "上記ExampleClassは足し算のメソッドを持っていますが、これに引き算、掛け算、割り算のメソッドを加えてください。\n",
    "コンストラクタに入力されたvalueが文字列や配列など数値以外だった場合にはエラーを出すようにしてください。\n",
    "クラス名や説明文も適切に書き換えてください。\n",
    "```"
   ]
  },
  {
   "cell_type": "code",
   "execution_count": null,
   "metadata": {},
   "outputs": [],
   "source": []
  }
 ],
 "metadata": {
  "kernelspec": {
   "display_name": "Python 3",
   "language": "python",
   "name": "python3"
  },
  "language_info": {
   "codemirror_mode": {
    "name": "ipython",
    "version": 3
   },
   "file_extension": ".py",
   "mimetype": "text/x-python",
   "name": "python",
   "nbconvert_exporter": "python",
   "pygments_lexer": "ipython3",
   "version": "3.8.5"
  }
 },
 "nbformat": 4,
 "nbformat_minor": 4
}
