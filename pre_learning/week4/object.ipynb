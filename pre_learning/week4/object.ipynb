{
 "cells": [
  {
   "cell_type": "markdown",
   "metadata": {},
   "source": [
    "### 【問題1】これまで利用してきたクラスの列挙\n",
    "```\n",
    "クラスを使う際はインスタンス化を行うことと、クラスの命名法がわかりました。\n",
    "この情報を元に、これまでの課題で利用してきたコードの中でどのようなクラスがあったかを答えてください。\n",
    "Pandas、matplotlib、scikit-learnからそれぞれ1つ以上見つけてください。\n",
    "```"
   ]
  },
  {
   "cell_type": "markdown",
   "metadata": {},
   "source": [
    "DataFrame , Figure, KMeans"
   ]
  },
  {
   "cell_type": "markdown",
   "metadata": {},
   "source": [
    "### 【問題2】これまで利用してきたメソッドやインスタンス変数の列挙\n",
    "```\n",
    "これまでの課題で利用してきたコードの中でどのようなメソッドやインスタンス変数があったかを答えてください。\n",
    "最低でもそれぞれ5つ以上答えてください。\n",
    "```"
   ]
  },
  {
   "cell_type": "code",
   "execution_count": null,
   "metadata": {},
   "outputs": [],
   "source": [
    "メソッド\n",
    "- numpy.array\n",
    "- numpy.arange\n",
    "- numpy.concatenate\n",
    "- numpy.argmin\n",
    "- numpy.min\n",
    "\n",
    "インスタンス変数\n",
    "- numpy.ndarray.dtype\n",
    "- numpy.ndarray.shape\n",
    "- numpy.ndarray.flags\n",
    "- numpy.ndarray.data\n",
    "- numpy.ndarray.itemsize"
   ]
  },
  {
   "cell_type": "markdown",
   "metadata": {},
   "source": [
    "### 【問題3】標準化クラスをスクラッチで作成\n",
    "```\n",
    "理解をより深めるため、cをスクラッチで作成しましょう。\n",
    "scikit-learnは使わず、NumPyなどを活用して標準化の計算を記述します。\n",
    "具体的にはfitメソッドとtransformメソッドを作ります。\n",
    "今回は雛形を用意しました。クラスの作成方法は関数に近いです。\n",
    "メソッドはクラスの中にさらにインデントを一段下げて記述します。\n",
    "インスタンス変数を作成する際はself.mean_のようにselfを付けます。\n",
    "クラスの外からscaler.mean_と書いていたscalerの部分が自分自身を表すselfになっています。\n",
    "```"
   ]
  },
  {
   "cell_type": "code",
   "execution_count": 30,
   "metadata": {},
   "outputs": [],
   "source": [
    "class ScratchStandardScaler():\n",
    "    \"\"\"\n",
    "    標準化のためのクラス\n",
    "    Attributes\n",
    "    ----------\n",
    "    mean_ : 次の形のndarray, shape(n_features,)\n",
    "        平均\n",
    "    var_ : 次の形のndarray, shape(n_features,)\n",
    "        分散\n",
    "    \"\"\"\n",
    "    def fit(self, X):\n",
    "        \"\"\"\n",
    "        標準化のために平均と標準偏差を計算する。\n",
    "        Parameters\n",
    "        ----------\n",
    "        X : 次の形のndarray, shape (n_samples, n_features)\n",
    "            訓練データ\n",
    "        \"\"\"\n",
    "        self.mean_ = X.mean(axis=0)\n",
    "        self.var_ = X.var(axis=0)\n",
    "\n",
    "    def transform(self, X):\n",
    "        \"\"\"\n",
    "        fitで求めた値を使い標準化を行う。\n",
    "        Parameters\n",
    "        ----------\n",
    "        X : 次の形のndarray, shape (n_samples, n_features)\n",
    "            特徴量\n",
    "        Returns\n",
    "        ----------\n",
    "        X_scaled : 次の形のndarray, shape (n_samples, n_features)\n",
    "            標準化された特緒量\n",
    "        \"\"\"\n",
    "        return (X - self.mean_) / np.sqrt(self.var_)"
   ]
  },
  {
   "cell_type": "code",
   "execution_count": 31,
   "metadata": {},
   "outputs": [
    {
     "name": "stdout",
     "output_type": "stream",
     "text": [
      "平均 : [4.86 3.31 1.45 0.22]\n",
      "分散 : [0.0764 0.0849 0.0105 0.0056]\n"
     ]
    },
    {
     "data": {
      "text/plain": [
       "array([ 0.86828953,  6.1432641 , 35.62035266, 65.21174303])"
      ]
     },
     "metadata": {},
     "output_type": "display_data"
    },
    {
     "name": "stdout",
     "output_type": "stream",
     "text": [
      "[[ 0.86828953  0.65207831 -0.48795004 -0.26726124]\n",
      " [ 0.14471492 -1.06391725 -0.48795004 -0.26726124]\n",
      " [-0.57885968 -0.37751902 -1.46385011 -0.26726124]\n",
      " [-0.94064699 -0.72071813  0.48795004 -0.26726124]\n",
      " [ 0.50650222  0.99527742 -0.48795004 -0.26726124]\n",
      " [ 1.95365143  2.02487476  2.43975018  2.40535118]\n",
      " [-0.94064699  0.3088792  -0.48795004  1.06904497]\n",
      " [ 0.50650222  0.3088792   0.48795004 -0.26726124]\n",
      " [-1.66422159 -1.40711636 -0.48795004 -0.26726124]\n",
      " [ 0.14471492 -0.72071813  0.48795004 -1.60356745]]\n"
     ]
    }
   ],
   "source": [
    "import numpy as np\n",
    "from sklearn.datasets import load_iris\n",
    "data = load_iris()\n",
    "X = data.data[:10]\n",
    "scratch_scaler = ScratchStandardScaler()\n",
    "scratch_scaler.fit(X)\n",
    "print(\"平均 : {}\".format(scratch_scaler.mean_))\n",
    "print(\"分散 : {}\".format(scratch_scaler.var_))\n",
    "X_std = scratch_scaler.transform(X)\n",
    "print(X_std)"
   ]
  },
  {
   "cell_type": "code",
   "execution_count": 32,
   "metadata": {},
   "outputs": [
    {
     "data": {
      "text/plain": [
       "2.46"
      ]
     },
     "metadata": {},
     "output_type": "display_data"
    },
    {
     "data": {
      "text/plain": [
       "3.1744"
      ]
     },
     "metadata": {},
     "output_type": "display_data"
    },
    {
     "data": {
      "text/plain": [
       "1.781684596105607"
      ]
     },
     "metadata": {},
     "output_type": "display_data"
    },
    {
     "data": {
      "text/plain": [
       "1.781684596105607"
      ]
     },
     "metadata": {},
     "output_type": "display_data"
    },
    {
     "data": {
      "text/plain": [
       "array([4.86, 3.31, 1.45, 0.22])"
      ]
     },
     "metadata": {},
     "output_type": "display_data"
    },
    {
     "data": {
      "text/plain": [
       "array([0.0764, 0.0849, 0.0105, 0.0056])"
      ]
     },
     "metadata": {},
     "output_type": "display_data"
    },
    {
     "data": {
      "text/plain": [
       "array([[ 0.86828953,  0.65207831, -0.48795004, -0.26726124],\n",
       "       [ 0.14471492, -1.06391725, -0.48795004, -0.26726124],\n",
       "       [-0.57885968, -0.37751902, -1.46385011, -0.26726124],\n",
       "       [-0.94064699, -0.72071813,  0.48795004, -0.26726124],\n",
       "       [ 0.50650222,  0.99527742, -0.48795004, -0.26726124],\n",
       "       [ 1.95365143,  2.02487476,  2.43975018,  2.40535118],\n",
       "       [-0.94064699,  0.3088792 , -0.48795004,  1.06904497],\n",
       "       [ 0.50650222,  0.3088792 ,  0.48795004, -0.26726124],\n",
       "       [-1.66422159, -1.40711636, -0.48795004, -0.26726124],\n",
       "       [ 0.14471492, -0.72071813,  0.48795004, -1.60356745]])"
      ]
     },
     "metadata": {},
     "output_type": "display_data"
    }
   ],
   "source": [
    "# 検算用\n",
    "from sklearn.preprocessing import StandardScaler\n",
    "scaler = StandardScaler()\n",
    "scaler.fit(X)\n",
    "display(X.mean())\n",
    "display(X.var())\n",
    "display(X.std())\n",
    "display(np.sqrt(X.var()))\n",
    "display(scaler.mean_)\n",
    "display(scaler.var_)\n",
    "x_tran = scaler.transform(X)\n",
    "display(x_tran)"
   ]
  },
  {
   "cell_type": "markdown",
   "metadata": {},
   "source": [
    "### 【問題4】 四則演算を行うクラスの作成\n",
    "```\n",
    "上記ExampleClassは足し算のメソッドを持っていますが、これに引き算、掛け算、割り算のメソッドを加えてください。\n",
    "コンストラクタに入力されたvalueが文字列や配列など数値以外だった場合にはエラーを出すようにしてください。\n",
    "クラス名や説明文も適切に書き換えてください。\n",
    "```"
   ]
  },
  {
   "cell_type": "code",
   "execution_count": 50,
   "metadata": {},
   "outputs": [
    {
     "name": "stdout",
     "output_type": "stream",
     "text": [
      "初期値5が設定されました\n",
      "value : 5\n",
      "value : 8\n",
      "value : 5\n",
      "value : 15\n",
      "value : 5.0\n"
     ]
    }
   ],
   "source": [
    "class ExampleClass():\n",
    "    \"\"\"\n",
    "    説明用の簡単なクラス\n",
    "    Parameters\n",
    "    ----------\n",
    "    value : float or int\n",
    "        初期値\n",
    "    Attributes\n",
    "    ----------\n",
    "    value : float or int\n",
    "        計算結果\n",
    "    \"\"\"\n",
    "    def __init__(self, value):\n",
    "        if( not (type(value) in (int, float))):\n",
    "            raise\n",
    "        self.value = value\n",
    "        print(\"初期値{}が設定されました\".format(self.value))\n",
    "\n",
    "    def add(self, value2):\n",
    "        \"\"\"\n",
    "        受け取った引数をself.valueに加える\n",
    "        \"\"\"\n",
    "        self.value += value2\n",
    "\n",
    "    def minus(self, value2):\n",
    "        \"\"\"\n",
    "        受け取った引数を引く\n",
    "        \"\"\"\n",
    "        self.value -= value2\n",
    "\n",
    "    def division(self, value2):\n",
    "        \"\"\"\n",
    "        受け取った引数を割る\n",
    "        \"\"\"\n",
    "        self.value /= value2\n",
    "\n",
    "    def multiplication(self, value2):\n",
    "        \"\"\"\n",
    "        受け取った引数を掛ける\n",
    "        \"\"\"\n",
    "        self.value *= value2\n",
    "\n",
    "example = ExampleClass(5)\n",
    "print(\"value : {}\".format(example.value))\n",
    "example.add(3)\n",
    "print(\"value : {}\".format(example.value))\n",
    "example.minus(3)\n",
    "print(\"value : {}\".format(example.value))\n",
    "example.multiplication(3)\n",
    "print(\"value : {}\".format(example.value))\n",
    "example.division(3)\n",
    "print(\"value : {}\".format(example.value))"
   ]
  },
  {
   "cell_type": "code",
   "execution_count": null,
   "metadata": {},
   "outputs": [],
   "source": []
  }
 ],
 "metadata": {
  "kernelspec": {
   "display_name": "Python 3",
   "language": "python",
   "name": "python3"
  },
  "language_info": {
   "codemirror_mode": {
    "name": "ipython",
    "version": 3
   },
   "file_extension": ".py",
   "mimetype": "text/x-python",
   "name": "python",
   "nbconvert_exporter": "python",
   "pygments_lexer": "ipython3",
   "version": "3.8.5"
  }
 },
 "nbformat": 4,
 "nbformat_minor": 4
}
