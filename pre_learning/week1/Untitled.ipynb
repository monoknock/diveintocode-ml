{
 "cells": [
  {
   "cell_type": "code",
   "execution_count": 16,
   "metadata": {},
   "outputs": [
    {
     "name": "stdout",
     "output_type": "stream",
     "text": [
      "[1, 2]\n",
      "[1, 2]\n",
      "[1, 4]\n"
     ]
    }
   ],
   "source": [
    "hoge = []\n",
    "for i in [1, 2]:\n",
    "    hoge.append(i)\n",
    "    \n",
    "print(hoge)\n",
    "    \n",
    "fuga = [i for i in [1, 2]]\n",
    "print(fuga)\n",
    "\n",
    "for i in [1, 2]:\n",
    "    def a():\n",
    "        return i\n",
    "\n",
    "print( [i**2 for i in [1, 2]] )"
   ]
  },
  {
   "cell_type": "code",
   "execution_count": null,
   "metadata": {},
   "outputs": [],
   "source": []
  }
 ],
 "metadata": {
  "kernelspec": {
   "display_name": "Python 3",
   "language": "python",
   "name": "python3"
  },
  "language_info": {
   "codemirror_mode": {
    "name": "ipython",
    "version": 3
   },
   "file_extension": ".py",
   "mimetype": "text/x-python",
   "name": "python",
   "nbconvert_exporter": "python",
   "pygments_lexer": "ipython3",
   "version": "3.8.5"
  }
 },
 "nbformat": 4,
 "nbformat_minor": 4
}
