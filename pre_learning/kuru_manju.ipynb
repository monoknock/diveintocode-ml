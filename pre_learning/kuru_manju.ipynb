{
 "cells": [
  {
   "cell_type": "markdown",
   "metadata": {},
   "source": [
    "### 【問題】栗まんじゅうが太陽系を覆う日\n",
    "```\n",
    "1個の栗まんじゅうにバイバインを振りかけた場合、太陽系が栗まんじゅうで覆われる\n",
    "のは何分後でしょうか。これを計算するプログラムを作成してください。\n",
    "\n",
    "栗まんじゅうや太陽系の体積を調査した上で仮定して計算してください。\n",
    "栗まんじゅうの隙間や重力などは考えず、問題を単純化して構いません。\n",
    "\n",
    "ボールにバイバインを振りかけた時、東京ドームが一杯になる時間など他の状況にも\n",
    "適用できるような汎用的なプログラムを作成してください。\n",
    "また、グラフを表示するなど分かりやすいノートブックを作成してください。\n",
    "```"
   ]
  },
  {
   "cell_type": "code",
   "execution_count": 5,
   "metadata": {},
   "outputs": [
    {
     "name": "stdout",
     "output_type": "stream",
     "text": [
      "太陽系が栗まんじゅうで満たされるまでの時間: 815分\n"
     ]
    }
   ],
   "source": [
    "def calc_baibain(vol_a, vol_b):\n",
    "    sum_vol_a = vol_a\n",
    "    ctn = 0\n",
    "    baibain_interval = 5 # 単位分\n",
    "    while sum_vol_a < vol_b: # 満たされない間\n",
    "        sum_vol_a *= 2\n",
    "        ctn += 1\n",
    "    return ctn * baibain_interval, sum_vol_a\n",
    "\n",
    "kuri_vol = (5 * 5 * 5) / 100 # 栗まんじゅうの体積 (縦横高すべて5cmとする) (立方メートル)\n",
    "pi = 3.1415 #  円周率\n",
    "solor_system_radius = 15_000_000_000_000_000 # 太陽系の半径 = 1.575光年 = 約15兆km = 約1京5000兆メートル\n",
    "solar_system_vol = 3 / 4 * pi * (radius ** 3)\n",
    "\n",
    "elapsed_time, debug_vol = calc_baibain(kuri_vol, solar_system_vol)\n",
    "\n",
    "print(f\"太陽系が栗まんじゅうで満たされるまでの時間: {elapsed_time}分\")"
   ]
  }
 ],
 "metadata": {
  "kernelspec": {
   "display_name": "Python 3",
   "language": "python",
   "name": "python3"
  },
  "language_info": {
   "codemirror_mode": {
    "name": "ipython",
    "version": 3
   },
   "file_extension": ".py",
   "mimetype": "text/x-python",
   "name": "python",
   "nbconvert_exporter": "python",
   "pygments_lexer": "ipython3",
   "version": "3.8.5"
  }
 },
 "nbformat": 4,
 "nbformat_minor": 4
}
